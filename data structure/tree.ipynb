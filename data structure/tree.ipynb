{
 "cells": [
  {
   "cell_type": "code",
   "execution_count": 1,
   "metadata": {},
   "outputs": [],
   "source": [
    "# Tree는 Linked list로 연결되어 있다.\n",
    "# 우선 Linked list 구현\n",
    "\n",
    "class Node:\n",
    "    def __init__(self, value):\n",
    "        self.value = value\n",
    "        self.left = None\n",
    "        self.right = None"
   ]
  },
  {
   "cell_type": "code",
   "execution_count": 3,
   "metadata": {},
   "outputs": [],
   "source": [
    "class NodeMgmt:\n",
    "    def __init__(self, head):\n",
    "        self.head = head\n",
    "    \n",
    "    def insert(self, value):\n",
    "        self.current_node = self.head\n",
    "        while True:\n",
    "            if value < self.current_node.value:\n",
    "                if self.current_node.left:\n",
    "                    self.current_node = self.current_node.left\n",
    "                else:\n",
    "                    self.current_node.left = Node(value)\n",
    "                    break\n",
    "            else:\n",
    "                if self.current_node.right:\n",
    "                    self.current_node = self.current_node.right\n",
    "                else:\n",
    "                    self.current_node.right = Node(value)\n",
    "                    break"
   ]
  },
  {
   "cell_type": "code",
   "execution_count": 4,
   "metadata": {},
   "outputs": [],
   "source": [
    "head = Node(1)\n",
    "BST = NodeMgmt(head)\n",
    "BST.insert(2)"
   ]
  },
  {
   "cell_type": "code",
   "execution_count": 5,
   "metadata": {},
   "outputs": [],
   "source": [
    "#탐색\n",
    "class NodeMgmt:\n",
    "    def __init__(self, head):\n",
    "        self.head = head\n",
    "    \n",
    "    def insert(self, value):\n",
    "        self.current_node = self.head\n",
    "        while True:\n",
    "            if value < self.current_node.value:\n",
    "                if self.current_node.left:\n",
    "                    self.current_node = self.current_node.left\n",
    "                else:\n",
    "                    self.current_node.left = Node(value)\n",
    "                    break\n",
    "            else:\n",
    "                if self.current_node.right:\n",
    "                    self.current_node = self.current_node.right\n",
    "                else:\n",
    "                    self.current_node.right = Node(value)\n",
    "                    break\n",
    "    \n",
    "    def search(self, value):\n",
    "        self.current_node = self.head\n",
    "        while True:\n",
    "            if self.current_node.value == value:\n",
    "                return True\n",
    "            else:\n",
    "                if self.current_node.value > value:\n",
    "                    if self.current_node.left:\n",
    "                        self.current_node = self.current_node.left\n",
    "                    else:\n",
    "                        return False\n",
    "                else:\n",
    "                    if self.current_node.right:\n",
    "                        self.current_node = self.current_node.right\n",
    "                    else:\n",
    "                        return False"
   ]
  },
  {
   "cell_type": "markdown",
   "metadata": {},
   "source": [
    "## return False 구문이 두개가 있고 반복해서 나오는 구조 => 함축이 가능할 수 있다 여기서는 없으면 끝낸다라는 논리기 떄문에 줄일 수 있다."
   ]
  },
  {
   "cell_type": "code",
   "execution_count": 7,
   "metadata": {},
   "outputs": [],
   "source": [
    "class NodeMgmt:\n",
    "    def __init__(self, head):\n",
    "        self.head = head\n",
    "    \n",
    "    def insert(self, value):\n",
    "        self.current_node = self.head\n",
    "        while True:\n",
    "            if value < self.current_node.value:\n",
    "                if self.current_node.left:\n",
    "                    self.current_node = self.current_node.left\n",
    "                else:\n",
    "                    self.current_node.left = Node(value)\n",
    "                    break\n",
    "            else:\n",
    "                if self.current_node.right:\n",
    "                    self.current_node = self.current_node.right\n",
    "                else:\n",
    "                    self.current_node.right = Node(value)\n",
    "                    break\n",
    "    \n",
    "    def search(self, value):\n",
    "        self.current_node = self.head\n",
    "        while self.current_node:\n",
    "            if self.current_node.value == value:\n",
    "                return True\n",
    "            elif self.current_node.value > value:\n",
    "                self.current_node = self.current_node.left\n",
    "            else:\n",
    "                self.current_node = self.current_node.right\n",
    "        return False"
   ]
  },
  {
   "cell_type": "code",
   "execution_count": 8,
   "metadata": {},
   "outputs": [],
   "source": [
    "head = Node(1)\n",
    "BST = NodeMgmt(head)\n",
    "BST.insert(2)\n",
    "BST.insert(3)\n",
    "BST.insert(0)\n",
    "BST.insert(4)\n",
    "BST.insert(8)"
   ]
  },
  {
   "cell_type": "code",
   "execution_count": 14,
   "metadata": {},
   "outputs": [
    {
     "data": {
      "text/plain": [
       "True"
      ]
     },
     "execution_count": 14,
     "metadata": {},
     "output_type": "execute_result"
    }
   ],
   "source": [
    "BST.search(1)"
   ]
  },
  {
   "cell_type": "code",
   "execution_count": null,
   "metadata": {},
   "outputs": [],
   "source": []
  }
 ],
 "metadata": {
  "kernelspec": {
   "display_name": "Python 3",
   "language": "python",
   "name": "python3"
  },
  "language_info": {
   "codemirror_mode": {
    "name": "ipython",
    "version": 3
   },
   "file_extension": ".py",
   "mimetype": "text/x-python",
   "name": "python",
   "nbconvert_exporter": "python",
   "pygments_lexer": "ipython3",
   "version": "3.7.3"
  }
 },
 "nbformat": 4,
 "nbformat_minor": 4
}
