{
 "cells": [
  {
   "cell_type": "code",
   "execution_count": 1,
   "metadata": {},
   "outputs": [],
   "source": [
    "# Tree는 Linked list로 연결되어 있다.\n",
    "# 우선 Linked list 구현\n",
    "\n",
    "class Node:\n",
    "    def __init__(self, value):\n",
    "        self.value = value\n",
    "        self.left = None\n",
    "        self.right = None"
   ]
  },
  {
   "cell_type": "code",
   "execution_count": 3,
   "metadata": {},
   "outputs": [],
   "source": [
    "class NodeMgmt:\n",
    "    def __init__(self, head):\n",
    "        self.head = head\n",
    "    \n",
    "    def insert(self, value):\n",
    "        self.current_node = self.head\n",
    "        while True:\n",
    "            if value < self.current_node.value:\n",
    "                if self.current_node.left:\n",
    "                    self.current_node = self.current_node.left\n",
    "                else:\n",
    "                    self.current_node.left = Node(value)\n",
    "                    break\n",
    "            else:\n",
    "                if self.current_node.right:\n",
    "                    self.current_node = self.current_node.right\n",
    "                else:\n",
    "                    self.current_node.right = Node(value)\n",
    "                    break"
   ]
  },
  {
   "cell_type": "code",
   "execution_count": 4,
   "metadata": {},
   "outputs": [],
   "source": [
    "head = Node(1)\n",
    "BST = NodeMgmt(head)\n",
    "BST.insert(2)"
   ]
  },
  {
   "cell_type": "code",
   "execution_count": 5,
   "metadata": {},
   "outputs": [],
   "source": [
    "#탐색\n",
    "class NodeMgmt:\n",
    "    def __init__(self, head):\n",
    "        self.head = head\n",
    "    \n",
    "    def insert(self, value):\n",
    "        self.current_node = self.head\n",
    "        while True:\n",
    "            if value < self.current_node.value:\n",
    "                if self.current_node.left:\n",
    "                    self.current_node = self.current_node.left\n",
    "                else:\n",
    "                    self.current_node.left = Node(value)\n",
    "                    break\n",
    "            else:\n",
    "                if self.current_node.right:\n",
    "                    self.current_node = self.current_node.right\n",
    "                else:\n",
    "                    self.current_node.right = Node(value)\n",
    "                    break\n",
    "    \n",
    "    def search(self, value):\n",
    "        self.current_node = self.head\n",
    "        while True:\n",
    "            if self.current_node.value == value:\n",
    "                return True\n",
    "            else:\n",
    "                if self.current_node.value > value:\n",
    "                    if self.current_node.left:\n",
    "                        self.current_node = self.current_node.left\n",
    "                    else:\n",
    "                        return False\n",
    "                else:\n",
    "                    if self.current_node.right:\n",
    "                        self.current_node = self.current_node.right\n",
    "                    else:\n",
    "                        return False"
   ]
  },
  {
   "cell_type": "markdown",
   "metadata": {},
   "source": [
    "## return False 구문이 두개가 있고 반복해서 나오는 구조 => 함축이 가능할 수 있다 여기서는 없으면 끝낸다라는 논리기 떄문에 줄일 수 있다."
   ]
  },
  {
   "cell_type": "code",
   "execution_count": 7,
   "metadata": {},
   "outputs": [],
   "source": [
    "class NodeMgmt:\n",
    "    def __init__(self, head):\n",
    "        self.head = head\n",
    "    \n",
    "    def insert(self, value):\n",
    "        self.current_node = self.head\n",
    "        while True:\n",
    "            if value < self.current_node.value:\n",
    "                if self.current_node.left:\n",
    "                    self.current_node = self.current_node.left\n",
    "                else:\n",
    "                    self.current_node.left = Node(value)\n",
    "                    break\n",
    "            else:\n",
    "                if self.current_node.right:\n",
    "                    self.current_node = self.current_node.right\n",
    "                else:\n",
    "                    self.current_node.right = Node(value)\n",
    "                    break\n",
    "    \n",
    "    def search(self, value):\n",
    "        self.current_node = self.head\n",
    "        while self.current_node:\n",
    "            if self.current_node.value == value:\n",
    "                return True\n",
    "            elif self.current_node.value > value:\n",
    "                self.current_node = self.current_node.left\n",
    "            else:\n",
    "                self.current_node = self.current_node.right\n",
    "        return False"
   ]
  },
  {
   "cell_type": "code",
   "execution_count": 8,
   "metadata": {},
   "outputs": [],
   "source": [
    "head = Node(1)\n",
    "BST = NodeMgmt(head)\n",
    "BST.insert(2)\n",
    "BST.insert(3)\n",
    "BST.insert(0)\n",
    "BST.insert(4)\n",
    "BST.insert(8)"
   ]
  },
  {
   "cell_type": "code",
   "execution_count": 14,
   "metadata": {},
   "outputs": [
    {
     "data": {
      "text/plain": [
       "True"
      ]
     },
     "execution_count": 14,
     "metadata": {},
     "output_type": "execute_result"
    }
   ],
   "source": [
    "BST.search(1)"
   ]
  },
  {
   "cell_type": "markdown",
   "metadata": {},
   "source": [
    "### 이진 탐색 트리 삭제 코드 구현과 분석\n"
   ]
  },
  {
   "cell_type": "code",
   "execution_count": 16,
   "metadata": {},
   "outputs": [
    {
     "ename": "NameError",
     "evalue": "name 'self' is not defined",
     "output_type": "error",
     "traceback": [
      "\u001b[1;31m---------------------------------------------------------------------------\u001b[0m",
      "\u001b[1;31mNameError\u001b[0m                                 Traceback (most recent call last)",
      "\u001b[1;32m<ipython-input-16-b79b79e666e1>\u001b[0m in \u001b[0;36m<module>\u001b[1;34m\u001b[0m\n\u001b[0;32m      1\u001b[0m \u001b[1;31m# def delete(self, value):\u001b[0m\u001b[1;33m\u001b[0m\u001b[1;33m\u001b[0m\u001b[1;33m\u001b[0m\u001b[0m\n\u001b[0;32m      2\u001b[0m \u001b[0msearched\u001b[0m \u001b[1;33m=\u001b[0m \u001b[1;32mFalse\u001b[0m\u001b[1;33m\u001b[0m\u001b[1;33m\u001b[0m\u001b[0m\n\u001b[1;32m----> 3\u001b[1;33m \u001b[0mself\u001b[0m\u001b[1;33m.\u001b[0m\u001b[0mcurrent_node\u001b[0m \u001b[1;33m=\u001b[0m \u001b[0mself\u001b[0m\u001b[1;33m.\u001b[0m\u001b[0mhead\u001b[0m\u001b[1;33m\u001b[0m\u001b[1;33m\u001b[0m\u001b[0m\n\u001b[0m\u001b[0;32m      4\u001b[0m \u001b[0mself\u001b[0m\u001b[1;33m.\u001b[0m\u001b[0mparent\u001b[0m \u001b[1;33m=\u001b[0m \u001b[0mself\u001b[0m\u001b[1;33m.\u001b[0m\u001b[0mhead\u001b[0m\u001b[1;33m\u001b[0m\u001b[1;33m\u001b[0m\u001b[0m\n\u001b[0;32m      5\u001b[0m \u001b[1;32mwhile\u001b[0m \u001b[0mself\u001b[0m\u001b[1;33m.\u001b[0m\u001b[0mcurrent_node\u001b[0m\u001b[1;33m:\u001b[0m\u001b[1;33m\u001b[0m\u001b[1;33m\u001b[0m\u001b[0m\n",
      "\u001b[1;31mNameError\u001b[0m: name 'self' is not defined"
     ]
    }
   ],
   "source": [
    "# def delete(self, value):\n",
    "    searched = False\n",
    "    self.current_node = self.head\n",
    "    self.parent = self.head\n",
    "    while self.current_node:\n",
    "        if self.current_node.value == value:\n",
    "            searched = True\n",
    "            break\n",
    "        elif self.current_node.value > value:\n",
    "            self.parent = self.current_node\n",
    "            self.current_node = self.current_node.left\n",
    "        else:\n",
    "            self.parent = self.current_node\n",
    "            self.current_node = self.current_node.right\n",
    "    if searched == False:\n",
    "        return False\n"
   ]
  },
  {
   "cell_type": "code",
   "execution_count": null,
   "metadata": {},
   "outputs": [],
   "source": [
    "#Case1: 삭제할 Node가 Leaf Node인 경우\n",
    "if self.current_node.left == None and self.current.right == None:\n",
    "    if self.current_node.value < self.parent.value:\n",
    "        self.parent.left = None\n",
    "    else:\n",
    "        self.parent.right = None\n",
    "    del self.current_node"
   ]
  },
  {
   "cell_type": "code",
   "execution_count": null,
   "metadata": {},
   "outputs": [],
   "source": [
    "# Case2: 삭제할 Node가 Child Node를 한 개 가지고 있을 경우\n",
    "if self.current_node.left != None and self.current_node.right == None:\n",
    "    if self.current_node.value < self.parent.value:\n",
    "        self.parent.left = self.current_node.left\n",
    "    else:\n",
    "        self.parent.right = self.current_node.left\n",
    "    del self.current_node\n",
    "elif if self.current_node.left == None and self.current_node.right != None:\n",
    "    if self.current_node.value < self.parent.value:\n",
    "        self.parent.left = self.current_node.right\n",
    "    else:\n",
    "        self.parent.right = self.current_node.right\n",
    "    del self.current_node"
   ]
  }
 ],
 "metadata": {
  "kernelspec": {
   "display_name": "Python 3",
   "language": "python",
   "name": "python3"
  },
  "language_info": {
   "codemirror_mode": {
    "name": "ipython",
    "version": 3
   },
   "file_extension": ".py",
   "mimetype": "text/x-python",
   "name": "python",
   "nbconvert_exporter": "python",
   "pygments_lexer": "ipython3",
   "version": "3.7.3"
  }
 },
 "nbformat": 4,
 "nbformat_minor": 4
}
