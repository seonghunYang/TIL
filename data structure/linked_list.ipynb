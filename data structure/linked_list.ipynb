{
 "cells": [
  {
   "cell_type": "code",
   "execution_count": 43,
   "metadata": {},
   "outputs": [],
   "source": [
    "# single linked list\n",
    "\n",
    "class Node:\n",
    "    def __init__(self, data, next=None):\n",
    "        self.data = data\n",
    "        self.next = next\n",
    "        \n",
    "def append(data):\n",
    "    node = head\n",
    "    while node.next:\n",
    "        node = node.next\n",
    "    node.next = Node(data)\n",
    "    "
   ]
  },
  {
   "cell_type": "code",
   "execution_count": 44,
   "metadata": {},
   "outputs": [],
   "source": [
    "n1 = Node(1)\n",
    "head = n1\n",
    "for index in range(2, 10):\n",
    "    append(index)"
   ]
  },
  {
   "cell_type": "code",
   "execution_count": 45,
   "metadata": {},
   "outputs": [
    {
     "name": "stdout",
     "output_type": "stream",
     "text": [
      "1\n",
      "2\n",
      "3\n",
      "4\n",
      "5\n",
      "6\n",
      "7\n",
      "8\n",
      "9\n"
     ]
    }
   ],
   "source": [
    "node = head\n",
    "while node:\n",
    "    print(node.data)\n",
    "    node = node.next"
   ]
  },
  {
   "cell_type": "code",
   "execution_count": 46,
   "metadata": {},
   "outputs": [
    {
     "name": "stdout",
     "output_type": "stream",
     "text": [
      "1\n",
      "2\n",
      "3\n",
      "4\n",
      "5\n",
      "6\n",
      "7\n",
      "8\n",
      "9\n"
     ]
    }
   ],
   "source": [
    "node = head\n",
    "while node.next:\n",
    "    print(node.data)\n",
    "    node = node.next\n",
    "print(node.data)"
   ]
  },
  {
   "cell_type": "code",
   "execution_count": 47,
   "metadata": {},
   "outputs": [],
   "source": [
    "n3 = Node(1.5)"
   ]
  },
  {
   "cell_type": "code",
   "execution_count": 48,
   "metadata": {},
   "outputs": [],
   "source": [
    "node = head\n",
    "search = True\n",
    "while search:\n",
    "    if node.data == 1:\n",
    "        search = False\n",
    "    else:\n",
    "        node = node.next\n",
    "n3.next = node.next\n",
    "node.next = n3"
   ]
  },
  {
   "cell_type": "code",
   "execution_count": 49,
   "metadata": {},
   "outputs": [
    {
     "name": "stdout",
     "output_type": "stream",
     "text": [
      "1\n",
      "1.5\n",
      "2\n",
      "3\n",
      "4\n",
      "5\n",
      "6\n",
      "7\n",
      "8\n",
      "9\n"
     ]
    }
   ],
   "source": [
    "node = head\n",
    "while node.next:\n",
    "    print(node.data)\n",
    "    node = node.next\n",
    "print(node.data)"
   ]
  },
  {
   "cell_type": "code",
   "execution_count": 32,
   "metadata": {},
   "outputs": [],
   "source": [
    "class Node:\n",
    "    def __init__(self, data, next=None):\n",
    "        self.data = data\n",
    "        self.next = next\n",
    "        \n",
    "class NodeMgmt:\n",
    "    def __init__(self, data):\n",
    "        self.head = Node(data)\n",
    "        \n",
    "    def add(self, data):\n",
    "        if self.head == None:\n",
    "            self.head = Node(data)\n",
    "        else:\n",
    "            node = self.head\n",
    "            while node.next:\n",
    "                node = node.next\n",
    "            node.next = Node(data)\n",
    "        \n",
    "    def desc(self):\n",
    "        node = self.head\n",
    "        while node:\n",
    "            print(node.data)\n",
    "            node = node.next\n",
    "    \n",
    "    def delete(self, data):\n",
    "        if self.head == None:\n",
    "            print('해당 값이 없습니다')\n",
    "            return\n",
    "        \n",
    "        if self.head.data == data:\n",
    "            temp = self.head\n",
    "            self.head = self.head.next\n",
    "            del temp\n",
    "            print(self.head)\n",
    "        else:\n",
    "            node = self.head\n",
    "            while node.next:\n",
    "                if node.next.data == data:\n",
    "                    temp = node.next\n",
    "                    node.next = node.next.next\n",
    "                    del temp\n",
    "                    return\n",
    "                else:\n",
    "                    node = node.next"
   ]
  },
  {
   "cell_type": "code",
   "execution_count": 33,
   "metadata": {},
   "outputs": [
    {
     "name": "stdout",
     "output_type": "stream",
     "text": [
      "0\n"
     ]
    }
   ],
   "source": [
    "linkedlist1 = NodeMgmt(0)\n",
    "linkedlist1.desc()"
   ]
  },
  {
   "cell_type": "code",
   "execution_count": 34,
   "metadata": {},
   "outputs": [
    {
     "name": "stdout",
     "output_type": "stream",
     "text": [
      "None\n"
     ]
    }
   ],
   "source": [
    "linkedlist1.delete(0)"
   ]
  },
  {
   "cell_type": "code",
   "execution_count": 10,
   "metadata": {},
   "outputs": [],
   "source": [
    "linkedlist1.head"
   ]
  },
  {
   "cell_type": "code",
   "execution_count": 14,
   "metadata": {},
   "outputs": [
    {
     "name": "stdout",
     "output_type": "stream",
     "text": [
      "1\n",
      "2\n",
      "3\n",
      "5\n",
      "6\n",
      "7\n",
      "8\n",
      "9\n",
      "1\n",
      "2\n",
      "3\n",
      "4\n",
      "5\n",
      "6\n",
      "7\n",
      "8\n",
      "9\n"
     ]
    }
   ],
   "source": [
    "for data in range(1, 10):\n",
    "    linkedlist1.add(data)\n",
    "linkedlist1.desc()"
   ]
  },
  {
   "cell_type": "code",
   "execution_count": 15,
   "metadata": {},
   "outputs": [],
   "source": [
    "linkedlist1.delete(4)\n",
    "linkedlist1.delete(9)"
   ]
  },
  {
   "cell_type": "code",
   "execution_count": 16,
   "metadata": {},
   "outputs": [
    {
     "name": "stdout",
     "output_type": "stream",
     "text": [
      "1\n",
      "2\n",
      "3\n",
      "5\n",
      "6\n",
      "7\n",
      "8\n",
      "1\n",
      "2\n",
      "3\n",
      "5\n",
      "6\n",
      "7\n",
      "8\n",
      "9\n"
     ]
    }
   ],
   "source": [
    "linkedlist1.desc()"
   ]
  },
  {
   "cell_type": "code",
   "execution_count": 56,
   "metadata": {},
   "outputs": [],
   "source": [
    "#연습2: 위 코드에서 노드 데이터가 특정 숫자인 노드를 찾는 함수를 만들고, 테스트해보기\n",
    "\n",
    "class Node:\n",
    "    def __init__(self, data, next=None):\n",
    "        self.data = data\n",
    "        self.next = next\n",
    "\n",
    "class NodeMgmt:\n",
    "    def __init__(self, data):\n",
    "        self.head = Node(data)\n",
    "    \n",
    "    def add(self, data):\n",
    "        if self.head == None:\n",
    "            self.head = Node(data)\n",
    "        else:\n",
    "            node = self.head\n",
    "            while node.next:\n",
    "                node = node.next\n",
    "            node.next = Node(data)\n",
    "    \n",
    "    def desc(self):\n",
    "        if self.head == None:\n",
    "            print('비워져 있습니다.')\n",
    "        else:\n",
    "            node = self.head\n",
    "            while node.next:\n",
    "                print(node.data)\n",
    "                node = node.next\n",
    "    \n",
    "    def delete(self, data):\n",
    "        if self.head == None:\n",
    "            print('비워져 있습니다')\n",
    "        \n",
    "        if self.head.data == data:\n",
    "            temp = self.head\n",
    "            del temp\n",
    "        else:\n",
    "            node = self.head\n",
    "            while node.next:\n",
    "                if node.next.data == data:\n",
    "                    temp = node.next\n",
    "                    node.next = node.next.next\n",
    "                    del temp\n",
    "                    return\n",
    "                node = node.next\n",
    "            print('찾았는데 없어요')\n",
    "            \n",
    "    def search_node(self, data):\n",
    "        node = self.head\n",
    "        while node.next:\n",
    "            if node.data == data:\n",
    "                return node\n",
    "            node = node.next"
   ]
  },
  {
   "cell_type": "code",
   "execution_count": 57,
   "metadata": {
    "scrolled": true
   },
   "outputs": [
    {
     "name": "stdout",
     "output_type": "stream",
     "text": [
      "4\n"
     ]
    }
   ],
   "source": [
    "# 테스트\n",
    "node_mgmt = NodeMgmt(0)\n",
    "for data in range(1, 10):\n",
    "    node_mgmt.add(data)\n",
    "\n",
    "node = node_mgmt.search_node(4)\n",
    "print (node.data)"
   ]
  },
  {
   "cell_type": "code",
   "execution_count": 58,
   "metadata": {},
   "outputs": [],
   "source": [
    "node_mgmt.delete(4)\n",
    "node_mgmt.delete(9)"
   ]
  },
  {
   "cell_type": "code",
   "execution_count": 59,
   "metadata": {},
   "outputs": [
    {
     "name": "stdout",
     "output_type": "stream",
     "text": [
      "0\n",
      "1\n",
      "2\n",
      "3\n",
      "5\n",
      "6\n",
      "7\n"
     ]
    }
   ],
   "source": [
    "node_mgmt.desc()"
   ]
  },
  {
   "cell_type": "code",
   "execution_count": 64,
   "metadata": {},
   "outputs": [],
   "source": [
    "# Double linked_list\n",
    "\n",
    "class Node:\n",
    "    def __init__(self, data, prev=None, next=None):\n",
    "        self.data =data\n",
    "        self.prev = prev\n",
    "        self.next = next\n",
    "\n",
    "class NodeMgmt:\n",
    "    def __init__(self, data):\n",
    "        self.head = Node(data)\n",
    "        self.tail = self.head\n",
    "    \n",
    "    def insert(self, data):\n",
    "        if self.head == None:\n",
    "            self.head = Node(data)\n",
    "            self.tail = self.head\n",
    "        else:\n",
    "            node = self.head\n",
    "            while node.next:\n",
    "                node = node.next\n",
    "            newNode = Node(data)\n",
    "            node.next = newNode\n",
    "            newNode.prev = node\n",
    "            self.tail = newNode\n",
    "    \n",
    "    def desc(self):\n",
    "        node = self.head\n",
    "        while node:\n",
    "            print(node.data)\n",
    "            node = node.next"
   ]
  },
  {
   "cell_type": "code",
   "execution_count": 65,
   "metadata": {},
   "outputs": [
    {
     "name": "stdout",
     "output_type": "stream",
     "text": [
      "0\n",
      "1\n",
      "2\n",
      "3\n",
      "4\n",
      "5\n",
      "6\n",
      "7\n",
      "8\n",
      "9\n"
     ]
    }
   ],
   "source": [
    "double_linked_list = NodeMgmt(0)\n",
    "for data in range(1, 10):\n",
    "    double_linked_list.insert(data)\n",
    "double_linked_list.desc()"
   ]
  },
  {
   "cell_type": "markdown",
   "metadata": {},
   "source": [
    "연습3: 위 코드에서 노드 데이터가 특정 숫자인 노드 앞에 데이터를 추가하는 함수를 만들고, 테스트해보기\n",
    "- 더블 링크드 리스트의 tail 에서부터 뒤로 이동하며, 특정 숫자인 노드를 찾는 방식으로 함수를 구현하기\n",
    "- 테스트: 임의로 0 ~ 9까지 데이터를 링크드 리스트에 넣어보고, 데이터 값이 2인 노드 앞에 1.5 데이터 값을 가진 노드를 추가해보기\n",
    "\n"
   ]
  },
  {
   "cell_type": "code",
   "execution_count": 75,
   "metadata": {},
   "outputs": [],
   "source": [
    "class Node:\n",
    "    def __init__(self, data, prev=None, next=None):\n",
    "        self.data =data\n",
    "        self.prev = prev\n",
    "        self.next = next\n",
    "\n",
    "class NodeMgmt:\n",
    "    def __init__(self, data):\n",
    "        self.head = Node(data)\n",
    "        self.tail = self.head\n",
    "    \n",
    "    def insert(self, data):\n",
    "        if self.head == None:\n",
    "            self.head = Node(data)\n",
    "            self.tail = self.head\n",
    "        else:\n",
    "            node = self.head\n",
    "            while node.next:\n",
    "                node = node.next\n",
    "            newNode = Node(data)\n",
    "            node.next = newNode\n",
    "            newNode.prev = node\n",
    "            self.tail = newNode\n",
    "    \n",
    "    def desc(self):\n",
    "        node = self.head\n",
    "        while node:\n",
    "            print(node.data)\n",
    "            node = node.next\n",
    "            \n",
    "    def search_from_head(self, data):\n",
    "        if self.head == None:\n",
    "            return False\n",
    "        else:\n",
    "            node = self.head\n",
    "            while node:\n",
    "                if node.data == data:\n",
    "                    return node\n",
    "                node = node.next\n",
    "            return False\n",
    "        \n",
    "    def search_from_tail(self, data):\n",
    "        if self.tail == None:\n",
    "            return False\n",
    "        else:\n",
    "            node = self.tail\n",
    "            while node:\n",
    "                if node.data == data:\n",
    "                    return node\n",
    "                node = node.prev\n",
    "            return False\n",
    "    \n",
    "    def insert_before(self, data, before_data):\n",
    "        if self.head == None:\n",
    "            self.head = Node(data)\n",
    "            self.tail = self.head\n",
    "            return True\n",
    "        else:\n",
    "            node = self.tail\n",
    "            while node.data != before_data:\n",
    "                node = node.prev\n",
    "                if node == None:\n",
    "                    return False\n",
    "            beforeNode = node\n",
    "            newNode = Node(data)\n",
    "            afterNode = beforeNode.prev\n",
    "\n",
    "            \n",
    "            newNode.prev = afterNode\n",
    "            newNode.next = beforeNode\n",
    "            beforeNode.prev = newNode\n",
    "            afterNode.next = newNode"
   ]
  },
  {
   "cell_type": "code",
   "execution_count": 76,
   "metadata": {},
   "outputs": [
    {
     "name": "stdout",
     "output_type": "stream",
     "text": [
      "0\n",
      "1\n",
      "2\n",
      "3\n",
      "4\n",
      "5\n",
      "6\n",
      "7\n",
      "8\n",
      "9\n"
     ]
    }
   ],
   "source": [
    "double_linked_list = NodeMgmt(0)\n",
    "for data in range(1, 10):\n",
    "    double_linked_list.insert(data)\n",
    "double_linked_list.desc()"
   ]
  },
  {
   "cell_type": "code",
   "execution_count": 77,
   "metadata": {},
   "outputs": [
    {
     "data": {
      "text/plain": [
       "3"
      ]
     },
     "execution_count": 77,
     "metadata": {},
     "output_type": "execute_result"
    }
   ],
   "source": [
    "node_3 = double_linked_list.search_from_tail(3)\n",
    "node_3.data"
   ]
  },
  {
   "cell_type": "code",
   "execution_count": 79,
   "metadata": {},
   "outputs": [
    {
     "name": "stdout",
     "output_type": "stream",
     "text": [
      "0\n",
      "1\n",
      "1.5\n",
      "1.5\n",
      "2\n",
      "3\n",
      "4\n",
      "1.5\n",
      "5\n",
      "6\n",
      "7\n",
      "8\n",
      "9\n"
     ]
    }
   ],
   "source": [
    "double_linked_list.insert_before(1.5, 2)\n",
    "double_linked_list.insert_before(1.5, 5)\n",
    "double_linked_list.desc()"
   ]
  },
  {
   "cell_type": "markdown",
   "metadata": {},
   "source": [
    "<div class=\"alert alert-block alert-warning\">\n",
    "<strong><font color=\"blue\" size=\"3em\">연습4: 위 코드에서 노드 데이터가 특정 숫자인 노드 뒤에 데이터를 추가하는 함수를 만들고, 테스트해보기</font></strong><br>\n",
    "- 더블 링크드 리스트의 head 에서부터 다음으로 이동하며, 특정 숫자인 노드를 찾는 방식으로 함수를 구현하기<br>\n",
    "- 테스트: 임의로 0 ~ 9까지 데이터를 링크드 리스트에 넣어보고, 데이터 값이 1인 노드 다음에 1.7 데이터 값을 가진 노드를 추가해보기\n",
    "</div>"
   ]
  },
  {
   "cell_type": "code",
   "execution_count": 88,
   "metadata": {},
   "outputs": [],
   "source": [
    "class Node:\n",
    "    def __init__(self, data, prev=None, next=None):\n",
    "        self.data =data\n",
    "        self.prev = prev\n",
    "        self.next = next\n",
    "\n",
    "class NodeMgmt:\n",
    "    def __init__(self, data):\n",
    "        self.head = Node(data)\n",
    "        self.tail = self.head\n",
    "    \n",
    "    def insert(self, data):\n",
    "        if self.head == None:\n",
    "            self.head = Node(data)\n",
    "            self.tail = self.head\n",
    "        else:\n",
    "            node = self.head\n",
    "            while node.next:\n",
    "                node = node.next\n",
    "            newNode = Node(data)\n",
    "            node.next = newNode\n",
    "            newNode.prev = node\n",
    "            self.tail = newNode\n",
    "    \n",
    "    def desc(self):\n",
    "        node = self.head\n",
    "        while node:\n",
    "            print(node.data)\n",
    "            node = node.next\n",
    "            \n",
    "    def search_from_head(self, data):\n",
    "        if self.head == None:\n",
    "            return False\n",
    "        else:\n",
    "            node = self.head\n",
    "            while node:\n",
    "                if node.data == data:\n",
    "                    return node\n",
    "                node = node.next\n",
    "            return False\n",
    "        \n",
    "    def search_from_tail(self, data):\n",
    "        if self.tail == None:\n",
    "            return False\n",
    "        else:\n",
    "            node = self.tail\n",
    "            while node:\n",
    "                if node.data == data:\n",
    "                    return node\n",
    "                node = node.prev\n",
    "            return False\n",
    "    \n",
    "    def insert_before(self, data, before_data):\n",
    "        if self.head == None:\n",
    "            self.head = Node(data)\n",
    "            self.tail = self.head\n",
    "            return True\n",
    "        else:\n",
    "            node = self.tail\n",
    "            while node.data != before_data:\n",
    "                node = node.prev\n",
    "                if node == None:\n",
    "                    return False\n",
    "            afterNode = node\n",
    "            newNode = Node(data)\n",
    "            beforeNode = beforeNode.prev\n",
    "\n",
    "            \n",
    "            newNode.prev = beforerNode\n",
    "            newNode.next = afterNode\n",
    "            afterNode.prev = newNode\n",
    "            beforeNode.next = newNode\n",
    "    \n",
    "    def insert_after(self, data, after_data):\n",
    "        if self.head == None:\n",
    "            self.head = Node(data)\n",
    "            self.tail = self.head\n",
    "            return True\n",
    "        else:\n",
    "            node = self.head\n",
    "            while node.data != after_data:\n",
    "                node = node.next\n",
    "                if node == None:\n",
    "                    return False\n",
    "            beforeNode = node\n",
    "            newNode = Node(data)\n",
    "            afterNode = node.next\n",
    "            \n",
    "            newNode.prev = beforeNode\n",
    "            newNode.next = afterNode\n",
    "            beforeNode.next = newNode\n",
    "            afterNode.prev = newNode"
   ]
  },
  {
   "cell_type": "code",
   "execution_count": 89,
   "metadata": {},
   "outputs": [
    {
     "name": "stdout",
     "output_type": "stream",
     "text": [
      "0\n",
      "1\n",
      "2\n",
      "3\n",
      "4\n",
      "5\n",
      "6\n",
      "7\n",
      "8\n",
      "9\n",
      "0\n",
      "1\n",
      "1.5\n",
      "2\n",
      "3\n",
      "4\n",
      "5\n",
      "6\n",
      "7\n",
      "8\n",
      "9\n"
     ]
    }
   ],
   "source": [
    "node_mgmt = NodeMgmt(0)\n",
    "for data in range(1, 10):\n",
    "    node_mgmt.insert(data)\n",
    "\n",
    "node_mgmt.desc()\n",
    "\n",
    "node_mgmt.insert_after(1.5, 1)\n",
    "node_mgmt.desc()"
   ]
  },
  {
   "cell_type": "code",
   "execution_count": 95,
   "metadata": {},
   "outputs": [],
   "source": [
    "# circle_linked_list\n",
    "\n",
    "class LinkedList:\n",
    "    class Node:\n",
    "        def __init__(self, value):\n",
    "            self.value = value\n",
    "            self.next = None\n",
    "            self.prev = None\n",
    "        def __str__(self):\n",
    "            return f\"NODE[{self.value}]\"\n",
    "\n",
    "    def __init__(self):\n",
    "        # head노드를 만들고, prev, next포인터가 자신을 가르키도록 설정\n",
    "        # --- 아래의 return None 대신 코드를 작성하시오. ---\n",
    "        self.head = self.Node('head')\n",
    "        self.head.next = self.head\n",
    "        self.head.prev = self.head\n",
    "        \n",
    "    def is_empty(self):\n",
    "        # 리스트가 비어있으면 True, 아니면 False\n",
    "        # --- 아래의 return None 대신 코드를 작성하시오. ---\n",
    "        return self.head == self.head.next\n",
    "        \n",
    "    def add_after(self, node, value):\n",
    "        # node의 다음에 value 추가\n",
    "        # 1. 새로운 노드를 만들고\n",
    "        # 2. 새로운 노드의 prev와 next를 설정하고\n",
    "        # 3. 이전 노드와 다음 노드가 각각 새 노드를 가르키도록\n",
    "        # --- 아래의 return None 대신 코드를 작성하시오. ---\n",
    "        newNode = self.Node(value)\n",
    "        \n",
    "        newNode.prev = node\n",
    "        newNode.next = node.next\n",
    "        node.next = newNode\n",
    "        newNode.next.prev = newNode\n",
    "        \n",
    "    def add_before(self, node, value):\n",
    "        # node의 다음에 value 추가\n",
    "        # 1. 새로운 노드를 만들고\n",
    "        # 2. 새로운 노드의 prev와 next를 설정하고\n",
    "        # 3. 이전 노드와 다음 노드가 각각 새 노드를 가르키도록\n",
    "        # --- 아래의 return None 대신 코드를 작성하시오. ---\n",
    "        newNode = self.Node(value)\n",
    "        \n",
    "        newNode.next = node\n",
    "        newNode.prev = node.prev\n",
    "        node.prev = newNode\n",
    "        newNode.prev.next = newNode\n",
    "        \n",
    "    def add_head(self, value):\n",
    "        # add_after를 이용하면 쉽게 만들 수 있음\n",
    "        # --- 아래의 return None 대신 코드를 작성하시오. ---\n",
    "        self.add_after(self.head, value)\n",
    "        \n",
    "    def add_tail(self, value):\n",
    "        # add_before를 이용하면 쉽게 만들 수 있음\n",
    "        # --- 아래의 return None 대신 코드를 작성하시오. ---\n",
    "        self.add_before(self.head, value)\n",
    "        \n",
    "    def remove(self, node):\n",
    "        # 현재 노드 대신 이 노드의 이전 노드와 다음 노드의 포인터를 서로 연결해줌\n",
    "        # --- 아래의 return None 대신 코드를 작성하시오. ---\n",
    "        node.prev.next = node.next\n",
    "        node.next.prev = node.prev\n",
    "\n",
    "    def remove_head(self):\n",
    "        # remove를 이용하면 쉽게 만들 수 있음\n",
    "        # 단 현재 리스트가 비어있는 상태인지 확인 필요\n",
    "        # --- 아래의 return None 대신 코드를 작성하시오. ---\n",
    "        if self.is_empty():\n",
    "            return \n",
    "        else:\n",
    "            self.remove(self.head.next)\n",
    "    def remove_tail(self):\n",
    "        # remove를 이용하면 쉽게 만들 수 있음\n",
    "        # 단 현재 리스트가 비어있는 상태인지 확인 필요\n",
    "        # --- 아래의 return None 대신 코드를 작성하시오. ---\n",
    "        if self.is_empty():\n",
    "            return \n",
    "        else:\n",
    "            self.remove(self.head.prev)\n",
    "    def traverse(self, dir = 1):\n",
    "        # generator를 이용하여 리스트를 정방향(dir=1) 혹은 역방향(dir=-1)으로 순회할 수 있도록 함\n",
    "        node = self.head.next if dir == 1 else self.head.prev\n",
    "        while node != self.head:\n",
    "            yield node\n",
    "            node = node.next if dir == 1 else node.prev\n",
    "\n",
    "\n",
    "    def find(self, value, from_node = None):\n",
    "        # from_node 다음부터 시작해서 value 값을 갖는 첫 노드를 찾아서 반환\n",
    "        # 끝까지 찾아도 없으면 None을 반환\n",
    "        if from_node == None:\n",
    "            from_node = self.head\n",
    "        node = from_node.next\n",
    "        while node != self.head:\n",
    "            if node.value == value:\n",
    "                return node\n",
    "            node = node.next\n",
    "        return None\n",
    "\n",
    "    def print(self, dir = 1):\n",
    "        # traverse를 이용하여 리스트를 프린트\n",
    "        print(\"FORWARD: \" if dir==1 else \"BACKWARD:\", end = \"\")\n",
    "        for node in self.traverse(dir):\n",
    "            print(node.value, end=\"->\")\n",
    "        print()\n"
   ]
  },
  {
   "cell_type": "code",
   "execution_count": 96,
   "metadata": {},
   "outputs": [
    {
     "name": "stdout",
     "output_type": "stream",
     "text": [
      "FORWARD: \n",
      "BACKWARD:\n",
      "IS_EMPTY? True\n",
      "FORWARD: 3->1->3->4->\n",
      "BACKWARD:4->3->1->3->\n",
      "IS_EMPTY? False\n",
      "NODE[3]\n",
      "NODE[3]\n",
      "FORWARD: 3->1->9->3->5->4->\n",
      "BACKWARD:4->5->3->9->1->3->\n",
      "FORWARD: 3->1->9->3->5->\n",
      "BACKWARD:5->3->9->1->3->\n",
      "FORWARD: 9->3->5->\n",
      "BACKWARD:5->3->9->\n",
      "FORWARD: 9->\n",
      "BACKWARD:9->\n",
      "IS_EMPTY? False\n",
      "FORWARD: \n",
      "IS_EMPTY? True\n"
     ]
    }
   ],
   "source": [
    "if __name__ == \"__main__\":\n",
    "    list = LinkedList()\n",
    "    list.print()\n",
    "    list.print(-1)\n",
    "    print(\"IS_EMPTY?\", list.is_empty())\n",
    "    list.add_head(1)\n",
    "    list.add_head(3)\n",
    "    list.add_tail(3)\n",
    "    list.add_tail(4)\n",
    "    list.print()\n",
    "    list.print(-1)\n",
    "    print(\"IS_EMPTY?\", list.is_empty())\n",
    "\n",
    "    a = list.find(3)\n",
    "    print(a)\n",
    "    b = list.find(3, from_node=a)\n",
    "    print(b)\n",
    "    list.add_before(b, 9)\n",
    "    list.add_after(b, 5)\n",
    "\n",
    "    list.print()\n",
    "    list.print(-1)\n",
    "\n",
    "    c = list.find(4)\n",
    "    list.remove(c)\n",
    "\n",
    "    list.print()\n",
    "    list.print(-1)\n",
    "\n",
    "    list.remove_head()\n",
    "    list.remove_head()\n",
    "\n",
    "    list.print()\n",
    "    list.print(-1)\n",
    "\n",
    "    list.remove_tail()\n",
    "    list.remove_tail()\n",
    "\n",
    "    list.print()\n",
    "    list.print(-1)\n",
    "    print(\"IS_EMPTY?\", list.is_empty())\n",
    "\n",
    "    list.remove_head()\n",
    "    list.print()\n",
    "    print(\"IS_EMPTY?\", list.is_empty())\n"
   ]
  },
  {
   "cell_type": "code",
   "execution_count": null,
   "metadata": {},
   "outputs": [],
   "source": []
  }
 ],
 "metadata": {
  "kernelspec": {
   "display_name": "Python 3",
   "language": "python",
   "name": "python3"
  },
  "language_info": {
   "codemirror_mode": {
    "name": "ipython",
    "version": 3
   },
   "file_extension": ".py",
   "mimetype": "text/x-python",
   "name": "python",
   "nbconvert_exporter": "python",
   "pygments_lexer": "ipython3",
   "version": "3.7.3"
  }
 },
 "nbformat": 4,
 "nbformat_minor": 4
}
