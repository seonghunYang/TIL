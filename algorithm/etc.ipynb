{
 "cells": [
  {
   "cell_type": "code",
   "execution_count": 8,
   "metadata": {},
   "outputs": [
    {
     "name": "stdout",
     "output_type": "stream",
     "text": [
      "120"
     ]
    }
   ],
   "source": [
    "# 팩토리얼\n",
    "import sys\n",
    "input = sys.stdin.readline\n",
    "print = sys.stdout.write\n",
    "\n",
    "# n = int(input())\n",
    "\n",
    "def factorial(num):\n",
    "    if num ==1 or num == 0:\n",
    "        return 1\n",
    "    return num * factorial(num-1)\n",
    "\n",
    "print(str(factorial(5)))"
   ]
  },
  {
   "cell_type": "code",
   "execution_count": null,
   "metadata": {},
   "outputs": [],
   "source": [
    "# 5639번\n",
    "import java.io.BufferedReader;\n",
    "import java.io.InputStreamReader;\n",
    "class Main{\n",
    "\tpublic static void main(String[] args) throws Exception {\n",
    "\t\tBufferedReader br = new BufferedReader(new InputStreamReader(System.in));\n",
    "        Node root = new Node(Integer.parseInt(br.readLine()));//(1)\n",
    "        String line = \"\";\n",
    "        while (true) {\n",
    "            line = br.readLine();\n",
    "            if (line == null || line.length() == 0) {\n",
    "                break;\n",
    "            }\n",
    "\n",
    "            //(2)\n",
    "            root = root.insert(root, Integer.parseInt(line));\n",
    "        }\n",
    "        postOrder(root);\n",
    "\t}\n",
    "    \n",
    "    public static void postOrder(Node node) {\n",
    "        if (node.left != null) postOrder(node.left);\n",
    "        if (node.right != null) postOrder(node.right);\n",
    "        System.out.println(node.value);\n",
    "    }\n",
    "}\n",
    "\n",
    "class Node {\n",
    "    int value;\n",
    "    Node left;\n",
    "    Node right;\n",
    "    \n",
    "    public Node(int value) {\n",
    "        this.value = value;\n",
    "        this.left = null;\n",
    "        this.right = null;\n",
    "    }\n",
    "    \n",
    "    public Node insert(Node node, int value) {\n",
    "        if (node == null) return new Node(value);\n",
    "        \n",
    "        if (node.value >= value) {\n",
    "            node.left = insert(node.left, value);\n",
    "        } else {\n",
    "            node.right = insert(node.right, value);\n",
    "        }\n",
    "        return node;\n",
    "    }\n",
    "\n",
    "}"
   ]
  },
  {
   "cell_type": "code",
   "execution_count": 1,
   "metadata": {},
   "outputs": [],
   "source": [
    "# 집합 find-set 경로압축\n",
    "def find_set(x):\n",
    "    if x.parent != x:\n",
    "        x.parent = find_set(x.parent)\n",
    "    return x.parent"
   ]
  },
  {
   "cell_type": "code",
   "execution_count": null,
   "metadata": {},
   "outputs": [],
   "source": []
  }
 ],
 "metadata": {
  "kernelspec": {
   "display_name": "Python 3",
   "language": "python",
   "name": "python3"
  },
  "language_info": {
   "codemirror_mode": {
    "name": "ipython",
    "version": 3
   },
   "file_extension": ".py",
   "mimetype": "text/x-python",
   "name": "python",
   "nbconvert_exporter": "python",
   "pygments_lexer": "ipython3",
   "version": "3.7.3"
  }
 },
 "nbformat": 4,
 "nbformat_minor": 4
}
