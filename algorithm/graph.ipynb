{
 "cells": [
  {
   "cell_type": "code",
   "execution_count": 166,
   "metadata": {},
   "outputs": [
    {
     "data": {
      "text/plain": [
       "{'A': ['B', 'C'],\n",
       " 'B': ['A', 'D'],\n",
       " 'C': ['A', 'G', 'H', 'I'],\n",
       " 'D': ['B', 'E', 'F'],\n",
       " 'E': ['D'],\n",
       " 'F': ['D'],\n",
       " 'G': ['C'],\n",
       " 'H': ['C'],\n",
       " 'I': ['C', 'J'],\n",
       " 'J': ['I']}"
      ]
     },
     "execution_count": 166,
     "metadata": {},
     "output_type": "execute_result"
    }
   ],
   "source": [
    "# python graph\n",
    "graph = dict()\n",
    "\n",
    "graph['A'] = ['B', 'C']\n",
    "graph['B'] = ['A', 'D']\n",
    "graph['C'] = ['A', 'G', 'H', 'I']\n",
    "graph['D'] = ['B', 'E', 'F']\n",
    "graph['E'] = ['D']\n",
    "graph['F'] = ['D']\n",
    "graph['G'] = ['C']\n",
    "graph['H'] = ['C']\n",
    "graph['I'] = ['C', 'J']\n",
    "graph['J'] = ['I']\n",
    "\n",
    "graph"
   ]
  },
  {
   "cell_type": "code",
   "execution_count": 82,
   "metadata": {},
   "outputs": [],
   "source": [
    "# BFS 상당히 러프한 버전 \n",
    "def BFS(graph, start_node):\n",
    "    visited = list()\n",
    "    need_visit = list()\n",
    "    \n",
    "    need_visit.append(start_node)\n",
    "    \n",
    "    while len(graph) != len(visited):\n",
    "        node = need_visit.pop(0)\n",
    "        if node not in visited:\n",
    "            visited.append(node)\n",
    "            need_visit.extend(graph[node])\n",
    "    \n",
    "    return visited\n",
    "            "
   ]
  },
  {
   "cell_type": "code",
   "execution_count": 91,
   "metadata": {},
   "outputs": [
    {
     "name": "stdout",
     "output_type": "stream",
     "text": [
      "0.000142초 걸렸습니다.\n"
     ]
    }
   ],
   "source": [
    "import timeit\n",
    "\n",
    "start_time = timeit.default_timer() # 시작 시간 체크\n",
    "\n",
    "BFS(graph,'A')\n",
    "\n",
    "terminate_time = timeit.default_timer() # 종료 시간 체크  \n",
    " \n",
    "print(\"%f초 걸렸습니다.\" % (terminate_time - start_time))"
   ]
  },
  {
   "cell_type": "code",
   "execution_count": 73,
   "metadata": {},
   "outputs": [],
   "source": [
    "# BFS Queue 사용 \n",
    "\n",
    "from collections import deque\n",
    "\n",
    "def queueBFS(graph, start_node):\n",
    "    visited = list()\n",
    "    need_visit = deque(start_node)\n",
    "    \n",
    "    while len(graph) != len(visited):\n",
    "        node = need_visit.popleft()\n",
    "        if node not in visited:\n",
    "            visited.append(node)\n",
    "            for i in graph[node]:\n",
    "                need_visit.append(i)\n",
    "    \n",
    "    return visited"
   ]
  },
  {
   "cell_type": "code",
   "execution_count": 95,
   "metadata": {},
   "outputs": [
    {
     "name": "stdout",
     "output_type": "stream",
     "text": [
      "0.000063초 걸렸습니다.\n"
     ]
    }
   ],
   "source": [
    "import timeit\n",
    "\n",
    "start_time = timeit.default_timer() # 시작 시간 체크\n",
    "\n",
    "queueBFS(graph,'A')\n",
    "\n",
    "terminate_time = timeit.default_timer() # 종료 시간 체크  \n",
    " \n",
    "print(\"%f초 걸렸습니다.\" % (terminate_time - start_time))"
   ]
  },
  {
   "cell_type": "code",
   "execution_count": 150,
   "metadata": {},
   "outputs": [],
   "source": [
    "# BFS node not in visited ==> O(V) 이거 줄이기\n",
    "\n",
    "from collections import deque\n",
    "\n",
    "def dictVisitedBFS(graph, start_node):\n",
    "    visited = dict()\n",
    "    for key in graph.keys():\n",
    "        visited[key] = 0\n",
    "    #O(V)\n",
    "    need_visit = deque(start_node)\n",
    "    \n",
    "    while len(need_visit) != 0:\n",
    "        node = need_visit.popleft()\n",
    "        if visited[node] == 0:\n",
    "            visited[node] = 1\n",
    "            for i in graph[node]:\n",
    "                need_visit.append(i)\n",
    "    #O(E+V)\n",
    "    return visited"
   ]
  },
  {
   "cell_type": "code",
   "execution_count": 151,
   "metadata": {},
   "outputs": [
    {
     "name": "stdout",
     "output_type": "stream",
     "text": [
      "0.000151초 걸렸습니다.\n"
     ]
    }
   ],
   "source": [
    "import timeit\n",
    "\n",
    "start_time = timeit.default_timer() # 시작 시간 체크\n",
    "\n",
    "dictVisitedBFS(graph,'A')\n",
    "\n",
    "terminate_time = timeit.default_timer() # 종료 시간 체크  \n",
    " \n",
    "print(\"%f초 걸렸습니다.\" % (terminate_time - start_time))"
   ]
  },
  {
   "cell_type": "code",
   "execution_count": 153,
   "metadata": {},
   "outputs": [],
   "source": [
    "# BFS 알고리즘 책 방식으로 해보기 => 위에 for문에서 한번 O(V)만큼 도는데 밑에서 O(V)만큼 빼줌\n",
    "# 이게 제일 베스트\n",
    "from collections import deque\n",
    "\n",
    "def bookBFS(graph, start_node):\n",
    "    bfs = list()\n",
    "    visited = dict()\n",
    "    for key in graph.keys():\n",
    "        visited[key] = 0\n",
    "    #O(V)\n",
    "    visited[start_node] = 1\n",
    "    need_visit = deque(start_node)\n",
    "    \n",
    "    while len(need_visit) != 0:\n",
    "        node = need_visit.popleft()\n",
    "        bfs.append(node)\n",
    "        for i in graph[node]:\n",
    "            if visited[i] == 0:\n",
    "                visited[i] = 1\n",
    "                need_visit.append(i)\n",
    "    #O(E)\n",
    "    return bfs"
   ]
  },
  {
   "cell_type": "code",
   "execution_count": 163,
   "metadata": {},
   "outputs": [
    {
     "name": "stdout",
     "output_type": "stream",
     "text": [
      "0.000141초 걸렸습니다.\n"
     ]
    }
   ],
   "source": [
    "import timeit\n",
    "\n",
    "start_time = timeit.default_timer() # 시작 시간 체크\n",
    "\n",
    "bookBFS(graph,'A')\n",
    "terminate_time = timeit.default_timer() # 종료 시간 체크  \n",
    " \n",
    "print(\"%f초 걸렸습니다.\" % (terminate_time - start_time))"
   ]
  },
  {
   "cell_type": "code",
   "execution_count": 171,
   "metadata": {},
   "outputs": [],
   "source": [
    "# DFS 비재귀 역시 O(V) + O(E) => 오류 이런식이면 스택 업데이트가 안일어나서 값 이상해진다\n",
    "\n",
    "def DFS(graph, start_node):\n",
    "    visited = dict()\n",
    "    DFS = list()\n",
    "    for key in graph.keys():\n",
    "        visited[key] = 0\n",
    "    need_visit = list()\n",
    "    visited[start_node] = 1\n",
    "    need_visit.append(start_node)\n",
    "    \n",
    "    while len(need_visit) != 0:\n",
    "        node = need_visit.pop()\n",
    "        DFS.append(node)\n",
    "        for i in graph[node]:\n",
    "            if visited[i] == 0:\n",
    "                visited[i] = 1\n",
    "                need_visit.append(i)\n",
    "    return DFS"
   ]
  },
  {
   "cell_type": "code",
   "execution_count": 179,
   "metadata": {},
   "outputs": [],
   "source": [
    "# DFS 재귀\n",
    "\n",
    "def DFS(graph, start_node):\n",
    "    visited = dict()\n",
    "    for key in graph.keys():\n",
    "        visited[key] = 0\n",
    "    aDFS(graph, visited, start_node)\n",
    "\n",
    "def aDFS(graph, visited, node):\n",
    "    visited[node] = 1\n",
    "    print(node)\n",
    "    for i in graph[node]:\n",
    "        if visited[i] == 0:\n",
    "            aDFS(graph, visited, i)"
   ]
  },
  {
   "cell_type": "code",
   "execution_count": 180,
   "metadata": {},
   "outputs": [
    {
     "name": "stdout",
     "output_type": "stream",
     "text": [
      "A\n",
      "B\n",
      "D\n",
      "E\n",
      "F\n",
      "C\n",
      "G\n",
      "H\n",
      "I\n",
      "J\n"
     ]
    }
   ],
   "source": [
    "DFS(graph, 'A')"
   ]
  },
  {
   "cell_type": "code",
   "execution_count": null,
   "metadata": {},
   "outputs": [],
   "source": []
  }
 ],
 "metadata": {
  "kernelspec": {
   "display_name": "Python 3",
   "language": "python",
   "name": "python3"
  },
  "language_info": {
   "codemirror_mode": {
    "name": "ipython",
    "version": 3
   },
   "file_extension": ".py",
   "mimetype": "text/x-python",
   "name": "python",
   "nbconvert_exporter": "python",
   "pygments_lexer": "ipython3",
   "version": "3.7.3"
  }
 },
 "nbformat": 4,
 "nbformat_minor": 4
}
