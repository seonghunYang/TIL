{
 "cells": [
  {
   "cell_type": "code",
   "execution_count": null,
   "metadata": {},
   "outputs": [],
   "source": [
    "# 11047\n",
    "import sys\n",
    "input = sys.stdin.readline\n",
    "print = sys.stdout.write\n",
    "\n",
    "N, K = map(int, input().split())\n",
    "\n",
    "coins = [int(input()) for _ in range(N)]\n",
    "\n",
    "coins.sort(reverse=True)\n",
    "\n",
    "coin_count = 0\n",
    "for coin in coins:\n",
    "    if coin <= K:\n",
    "        count = K // coin\n",
    "        coin_count += count\n",
    "        K -= coin * count\n",
    "    if K == 0:\n",
    "        break\n",
    "\n",
    "print(str(coin_count) + \" \")"
   ]
  },
  {
   "cell_type": "code",
   "execution_count": null,
   "metadata": {},
   "outputs": [],
   "source": []
  }
 ],
 "metadata": {
  "kernelspec": {
   "display_name": "Python 3",
   "language": "python",
   "name": "python3"
  },
  "language_info": {
   "codemirror_mode": {
    "name": "ipython",
    "version": 3
   },
   "file_extension": ".py",
   "mimetype": "text/x-python",
   "name": "python",
   "nbconvert_exporter": "python",
   "pygments_lexer": "ipython3",
   "version": "3.7.3"
  }
 },
 "nbformat": 4,
 "nbformat_minor": 4
}
