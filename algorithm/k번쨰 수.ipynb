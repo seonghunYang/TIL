{
 "cells": [
  {
   "cell_type": "code",
   "execution_count": 6,
   "metadata": {},
   "outputs": [],
   "source": [
    "# merge sort 이용\n",
    "\n",
    "def mergeSort(data):\n",
    "    if len(data) <= 1:\n",
    "        return data\n",
    "    \n",
    "    mid = int(len(data) / 2)\n",
    "    \n",
    "    left = mergeSort(data[:mid])\n",
    "    right = mergeSort(data[mid:])\n",
    "    \n",
    "    return merge(left, right)\n",
    "\n",
    "def merge(left, right):\n",
    "    left_idx, right_idx = 0, 0\n",
    "    sorted_list = list()\n",
    "    while left_idx <= len(left) - 1 and right_idx <= len(right) - 1:\n",
    "        if left[left_idx] < right[right_idx]:\n",
    "            sorted_list.append(left[left_idx])\n",
    "            left_idx += 1\n",
    "        else:\n",
    "            sorted_list.append(right[right_idx])\n",
    "            right_idx += 1\n",
    "    \n",
    "    while left_idx <= len(left) - 1:\n",
    "        sorted_list.append(left[left_idx])\n",
    "        left_idx += 1\n",
    "        \n",
    "    while right_idx <= len(right) -1:\n",
    "        sorted_list.append(right[right_idx])\n",
    "        right_idx += 1\n",
    "        \n",
    "    return sorted_list"
   ]
  },
  {
   "cell_type": "code",
   "execution_count": 10,
   "metadata": {},
   "outputs": [],
   "source": [
    "def mergeSort(data):\n",
    "    if len(data) <= 1:\n",
    "        return data\n",
    "    \n",
    "    mid = int(len(data) / 2)\n",
    "    \n",
    "    left = mergeSort(data[:mid])\n",
    "    right = mergeSort(data[mid:])\n",
    "    \n",
    "    left_idx, right_idx, k = 0, 0, 0\n",
    "    \n",
    "    while left_idx <= len(left) - 1 and right_idx <= len(right) - 1:\n",
    "        if left[left_idx] < right[right_idx]:\n",
    "            data[k] = left[left_idx]\n",
    "            left_idx += 1\n",
    "        else:\n",
    "            data[k] = right[right_idx]\n",
    "            right_idx += 1\n",
    "        k += 1\n",
    "        \n",
    "    while left_idx <= len(left) - 1:\n",
    "        data[k] = left[left_idx]\n",
    "        left_idx += 1\n",
    "        k+= 1\n",
    "        \n",
    "    while right_idx <= len(right) -1:\n",
    "        data[k] = right[right_idx]\n",
    "        right_idx += 1\n",
    "        k+= 1\n",
    "        \n",
    "    return data"
   ]
  },
  {
   "cell_type": "code",
   "execution_count": 13,
   "metadata": {},
   "outputs": [
    {
     "data": {
      "text/plain": [
       "[10, 20, 21, 25, 51, 53, 70, 71, 92, 99]"
      ]
     },
     "execution_count": 13,
     "metadata": {},
     "output_type": "execute_result"
    }
   ],
   "source": [
    "import random\n",
    "\n",
    "data_list = random.sample(range(1,100), 10)\n",
    "mergeSort(data_list)"
   ]
  },
  {
   "cell_type": "code",
   "execution_count": null,
   "metadata": {},
   "outputs": [],
   "source": []
  }
 ],
 "metadata": {
  "kernelspec": {
   "display_name": "Python 3",
   "language": "python",
   "name": "python3"
  },
  "language_info": {
   "codemirror_mode": {
    "name": "ipython",
    "version": 3
   },
   "file_extension": ".py",
   "mimetype": "text/x-python",
   "name": "python",
   "nbconvert_exporter": "python",
   "pygments_lexer": "ipython3",
   "version": "3.7.3"
  }
 },
 "nbformat": 4,
 "nbformat_minor": 4
}
