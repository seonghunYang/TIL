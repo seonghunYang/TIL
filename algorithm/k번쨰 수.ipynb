{
 "cells": [
  {
   "cell_type": "markdown",
   "metadata": {},
   "source": [
    "맞은것들"
   ]
  },
  {
   "cell_type": "code",
   "execution_count": null,
   "metadata": {},
   "outputs": [],
   "source": [
    "# 더 빠르고 메모리 적음 785176\t5060\n",
    "def mergeSort(data):\n",
    "    if len(data) <= 1:\n",
    "        return data\n",
    "    \n",
    "    mid = len(data) // 2\n",
    "    \n",
    "    left = mergeSort(data[:mid])\n",
    "    right = mergeSort(data[mid:])\n",
    "    \n",
    "    left_idx, right_idx, k = 0, 0, 0\n",
    "    \n",
    "    while left_idx <= len(left) - 1 and right_idx <= len(right) - 1:\n",
    "        if left[left_idx] < right[right_idx]:\n",
    "            data[k] = left[left_idx]\n",
    "            left_idx += 1\n",
    "        else:\n",
    "            data[k] = right[right_idx]\n",
    "            right_idx += 1\n",
    "        k += 1\n",
    "        \n",
    "    while left_idx <= len(left) - 1:\n",
    "        data[k] = left[left_idx]\n",
    "        left_idx += 1\n",
    "        k+= 1\n",
    "        \n",
    "    while right_idx <= len(right) -1:\n",
    "        data[k] = right[right_idx]\n",
    "        right_idx += 1\n",
    "        k+= 1\n",
    "        \n",
    "    return data\n",
    "n, k = map(int, input().split())\n",
    "data = list(map(int,input().split()))\n",
    "\n",
    "array = mergeSort(data)\n",
    "print(array[k-1])\n",
    "\n",
    "\n",
    "# 856432\t6888\n",
    "n, k = map(int, input().split())\n",
    "data = list(map(int,input().split()))\n",
    "\n",
    "def mergeSort(data):\n",
    "    if len(data) <= 1:\n",
    "        return data\n",
    "    \n",
    "    mid = int(len(data) / 2)\n",
    "    \n",
    "    left = mergeSort(data[:mid])\n",
    "    right = mergeSort(data[mid:])\n",
    "    \n",
    "    return merge(left, right)\n",
    "\n",
    "def merge(left, right):\n",
    "    left_idx, right_idx = 0, 0\n",
    "    sorted_list = list()\n",
    "    while left_idx <= len(left) - 1 and right_idx <= len(right) - 1:\n",
    "        if left[left_idx] < right[right_idx]:\n",
    "            sorted_list.append(left[left_idx])\n",
    "            left_idx += 1\n",
    "        else:\n",
    "            sorted_list.append(right[right_idx])\n",
    "            right_idx += 1\n",
    "    \n",
    "    while left_idx <= len(left) - 1:\n",
    "        sorted_list.append(left[left_idx])\n",
    "        left_idx += 1\n",
    "        \n",
    "    while right_idx <= len(right) -1:\n",
    "        sorted_list.append(right[right_idx])\n",
    "        right_idx += 1\n",
    "        \n",
    "    return sorted_list\n",
    "\n",
    "sort_list = mergeSort(data)\n",
    "print(sort_list[k-1])"
   ]
  },
  {
   "cell_type": "code",
   "execution_count": 6,
   "metadata": {},
   "outputs": [],
   "source": [
    "# merge sort 이용\n",
    "\n",
    "def mergeSort(data):\n",
    "    if len(data) <= 1:\n",
    "        return data\n",
    "    \n",
    "    mid = int(len(data) / 2)\n",
    "    \n",
    "    left = mergeSort(data[:mid])\n",
    "    right = mergeSort(data[mid:])\n",
    "    \n",
    "    return merge(left, right)\n",
    "\n",
    "def merge(left, right):\n",
    "    left_idx, right_idx = 0, 0\n",
    "    sorted_list = list()\n",
    "    while left_idx <= len(left) - 1 and right_idx <= len(right) - 1:\n",
    "        if left[left_idx] < right[right_idx]:\n",
    "            sorted_list.append(left[left_idx])\n",
    "            left_idx += 1\n",
    "        else:\n",
    "            sorted_list.append(right[right_idx])\n",
    "            right_idx += 1\n",
    "    \n",
    "    while left_idx <= len(left) - 1:\n",
    "        sorted_list.append(left[left_idx])\n",
    "        left_idx += 1\n",
    "        \n",
    "    while right_idx <= len(right) -1:\n",
    "        sorted_list.append(right[right_idx])\n",
    "        right_idx += 1\n",
    "        \n",
    "    return sorted_list"
   ]
  },
  {
   "cell_type": "code",
   "execution_count": 10,
   "metadata": {},
   "outputs": [],
   "source": [
    "def mergeSort(data):\n",
    "    if len(data) <= 1:\n",
    "        return data\n",
    "    \n",
    "    mid = int(len(data) / 2)\n",
    "    \n",
    "    left = mergeSort(data[:mid])\n",
    "    right = mergeSort(data[mid:])\n",
    "    \n",
    "    left_idx, right_idx, k = 0, 0, 0\n",
    "    \n",
    "    while left_idx <= len(left) - 1 and right_idx <= len(right) - 1:\n",
    "        if left[left_idx] < right[right_idx]:\n",
    "            data[k] = left[left_idx]\n",
    "            left_idx += 1\n",
    "        else:\n",
    "            data[k] = right[right_idx]\n",
    "            right_idx += 1\n",
    "        k += 1\n",
    "        \n",
    "    while left_idx <= len(left) - 1:\n",
    "        data[k] = left[left_idx]\n",
    "        left_idx += 1\n",
    "        k+= 1\n",
    "        \n",
    "    while right_idx <= len(right) -1:\n",
    "        data[k] = right[right_idx]\n",
    "        right_idx += 1\n",
    "        k+= 1\n",
    "        \n",
    "    return data"
   ]
  },
  {
   "cell_type": "code",
   "execution_count": 13,
   "metadata": {},
   "outputs": [
    {
     "data": {
      "text/plain": [
       "[10, 20, 21, 25, 51, 53, 70, 71, 92, 99]"
      ]
     },
     "execution_count": 13,
     "metadata": {},
     "output_type": "execute_result"
    }
   ],
   "source": [
    "import random\n",
    "\n",
    "data_list = random.sample(range(1,100), 10)\n",
    "mergeSort(data_list)"
   ]
  },
  {
   "cell_type": "code",
   "execution_count": 14,
   "metadata": {},
   "outputs": [],
   "source": [
    "# 메모리 초과\n",
    "def qsort(data):\n",
    "    if len(data) <= 1:\n",
    "        return data\n",
    "    left, right = list(), list()\n",
    "    pivot = data[0]\n",
    "    for idx in range(1, len(data)):\n",
    "        if pivot <= data[idx]:\n",
    "            right.append(data[idx])\n",
    "        else:\n",
    "            left.append(data[idx])\n",
    "    return qsort(left) + [pivot] + qsort(right)"
   ]
  },
  {
   "cell_type": "code",
   "execution_count": null,
   "metadata": {},
   "outputs": [],
   "source": [
    "# 시간초과\n",
    "n, k = map(int, input().split())\n",
    "data = list(map(int,input().split()))\n",
    "\n",
    "def qsort(data):\n",
    "    if len(data) <= 1:\n",
    "        return data\n",
    "    left, right = list(), list()\n",
    "    pivot = data[0]\n",
    "    left = [item for item in data[1:] if pivot > item]\n",
    "    right = [item for item in data[1:] if pivot <=item]\n",
    "    return qsort(left) + [pivot] + qsort(right)\n",
    "\n",
    "sort_list = qsort(data)\n",
    "print(sort_list[k-1])"
   ]
  },
  {
   "cell_type": "code",
   "execution_count": 15,
   "metadata": {},
   "outputs": [],
   "source": [
    "# 메모리 초과 => qsort worst의 단점?\n",
    "def qsort(data):\n",
    "    if len(data) <= 1:\n",
    "        return data\n",
    "    pivot = data[-1]\n",
    "    l=0\n",
    "    for r in range(len(data)-1):\n",
    "        if data[r] < pivot:\n",
    "            data[l], data[r] = data[r], data[l]\n",
    "            l+=1\n",
    "    data[l], data[-1] = data[-1], data[l]\n",
    "    \n",
    "    return qsort(data[:l]) + [pivot] + qsort(data[l+1:])"
   ]
  },
  {
   "cell_type": "code",
   "execution_count": 19,
   "metadata": {},
   "outputs": [
    {
     "data": {
      "text/plain": [
       "[8, 24, 36, 57, 60, 65, 72, 78, 89, 95]"
      ]
     },
     "execution_count": 19,
     "metadata": {},
     "output_type": "execute_result"
    }
   ],
   "source": [
    "import random\n",
    "\n",
    "data_list = random.sample(range(1,100), 10)\n",
    "qsort(data_list)"
   ]
  },
  {
   "cell_type": "code",
   "execution_count": null,
   "metadata": {},
   "outputs": [],
   "source": [
    "# 시간초과\n",
    "import sys\n",
    "n, k = map(int, input().split())\n",
    "data = sys.stdin.readline().split(' ')\n",
    "for i in range(len(data)):\n",
    "    data[i] = int(data[i])\n",
    "\n",
    "import math\n",
    "\n",
    "def findMedian(data):\n",
    "    sort_data = sorted(data)\n",
    "    return sort_data[len(sort_data) // 2]\n",
    "\n",
    "def quickSelect(data, k, n):\n",
    "    if len(data) <= 5:\n",
    "        data.sort()\n",
    "        return data[k-1]\n",
    "    \n",
    "    median_list = [findMedian(data[i: i+5]) for i in range(0, n, 5)]\n",
    "\n",
    "    median_list_num = math.ceil(n / 5)\n",
    "    pivot = quickSelect(median_list, median_list_num // 2 + 1, median_list_num)\n",
    "    \n",
    "    pivot_idx = data.index(pivot)\n",
    "    data[pivot_idx], data[-1] = data[-1], data[pivot_idx]\n",
    "    \n",
    "    left = [item for item in data[:-1] if item < pivot]\n",
    "    right = [item for item in data[:-1] if item >= pivot]\n",
    "    \n",
    "    pivot_num = len(left) + 1\n",
    "    \n",
    "    if k == pivot_num:\n",
    "        return pivot\n",
    "    elif k > pivot_num:\n",
    "        return quickSelect(right, k-pivot_num, n-pivot_num)\n",
    "    elif k < pivot_num:\n",
    "        return quickSelect(left, k,pivot_num -1)\n",
    "\n",
    "answer = quickSelect(data, k, n)\n",
    "\n",
    "print(answer)"
   ]
  },
  {
   "cell_type": "code",
   "execution_count": 34,
   "metadata": {},
   "outputs": [
    {
     "ename": "KeyboardInterrupt",
     "evalue": "Interrupted by user",
     "output_type": "error",
     "traceback": [
      "\u001b[1;31m---------------------------------------------------------------------------\u001b[0m",
      "\u001b[1;31mKeyboardInterrupt\u001b[0m                         Traceback (most recent call last)",
      "\u001b[1;32m<ipython-input-34-9061fdceb695>\u001b[0m in \u001b[0;36m<module>\u001b[1;34m\u001b[0m\n\u001b[0;32m      1\u001b[0m \u001b[1;32mimport\u001b[0m \u001b[0msys\u001b[0m\u001b[1;33m\u001b[0m\u001b[1;33m\u001b[0m\u001b[0m\n\u001b[1;32m----> 2\u001b[1;33m \u001b[0mn\u001b[0m\u001b[1;33m,\u001b[0m \u001b[0mk\u001b[0m \u001b[1;33m=\u001b[0m \u001b[0mmap\u001b[0m\u001b[1;33m(\u001b[0m\u001b[0mint\u001b[0m\u001b[1;33m,\u001b[0m \u001b[0minput\u001b[0m\u001b[1;33m(\u001b[0m\u001b[1;33m)\u001b[0m\u001b[1;33m.\u001b[0m\u001b[0msplit\u001b[0m\u001b[1;33m(\u001b[0m\u001b[1;33m)\u001b[0m\u001b[1;33m)\u001b[0m\u001b[1;33m\u001b[0m\u001b[1;33m\u001b[0m\u001b[0m\n\u001b[0m\u001b[0;32m      3\u001b[0m \u001b[0mdata\u001b[0m \u001b[1;33m=\u001b[0m \u001b[0msys\u001b[0m\u001b[1;33m.\u001b[0m\u001b[0mstdin\u001b[0m\u001b[1;33m.\u001b[0m\u001b[0mreadline\u001b[0m\u001b[1;33m(\u001b[0m\u001b[1;33m)\u001b[0m\u001b[1;33m.\u001b[0m\u001b[0msplit\u001b[0m\u001b[1;33m(\u001b[0m\u001b[1;34m' '\u001b[0m\u001b[1;33m)\u001b[0m\u001b[1;33m\u001b[0m\u001b[1;33m\u001b[0m\u001b[0m\n\u001b[0;32m      4\u001b[0m \u001b[1;32mfor\u001b[0m \u001b[0mi\u001b[0m \u001b[1;32min\u001b[0m \u001b[0mrange\u001b[0m\u001b[1;33m(\u001b[0m\u001b[0mlen\u001b[0m\u001b[1;33m(\u001b[0m\u001b[0mdata\u001b[0m\u001b[1;33m)\u001b[0m\u001b[1;33m)\u001b[0m\u001b[1;33m:\u001b[0m\u001b[1;33m\u001b[0m\u001b[1;33m\u001b[0m\u001b[0m\n\u001b[0;32m      5\u001b[0m     \u001b[0mdata\u001b[0m\u001b[1;33m[\u001b[0m\u001b[0mi\u001b[0m\u001b[1;33m]\u001b[0m \u001b[1;33m=\u001b[0m \u001b[0mint\u001b[0m\u001b[1;33m(\u001b[0m\u001b[0mdata\u001b[0m\u001b[1;33m[\u001b[0m\u001b[0mi\u001b[0m\u001b[1;33m]\u001b[0m\u001b[1;33m)\u001b[0m\u001b[1;33m\u001b[0m\u001b[1;33m\u001b[0m\u001b[0m\n",
      "\u001b[1;32m~\\Anaconda3\\Lib\\site-packages\\ipykernel\\kernelbase.py\u001b[0m in \u001b[0;36mraw_input\u001b[1;34m(self, prompt)\u001b[0m\n\u001b[0;32m    861\u001b[0m             \u001b[0mself\u001b[0m\u001b[1;33m.\u001b[0m\u001b[0m_parent_ident\u001b[0m\u001b[1;33m,\u001b[0m\u001b[1;33m\u001b[0m\u001b[1;33m\u001b[0m\u001b[0m\n\u001b[0;32m    862\u001b[0m             \u001b[0mself\u001b[0m\u001b[1;33m.\u001b[0m\u001b[0m_parent_header\u001b[0m\u001b[1;33m,\u001b[0m\u001b[1;33m\u001b[0m\u001b[1;33m\u001b[0m\u001b[0m\n\u001b[1;32m--> 863\u001b[1;33m             \u001b[0mpassword\u001b[0m\u001b[1;33m=\u001b[0m\u001b[1;32mFalse\u001b[0m\u001b[1;33m,\u001b[0m\u001b[1;33m\u001b[0m\u001b[1;33m\u001b[0m\u001b[0m\n\u001b[0m\u001b[0;32m    864\u001b[0m         )\n\u001b[0;32m    865\u001b[0m \u001b[1;33m\u001b[0m\u001b[0m\n",
      "\u001b[1;32m~\\Anaconda3\\Lib\\site-packages\\ipykernel\\kernelbase.py\u001b[0m in \u001b[0;36m_input_request\u001b[1;34m(self, prompt, ident, parent, password)\u001b[0m\n\u001b[0;32m    902\u001b[0m             \u001b[1;32mexcept\u001b[0m \u001b[0mKeyboardInterrupt\u001b[0m\u001b[1;33m:\u001b[0m\u001b[1;33m\u001b[0m\u001b[1;33m\u001b[0m\u001b[0m\n\u001b[0;32m    903\u001b[0m                 \u001b[1;31m# re-raise KeyboardInterrupt, to truncate traceback\u001b[0m\u001b[1;33m\u001b[0m\u001b[1;33m\u001b[0m\u001b[1;33m\u001b[0m\u001b[0m\n\u001b[1;32m--> 904\u001b[1;33m                 \u001b[1;32mraise\u001b[0m \u001b[0mKeyboardInterrupt\u001b[0m\u001b[1;33m(\u001b[0m\u001b[1;34m\"Interrupted by user\"\u001b[0m\u001b[1;33m)\u001b[0m \u001b[1;32mfrom\u001b[0m \u001b[1;32mNone\u001b[0m\u001b[1;33m\u001b[0m\u001b[1;33m\u001b[0m\u001b[0m\n\u001b[0m\u001b[0;32m    905\u001b[0m             \u001b[1;32mexcept\u001b[0m \u001b[0mException\u001b[0m \u001b[1;32mas\u001b[0m \u001b[0me\u001b[0m\u001b[1;33m:\u001b[0m\u001b[1;33m\u001b[0m\u001b[1;33m\u001b[0m\u001b[0m\n\u001b[0;32m    906\u001b[0m                 \u001b[0mself\u001b[0m\u001b[1;33m.\u001b[0m\u001b[0mlog\u001b[0m\u001b[1;33m.\u001b[0m\u001b[0mwarning\u001b[0m\u001b[1;33m(\u001b[0m\u001b[1;34m\"Invalid Message:\"\u001b[0m\u001b[1;33m,\u001b[0m \u001b[0mexc_info\u001b[0m\u001b[1;33m=\u001b[0m\u001b[1;32mTrue\u001b[0m\u001b[1;33m)\u001b[0m\u001b[1;33m\u001b[0m\u001b[1;33m\u001b[0m\u001b[0m\n",
      "\u001b[1;31mKeyboardInterrupt\u001b[0m: Interrupted by user"
     ]
    }
   ],
   "source": [
    "import sys\n",
    "n, k = map(int, input().split())\n",
    "data = sys.stdin.readline().split(' ')\n",
    "for i in range(len(data)):\n",
    "    data[i] = int(data[i])\n",
    "\n",
    "import math\n",
    "\n",
    "def findMedian(data):\n",
    "    sort_data = sorted(data)\n",
    "    return sort_data[len(sort_data) // 2]\n",
    "\n",
    "def quickSelect(data, k):\n",
    "    if len(data) <= 5:\n",
    "        data.sort()\n",
    "        return data[k-1]\n",
    "    \n",
    "    n = len(data)\n",
    "    median_list = [findMedian(data[i: i+5]) for i in range(0, n, 5)]\n",
    "\n",
    "    median_list_num = math.ceil(n / 5)\n",
    "    pivot = quickSelect(median_list, median_list_num // 2 + 1)\n",
    "    \n",
    "    pivot_idx = data.index(pivot)\n",
    "    data[pivot_idx], data[-1] = data[-1], data[pivot_idx]\n",
    "    \n",
    "    l=0\n",
    "    for r in range(len(data)-1):\n",
    "        if data[r] < pivot:\n",
    "            data[l], data[r] = data[r], data[l]\n",
    "            l+=1\n",
    "    data[l], data[-1] = data[-1], data[l]\n",
    "    pivot_num = l + 1\n",
    "    \n",
    "    if k == pivot_num:\n",
    "        return pivot\n",
    "    elif k > pivot_num:\n",
    "        return quickSelect(data[pivot_num:], k-pivot_num)\n",
    "    elif k < pivot_num:\n",
    "        return quickSelect(data[:l], k)\n",
    "\n",
    "answer = quickSelect(data, k)\n",
    "\n",
    "print(answer)"
   ]
  },
  {
   "cell_type": "code",
   "execution_count": 33,
   "metadata": {},
   "outputs": [
    {
     "data": {
      "text/plain": [
       "85"
      ]
     },
     "execution_count": 33,
     "metadata": {},
     "output_type": "execute_result"
    }
   ],
   "source": [
    "import random\n",
    "\n",
    "data_list = random.sample(range(1,100), 10)\n",
    "quickSelect(data_list, 1)"
   ]
  },
  {
   "cell_type": "code",
   "execution_count": null,
   "metadata": {},
   "outputs": [],
   "source": []
  }
 ],
 "metadata": {
  "kernelspec": {
   "display_name": "Python 3",
   "language": "python",
   "name": "python3"
  },
  "language_info": {
   "codemirror_mode": {
    "name": "ipython",
    "version": 3
   },
   "file_extension": ".py",
   "mimetype": "text/x-python",
   "name": "python",
   "nbconvert_exporter": "python",
   "pygments_lexer": "ipython3",
   "version": "3.7.3"
  }
 },
 "nbformat": 4,
 "nbformat_minor": 4
}
