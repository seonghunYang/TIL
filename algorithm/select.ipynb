{
 "cells": [
  {
   "cell_type": "code",
   "execution_count": 42,
   "metadata": {},
   "outputs": [],
   "source": [
    "# linear select\n",
    "def select(data, k):\n",
    "    if len(data) <= 1:\n",
    "        return data[0]\n",
    "    pivot = data[-1]\n",
    "    \n",
    "    left = [item for item in data[:-1] if item < pivot]\n",
    "    right = [item for item in data[:-1] if item >= pivot]\n",
    "    \n",
    "    pivot_num = len(left) + 1\n",
    "    print(pivot, pivot_num, k)\n",
    "    if k == pivot_num:\n",
    "        return pivot\n",
    "    elif k < pivot_num:\n",
    "        return select(left, k)\n",
    "    elif k > pivot_num:\n",
    "        return select(right, k - pivot_num)"
   ]
  },
  {
   "cell_type": "code",
   "execution_count": 44,
   "metadata": {},
   "outputs": [],
   "source": [
    "def select(data,k):\n",
    "    if len(data) <= 1:\n",
    "        return data[0]\n",
    "    pivot = data[0]\n",
    "    \n",
    "    left = [item for item in data[1:] if item < pivot]\n",
    "    right = [item for item in data[1:] if item >= pivot]\n",
    "    \n",
    "    pivot_k = len(left) + 1\n",
    "    \n",
    "    if k == pivot_k:\n",
    "        return pivot\n",
    "    elif k> pivot_k:\n",
    "        return select(right, k-pivot_k)\n",
    "    elif k< pivot_k:\n",
    "        return select(left, k)"
   ]
  },
  {
   "cell_type": "code",
   "execution_count": 47,
   "metadata": {},
   "outputs": [
    {
     "name": "stdout",
     "output_type": "stream",
     "text": [
      "[91, 54, 5, 63, 46, 98, 61, 84, 81, 53] 5\n"
     ]
    },
    {
     "data": {
      "text/plain": [
       "5"
      ]
     },
     "execution_count": 47,
     "metadata": {},
     "output_type": "execute_result"
    }
   ],
   "source": [
    "import random\n",
    "\n",
    "data_list = random.sample(range(1,100), 10)\n",
    "print(data_list, min(data_list))\n",
    "select(data_list, 1)"
   ]
  },
  {
   "cell_type": "code",
   "execution_count": null,
   "metadata": {},
   "outputs": [],
   "source": [
    "# medians of medians\n",
    "\n",
    "def medians(groupData):\n",
    "    sortedData = sorted(groupData)\n",
    "    return sortedData[len(sortedData) // 2 + 1]\n",
    "    \n",
    "def medianSelect(data, k):\n",
    "    if len(data) <= 5:\n",
    "        data.sort()\n",
    "        return data[k-1]\n",
    "    \n",
    "    for i in range(0, len(data), 5):\n",
    "        group"
   ]
  },
  {
   "cell_type": "code",
   "execution_count": 13,
   "metadata": {},
   "outputs": [
    {
     "data": {
      "text/plain": [
       "[4]"
      ]
     },
     "execution_count": 13,
     "metadata": {},
     "output_type": "execute_result"
    }
   ],
   "source": [
    "a = [ 1, 4, 2]\n",
    "a[1: -1]"
   ]
  },
  {
   "cell_type": "code",
   "execution_count": null,
   "metadata": {},
   "outputs": [],
   "source": []
  }
 ],
 "metadata": {
  "kernelspec": {
   "display_name": "Python 3",
   "language": "python",
   "name": "python3"
  },
  "language_info": {
   "codemirror_mode": {
    "name": "ipython",
    "version": 3
   },
   "file_extension": ".py",
   "mimetype": "text/x-python",
   "name": "python",
   "nbconvert_exporter": "python",
   "pygments_lexer": "ipython3",
   "version": "3.7.3"
  }
 },
 "nbformat": 4,
 "nbformat_minor": 4
}
