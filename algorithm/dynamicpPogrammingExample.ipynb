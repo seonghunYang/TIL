{
 "cells": [
  {
   "cell_type": "code",
   "execution_count": 4,
   "metadata": {},
   "outputs": [
    {
     "name": "stdout",
     "output_type": "stream",
     "text": [
      "3\n",
      "39\n"
     ]
    }
   ],
   "source": [
    "#행렬경로 문제\n",
    "\n",
    "n = int(input())\n",
    "\n",
    "matrix = [[6, 7, 12], [5, 3, 11], [7, 17, 3]]\n",
    "\n",
    "cache = [[0] * (n+1) for _ in range(n+1)]\n",
    "\n",
    "for i in range(1, n+1):\n",
    "    for j in range(1, n+1):\n",
    "        cache[i][j] = matrix[i-1][j-1] + max(cache[i-1][j], cache[i][j-1])\n",
    "print(cache[n][n])"
   ]
  },
  {
   "cell_type": "code",
   "execution_count": 15,
   "metadata": {
    "scrolled": true
   },
   "outputs": [
    {
     "name": "stdout",
     "output_type": "stream",
     "text": [
      "15125\n"
     ]
    }
   ],
   "source": [
    "#행렬의 곱셈\n",
    "N = 6\n",
    "p = [30, 35, 15, 5, 10, 20, 25]\n",
    "\n",
    "cache = [[0] * (N+1) for _ in range(N+1)]\n",
    "\n",
    "for n in range(2, N+1):\n",
    "    for i in range(1, N - n + 2):\n",
    "        j = i + n -1\n",
    "        min_value = 0\n",
    "        for k in range(i, j):\n",
    "            value = cache[i][k] + cache[k+1][j] + p[i-1] * p[k] * p[j]\n",
    "            if min_value == 0 or min_value > value:\n",
    "                min_value = value\n",
    "        cache[i][j] = min_value\n",
    "\n",
    "print(cache[1][n])"
   ]
  },
  {
   "cell_type": "code",
   "execution_count": 16,
   "metadata": {},
   "outputs": [
    {
     "name": "stdout",
     "output_type": "stream",
     "text": [
      "33\n"
     ]
    }
   ],
   "source": [
    "# 행렬의 곱셈과 비교 연속합 문제\n",
    "N = 10\n",
    "p = [10, -4, 3, 1, 5, 6, -35, 12, 21, -1]\n",
    "\n",
    "for i in range(1, N):\n",
    "    p[i] = max(p[i-1] + p[i], p[i])\n",
    "\n",
    "print(max(p))"
   ]
  },
  {
   "cell_type": "code",
   "execution_count": 19,
   "metadata": {},
   "outputs": [
    {
     "name": "stdout",
     "output_type": "stream",
     "text": [
      "4\n"
     ]
    }
   ],
   "source": [
    "#LCS\n",
    "string1= \"bdcaba\"\n",
    "string2 = \"abcbdab\"\n",
    "\n",
    "n1 = len(string1) \n",
    "n2 = len(string2) \n",
    "commonCount = [[0] * (n2 +1) for _ in range(n1 + 1)]\n",
    "\n",
    "for i in range(1, n1 + 1):\n",
    "    for j in range(1, n2 + 1):\n",
    "        if string1[i-1] == string2[j-1]:\n",
    "            commonCount[i][j] = commonCount[i-1][j-1] + 1\n",
    "        else:\n",
    "            commonCount[i][j] = max(commonCount[i-1][j], commonCount[i][j-1])\n",
    "    \n",
    "print(commonCount[n1][n2])"
   ]
  },
  {
   "cell_type": "code",
   "execution_count": 9,
   "metadata": {},
   "outputs": [
    {
     "data": {
      "text/plain": [
       "[1, 3, 4, 7]"
      ]
     },
     "execution_count": 9,
     "metadata": {},
     "output_type": "execute_result"
    }
   ],
   "source": [
    "#LCS를 이용한 LIS\n",
    "\n",
    "import sys\n",
    "input = sys.stdin.readline\n",
    "print = sys.stdout.write\n",
    "\n",
    "N = int(input())\n",
    "arr = list(map(int, input().split()))\n",
    "\n",
    "uniqueSortedArr = sorted(list(set(arr)))\n",
    "uniqueSortedArrLen = len(uniqueSortedArr)\n",
    "\n",
    "\n",
    "subSequence = [[0] * (N+1) for _ in range(uniqueSortedArrLen+1)]\n",
    "\n",
    "for i in range(1, uniqueSortedArrLen+1):\n",
    "    for j in range(1, N+1):\n",
    "        if uniqueSortedArr[i-1] == arr[j-1]:\n",
    "            subSequence[i][j] = subSequence[i-1][j-1] + 1\n",
    "        else:\n",
    "            subSequence[i][j] = max(subSequence[i-1][j], subSequence[i][j-1])\n",
    "\n",
    "print(str(subSequence[uniqueSortedArrLen][N]) + \" \")\n",
    "                                      "
   ]
  },
  {
   "cell_type": "code",
   "execution_count": null,
   "metadata": {},
   "outputs": [],
   "source": []
  }
 ],
 "metadata": {
  "kernelspec": {
   "display_name": "Python 3",
   "language": "python",
   "name": "python3"
  },
  "language_info": {
   "codemirror_mode": {
    "name": "ipython",
    "version": 3
   },
   "file_extension": ".py",
   "mimetype": "text/x-python",
   "name": "python",
   "nbconvert_exporter": "python",
   "pygments_lexer": "ipython3",
   "version": "3.7.3"
  }
 },
 "nbformat": 4,
 "nbformat_minor": 4
}
