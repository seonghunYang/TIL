{
 "cells": [
  {
   "cell_type": "code",
   "execution_count": null,
   "metadata": {},
   "outputs": [],
   "source": [
    "# 11047 그리디\n",
    "import sys\n",
    "input = sys.stdin.readline\n",
    "print = sys.stdout.write\n",
    "\n",
    "N, K = map(int, input().split())\n",
    "\n",
    "coins = [int(input()) for _ in range(N)]\n",
    "\n",
    "coins.sort(reverse=True)\n",
    "\n",
    "coin_count = 0\n",
    "for coin in coins:\n",
    "    if coin <= K:\n",
    "        count = K // coin\n",
    "        coin_count += count\n",
    "        K -= coin * count\n",
    "    if K == 0:\n",
    "        break\n",
    "\n",
    "print(str(coin_count) + \" \")"
   ]
  },
  {
   "cell_type": "code",
   "execution_count": 3,
   "metadata": {},
   "outputs": [],
   "source": [
    "# 부분배낭문제\n",
    "data_list = [(10, 10), (15, 12), (20, 10), (25, 8), (30, 5)]\n",
    "\n",
    "def fractional(capacity):\n",
    "    data_list.sort(key=lambda x: x[1] / x[0] , reverse=True)\n",
    "    \n",
    "    maxValue = 0\n",
    "    \n",
    "    for data in data_list:\n",
    "        if capacity >= data[0]:\n",
    "            maxValue += data[1]\n",
    "            capacity -= data[0]\n",
    "        else:\n",
    "            fraction = capacity / data[0]\n",
    "            maxValue += data[1] * fraction\n",
    "            break\n",
    "    return maxValue"
   ]
  },
  {
   "cell_type": "code",
   "execution_count": 4,
   "metadata": {},
   "outputs": [
    {
     "data": {
      "text/plain": [
       "24.5"
      ]
     },
     "execution_count": 4,
     "metadata": {},
     "output_type": "execute_result"
    }
   ],
   "source": [
    "fractional(30)"
   ]
  },
  {
   "cell_type": "code",
   "execution_count": 1,
   "metadata": {},
   "outputs": [
    {
     "name": "stdout",
     "output_type": "stream",
     "text": [
      "4\n",
      "1 1\n",
      "1 3\n",
      "4 5\n",
      "6 9\n",
      "4 \n"
     ]
    }
   ],
   "source": [
    "# 회으실 1931\n",
    "import sys\n",
    "# input = sys.stdin.readline\n",
    "# print = sys.stdout.write\n",
    "\n",
    "N = int(input())\n",
    "\n",
    "startEnd = [ list(map(int, input().split())) for _ in range(N) ]\n",
    "startEnd.sort(key=lambda x:x[0])\n",
    "startEnd.sort(key=lambda x:x[1])\n",
    "\n",
    "selected = 0\n",
    "count = 1\n",
    "for i in range(1, N):\n",
    "    if startEnd[selected][1] <= startEnd[i][0]:\n",
    "        count += 1\n",
    "        selected = i\n",
    "\n",
    "print(str(count) + \" \")"
   ]
  },
  {
   "cell_type": "markdown",
   "metadata": {},
   "source": [
    "#### "
   ]
  }
 ],
 "metadata": {
  "kernelspec": {
   "display_name": "Python 3",
   "language": "python",
   "name": "python3"
  },
  "language_info": {
   "codemirror_mode": {
    "name": "ipython",
    "version": 3
   },
   "file_extension": ".py",
   "mimetype": "text/x-python",
   "name": "python",
   "nbconvert_exporter": "python",
   "pygments_lexer": "ipython3",
   "version": "3.7.3"
  }
 },
 "nbformat": 4,
 "nbformat_minor": 4
}
