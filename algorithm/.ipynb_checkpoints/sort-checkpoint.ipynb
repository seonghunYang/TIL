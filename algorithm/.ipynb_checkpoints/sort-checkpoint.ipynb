{
 "cells": [
  {
   "cell_type": "code",
   "execution_count": 67,
   "metadata": {},
   "outputs": [],
   "source": [
    "# bubble sort\n",
    "def bubbleSort(data):\n",
    "    swap = False\n",
    "    for len_list in range(len(data)-1, 0, -1):\n",
    "        for idx in range(0, len_list):\n",
    "            if data[idx] > data[idx+1]:\n",
    "                data[idx], data[idx+1] = data[idx+1], data[idx]\n",
    "                swap = True\n",
    "        if swap == False:\n",
    "            break\n",
    "    return data"
   ]
  },
  {
   "cell_type": "code",
   "execution_count": 68,
   "metadata": {
    "scrolled": true
   },
   "outputs": [
    {
     "data": {
      "text/plain": [
       "[0,\n",
       " 1,\n",
       " 8,\n",
       " 9,\n",
       " 10,\n",
       " 12,\n",
       " 13,\n",
       " 16,\n",
       " 19,\n",
       " 20,\n",
       " 25,\n",
       " 26,\n",
       " 28,\n",
       " 29,\n",
       " 30,\n",
       " 34,\n",
       " 35,\n",
       " 37,\n",
       " 38,\n",
       " 39,\n",
       " 40,\n",
       " 44,\n",
       " 48,\n",
       " 49,\n",
       " 50,\n",
       " 55,\n",
       " 56,\n",
       " 57,\n",
       " 59,\n",
       " 60,\n",
       " 61,\n",
       " 62,\n",
       " 63,\n",
       " 64,\n",
       " 66,\n",
       " 69,\n",
       " 70,\n",
       " 72,\n",
       " 73,\n",
       " 74,\n",
       " 78,\n",
       " 79,\n",
       " 82,\n",
       " 83,\n",
       " 86,\n",
       " 88,\n",
       " 90,\n",
       " 96,\n",
       " 98,\n",
       " 99]"
      ]
     },
     "execution_count": 68,
     "metadata": {},
     "output_type": "execute_result"
    }
   ],
   "source": [
    "import random\n",
    "\n",
    "data_list = random.sample(range(100), 50)\n",
    "bubbleSort(data_list)"
   ]
  },
  {
   "cell_type": "code",
   "execution_count": 69,
   "metadata": {},
   "outputs": [],
   "source": [
    "# 선택정렬\n",
    "def selectSort(data):\n",
    "    for len_list in range(len(data)-1, 0, -1):\n",
    "        maxest = len_list\n",
    "        for idx in range(0, len_list):\n",
    "            if data[idx] > data[maxest]:\n",
    "                maxest = idx\n",
    "        if maxest != len_list:\n",
    "            data[len_list], data[maxest] = data[maxest], data[len_list]\n",
    "    return data "
   ]
  },
  {
   "cell_type": "code",
   "execution_count": 79,
   "metadata": {},
   "outputs": [
    {
     "data": {
      "text/plain": [
       "[16, 20, 24, 29, 32, 40, 58, 60, 68, 94]"
      ]
     },
     "execution_count": 79,
     "metadata": {},
     "output_type": "execute_result"
    }
   ],
   "source": [
    "import random\n",
    "\n",
    "data_list = random.sample(range(100), 10)\n",
    "selectSort(data_list)"
   ]
  },
  {
   "cell_type": "code",
   "execution_count": 87,
   "metadata": {},
   "outputs": [],
   "source": [
    "def insertSort(data):\n",
    "    for len_list in range(1, len(data)):\n",
    "        for idx in range(len_list, 0, -1):\n",
    "            if data[idx] < data[idx-1]:\n",
    "                data[idx-1], data[idx] = data[idx], data[idx-1]\n",
    "            else:\n",
    "                break\n",
    "    return data"
   ]
  },
  {
   "cell_type": "code",
   "execution_count": 88,
   "metadata": {},
   "outputs": [
    {
     "data": {
      "text/plain": [
       "[23, 27, 38, 44, 56, 63, 70, 72, 86, 89]"
      ]
     },
     "execution_count": 88,
     "metadata": {},
     "output_type": "execute_result"
    }
   ],
   "source": [
    "import random\n",
    "\n",
    "data_list = random.sample(range(100), 10)\n",
    "insertSort(data_list)"
   ]
  },
  {
   "cell_type": "code",
   "execution_count": 33,
   "metadata": {},
   "outputs": [],
   "source": [
    "# countingSort\n",
    "def countingSort(a, n):\n",
    "    num_max = max(max(a), abs(min(a)))\n",
    "    if num_max > n:\n",
    "        return False\n",
    "    k = num_max\n",
    "    b = [0] * n\n",
    "    c = [0] * (2*k+2)\n",
    "    for j in range(n):\n",
    "        c[a[j] + k+1] +=1\n",
    "    for i in range(1, 2*k+2):\n",
    "        c[i] = c[i] + c[i-1]\n",
    "    for j in range(n-1,-1,-1):\n",
    "        b[c[a[j] + k+1] -1] = a[j]\n",
    "        c[a[j] + k+1] -= 1\n",
    "    return b"
   ]
  },
  {
   "cell_type": "code",
   "execution_count": 38,
   "metadata": {},
   "outputs": [
    {
     "data": {
      "text/plain": [
       "[-9, -7, -6, -2, -1, 0, 2, 3, 5, 8]"
      ]
     },
     "execution_count": 38,
     "metadata": {},
     "output_type": "execute_result"
    }
   ],
   "source": [
    "import random\n",
    "k = 10\n",
    "n = 10\n",
    "lists = random.sample(range(-k, k), n)\n",
    "countingSort(lists, len(lists))"
   ]
  },
  {
   "cell_type": "code",
   "execution_count": 5,
   "metadata": {},
   "outputs": [
    {
     "data": {
      "text/plain": [
       "[0, 0, 0, 0, 0, 0, 0, 0, 0, 0, 0, 0, 0, 0, 0, 0, 0, 0, 0, 0, 0, 0, 0]"
      ]
     },
     "execution_count": 5,
     "metadata": {},
     "output_type": "execute_result"
    }
   ],
   "source": [
    "[0] * 23"
   ]
  },
  {
   "cell_type": "code",
   "execution_count": 11,
   "metadata": {},
   "outputs": [
    {
     "data": {
      "text/plain": [
       "2"
      ]
     },
     "execution_count": 11,
     "metadata": {},
     "output_type": "execute_result"
    }
   ],
   "source": [
    "max([1, 2 , -8])"
   ]
  },
  {
   "cell_type": "code",
   "execution_count": 12,
   "metadata": {},
   "outputs": [
    {
     "data": {
      "text/plain": [
       "2"
      ]
     },
     "execution_count": 12,
     "metadata": {},
     "output_type": "execute_result"
    }
   ],
   "source": [
    "max(1, 2)"
   ]
  },
  {
   "cell_type": "code",
   "execution_count": null,
   "metadata": {
    "scrolled": true
   },
   "outputs": [],
   "source": [
    "import sys\n",
    "n, k = map(int, input().split())\n",
    "data = sys.stdin.readline().split(' ')\n",
    "for i in range(len(data)):\n",
    "    data[i] = int(data[i])\n",
    "\n",
    "import math\n",
    "\n",
    "def findMedian(data):\n",
    "    sort_data = sorted(data)\n",
    "    return sort_data[len(sort_data) // 2]\n",
    "\n",
    "def quickSelect(data, k, n):\n",
    "    if len(data) <= 5:\n",
    "        data.sort()\n",
    "        return data[k-1]\n",
    "    \n",
    "    median_list = [findMedian(data[i: i+5]) for i in range(0, n, 5)]\n",
    "\n",
    "    median_list_num = math.ceil(n / 5)\n",
    "    pivot = quickSelect(median_list, median_list_num // 2 + 1, median_list_num)\n",
    "    \n",
    "    pivot_idx = data.index(pivot)\n",
    "    data[pivot_idx], data[-1] = data[-1], data[pivot_idx]\n",
    "    \n",
    "    left = [item for item in data[:-1] if item < pivot]\n",
    "    right = [item for item in data[:-1] if item >= pivot]\n",
    "    \n",
    "    pivot_num = len(left) + 1\n",
    "    \n",
    "    if k == pivot_num:\n",
    "        return pivot\n",
    "    elif k > pivot_num:\n",
    "        return quickSelect(right, k-pivot_num, n-pivot_num)\n",
    "    elif k < pivot_num:\n",
    "        return quickSelect(left, k,pivot_num -1)\n",
    "\n",
    "answer = quickSelect(data, k, n)\n",
    "\n",
    "print(answer)"
   ]
  },
  {
   "cell_type": "code",
   "execution_count": 2,
   "metadata": {},
   "outputs": [
    {
     "name": "stdout",
     "output_type": "stream",
     "text": [
      "0\n",
      "5\n",
      "10\n",
      "15\n",
      "20\n",
      "25\n",
      "30\n",
      "35\n",
      "40\n",
      "45\n"
     ]
    }
   ],
   "source": [
    "for i in range(0, 50, 5):\n",
    "    print(i)"
   ]
  },
  {
   "cell_type": "code",
   "execution_count": 6,
   "metadata": {},
   "outputs": [
    {
     "data": {
      "text/plain": [
       "4"
      ]
     },
     "execution_count": 6,
     "metadata": {},
     "output_type": "execute_result"
    }
   ],
   "source": [
    "round(4,4)"
   ]
  },
  {
   "cell_type": "code",
   "execution_count": null,
   "metadata": {},
   "outputs": [],
   "source": [
    "# quick sort select java\n",
    "import java.util.Scanner;\n",
    "\n",
    "class Main{\n",
    "    \n",
    "    public static int partition(int[] data,int left,int right) {\n",
    "        int l = left;\n",
    "        int pivot = data[right];\n",
    "        \n",
    "        for(int i = left; i < right; i++) {\n",
    "            if (data[i] < pivot) {\n",
    "                swap(data, l++, i);\n",
    "            }\n",
    "        } \n",
    "        swap(data, l, right);\n",
    "        return l;\n",
    "    }\n",
    "    \n",
    "    public static void swap(int[] data,int l,int r){\n",
    "        int temp = data[l];\n",
    "        data[l] = data[r];\n",
    "        data[r] = temp;\n",
    "    } \n",
    "    \n",
    "    public static int quickSelect(int[] data, int left, int right, int k) {\n",
    "        if (left == right) {\n",
    "            return data[left];\n",
    "        }\n",
    "        int pivot = partition(data, left, right);\n",
    "        int pivot_num = pivot - left + 1;\n",
    "        \n",
    "        if (pivot_num == k) {\n",
    "            return data[pivot];\n",
    "        } else if (pivot_num > k) {\n",
    "            return quickSelect(data, left, pivot -1, k);\n",
    "        } else {\n",
    "            return quickSelect(data, pivot + 1, right, k - pivot_num);\n",
    "        }\n",
    "    }\n",
    "    \n",
    "\tpublic static void main(String[] args){\n",
    "\t\tScanner sc = new Scanner(System.in);\n",
    "        int n,k;\n",
    "        n= sc.nextInt();\n",
    "        k = sc.nextInt();\n",
    "        int data[] = new int[n];\n",
    "        for (int i=0; i<n; i++){\n",
    "            data[i] = sc.nextInt();\n",
    "        }\n",
    "        System.out.println(quickSelect(data,0, data.length -1, k));\n",
    "\t}\n",
    "}"
   ]
  },
  {
   "cell_type": "code",
   "execution_count": null,
   "metadata": {},
   "outputs": [],
   "source": [
    "import java.util.Scanner;\n",
    "\n",
    "class Main{\n",
    "    \n",
    "    public static int partition(int[] data,int left,int right) {\n",
    "        int l = left;\n",
    "        int pivot = data[right];\n",
    "        \n",
    "        for(int i = left; i < right; i++) {\n",
    "            if (data[i] < pivot) {\n",
    "                swap(data, l++, i);\n",
    "            }\n",
    "        }\n",
    "        swap(data, l, right);\n",
    "        return l;\n",
    "    }\n",
    "    \n",
    "    public static void swap(int[] data,int l,int r){\n",
    "        int temp = data[l];\n",
    "        data[l] = data[r];\n",
    "        data[r] = temp;\n",
    "    } \n",
    "    \n",
    "    public static void quickSort(int[] data, int left, int right) {\n",
    "        if (left >= right) {\n",
    "            return;\n",
    "        }\n",
    "        int pivot = partition(data, left, right);\n",
    "        \n",
    "        quickSort(data, left, pivot -1);\n",
    "        quickSort(data, pivot + 1, right);\n",
    "        \n",
    "    }\n",
    "    \n",
    "\tpublic static void main(String[] args){\n",
    "        int[] data = {2, 1, 4, 6,2,8,6,4,8,9,2,4,2,5,8,5,9};\n",
    "        quickSort(data,0, data.length - 1);\n",
    "        for(int i=0; i < data.length; i++) {\n",
    "            System.out.print(data[i]);\n",
    "        }\n",
    "\t}\n",
    "}"
   ]
  }
 ],
 "metadata": {
  "kernelspec": {
   "display_name": "Python 3",
   "language": "python",
   "name": "python3"
  },
  "language_info": {
   "codemirror_mode": {
    "name": "ipython",
    "version": 3
   },
   "file_extension": ".py",
   "mimetype": "text/x-python",
   "name": "python",
   "nbconvert_exporter": "python",
   "pygments_lexer": "ipython3",
   "version": "3.7.3"
  }
 },
 "nbformat": 4,
 "nbformat_minor": 4
}
