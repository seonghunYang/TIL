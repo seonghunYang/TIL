{
 "cells": [
  {
   "cell_type": "code",
   "execution_count": 11,
   "metadata": {},
   "outputs": [
    {
     "ename": "ValueError",
     "evalue": "invalid literal for int() with base 10: ''",
     "output_type": "error",
     "traceback": [
      "\u001b[1;31m---------------------------------------------------------------------------\u001b[0m",
      "\u001b[1;31mValueError\u001b[0m                                Traceback (most recent call last)",
      "\u001b[1;32m<ipython-input-11-b54023dc6b7a>\u001b[0m in \u001b[0;36m<module>\u001b[1;34m\u001b[0m\n\u001b[0;32m      2\u001b[0m \u001b[1;32mimport\u001b[0m \u001b[0msys\u001b[0m\u001b[1;33m\u001b[0m\u001b[1;33m\u001b[0m\u001b[0m\n\u001b[0;32m      3\u001b[0m \u001b[0minput\u001b[0m \u001b[1;33m=\u001b[0m \u001b[0msys\u001b[0m\u001b[1;33m.\u001b[0m\u001b[0mstdin\u001b[0m\u001b[1;33m.\u001b[0m\u001b[0mreadline\u001b[0m\u001b[1;33m\u001b[0m\u001b[1;33m\u001b[0m\u001b[0m\n\u001b[1;32m----> 4\u001b[1;33m \u001b[0mn\u001b[0m \u001b[1;33m=\u001b[0m \u001b[0mint\u001b[0m\u001b[1;33m(\u001b[0m\u001b[0minput\u001b[0m\u001b[1;33m(\u001b[0m\u001b[1;33m)\u001b[0m\u001b[1;33m)\u001b[0m\u001b[1;33m\u001b[0m\u001b[1;33m\u001b[0m\u001b[0m\n\u001b[0m\u001b[0;32m      5\u001b[0m \u001b[1;33m\u001b[0m\u001b[0m\n\u001b[0;32m      6\u001b[0m \u001b[0mdata\u001b[0m \u001b[1;33m=\u001b[0m \u001b[1;33m[\u001b[0m\u001b[0minput\u001b[0m\u001b[1;33m(\u001b[0m\u001b[1;33m)\u001b[0m \u001b[1;32mfor\u001b[0m \u001b[0mi\u001b[0m \u001b[1;32min\u001b[0m \u001b[0mrange\u001b[0m\u001b[1;33m(\u001b[0m\u001b[0mn\u001b[0m\u001b[1;33m)\u001b[0m\u001b[1;33m]\u001b[0m\u001b[1;33m\u001b[0m\u001b[1;33m\u001b[0m\u001b[0m\n",
      "\u001b[1;31mValueError\u001b[0m: invalid literal for int() with base 10: ''"
     ]
    }
   ],
   "source": [
    "\n",
    "import sys\n",
    "input = sys.stdin.readline\n",
    "n = int(input())\n",
    "\n",
    "data = [int(input()) for i in range(n)]"
   ]
  },
  {
   "cell_type": "code",
   "execution_count": 17,
   "metadata": {},
   "outputs": [],
   "source": [
    "# 수정렬하기 1 O(n) 정렬\n",
    "def insertSort(data):\n",
    "    for i in range(1, len(data)):\n",
    "        for j in range(i, 0, -1):\n",
    "            if data[j] < data[j-1]:\n",
    "                data[j], data[j-1] = data[j-1], data[j]\n",
    "            else:\n",
    "                break\n",
    "    return data"
   ]
  },
  {
   "cell_type": "code",
   "execution_count": 12,
   "metadata": {},
   "outputs": [],
   "source": [
    "# 수정렬하기 2 O(nlogN)\n",
    "def mergeSort(data):\n",
    "    if len(data) <= 1:\n",
    "        return data\n",
    "    \n",
    "    mid = int(len(data) / 2)\n",
    "    \n",
    "    left = mergeSort(data[:mid])\n",
    "    right = mergeSort(data[mid:])\n",
    "    \n",
    "    left_idx, right_idx, k = 0, 0, 0\n",
    "    \n",
    "    while left_idx <= len(left) - 1 and right_idx <= len(right) - 1:\n",
    "        if left[left_idx] < right[right_idx]:\n",
    "            data[k] = left[left_idx]\n",
    "            left_idx += 1\n",
    "        else:\n",
    "            data[k] = right[right_idx]\n",
    "            right_idx += 1\n",
    "        k += 1\n",
    "        \n",
    "    while left_idx <= len(left) - 1:\n",
    "        data[k] = left[left_idx]\n",
    "        left_idx += 1\n",
    "        k+= 1\n",
    "        \n",
    "    while right_idx <= len(right) -1:\n",
    "        data[k] = right[right_idx]\n",
    "        right_idx += 1\n",
    "        k+= 1\n",
    "        \n",
    "    return data"
   ]
  },
  {
   "cell_type": "code",
   "execution_count": 15,
   "metadata": {},
   "outputs": [],
   "source": [
    "import random\n",
    "\n",
    "data_list = random.sample(range(1,100), 10)\n",
    "sortData = mergeSort(data_list)"
   ]
  },
  {
   "cell_type": "code",
   "execution_count": 16,
   "metadata": {},
   "outputs": [
    {
     "name": "stdout",
     "output_type": "stream",
     "text": [
      "20\n",
      "26\n",
      "27\n",
      "36\n",
      "50\n",
      "81\n",
      "84\n",
      "90\n",
      "97\n",
      "98\n"
     ]
    }
   ],
   "source": [
    "for i in sortData:\n",
    "    print(i)"
   ]
  },
  {
   "cell_type": "code",
   "execution_count": 26,
   "metadata": {},
   "outputs": [],
   "source": [
    "# 수정렬하기3 O(n)\n",
    "# 메모리오류\n",
    "def countingSort(data):\n",
    "    max_value = max(data)\n",
    "    counting_list = [0] * (max_value + 1)\n",
    "    sorted_list = [0] * len(data)\n",
    "    \n",
    "    for i in data:\n",
    "        counting_list[i] += 1\n",
    "    \n",
    "    for i in range(1, len(counting_list)):\n",
    "        counting_list[i] += counting_list[i-1]\n",
    "    \n",
    "    for j in range(len(data)-1, -1, -1):\n",
    "        el = data[j]\n",
    "        sorted_list[counting_list[el] - 1] = el\n",
    "        counting_list[el] -= 1\n",
    "    return sorted_list"
   ]
  },
  {
   "cell_type": "code",
   "execution_count": 46,
   "metadata": {},
   "outputs": [],
   "source": [
    "# 메모리 초과 해결위한 방법 => 실패\n",
    "def countingSort(data):\n",
    "    max_value = max(data)\n",
    "    counting_list = [0] * (max_value + 1)\n",
    "    idx = 0\n",
    "    for i in data:\n",
    "        counting_list[i] += 1\n",
    "    \n",
    "    for i in range(max_value+1):\n",
    "        while counting_list[i] > 0 :\n",
    "            data[idx] = i\n",
    "            idx += 1\n",
    "            counting_list[i] -= 1\n",
    "    return data"
   ]
  },
  {
   "cell_type": "code",
   "execution_count": 56,
   "metadata": {},
   "outputs": [
    {
     "name": "stdout",
     "output_type": "stream",
     "text": [
      "11"
     ]
    }
   ],
   "source": [
    "# 애초에 n개의 배열을 만들면 안된다는 것을 깨달았다. + 입출력을 알고리즘답게 하는 장법, print는 메모리를 더먹는다\n",
    "import sys\n",
    "input = sys.stdin.readline\n",
    "print = sys.stdout.write\n",
    "n = int(input())\n",
    "counting_list = [0] * 10001\n",
    "for i in range(n):\n",
    "    counting_list[int(input())] += 1\n",
    "\n",
    "idx = 0\n",
    "for i in range(10001):\n",
    "    while counting_list[i] > 0 :\n",
    "        print(str(i) + '\\n')\n",
    "        idx += 1\n",
    "        counting_list[i] -= 1"
   ]
  },
  {
   "cell_type": "code",
   "execution_count": 47,
   "metadata": {},
   "outputs": [
    {
     "name": "stdout",
     "output_type": "stream",
     "text": [
      "[6, 19, 5, 16, 17, 11, 18, 9, 7, 12]\n"
     ]
    }
   ],
   "source": [
    "import random\n",
    "\n",
    "data_list = random.sample(range(1,20), 10)\n",
    "print(data_list)\n",
    "sortData = countingSort(data_list)"
   ]
  },
  {
   "cell_type": "code",
   "execution_count": 48,
   "metadata": {},
   "outputs": [
    {
     "data": {
      "text/plain": [
       "[5, 6, 7, 9, 11, 12, 16, 17, 18, 19]"
      ]
     },
     "execution_count": 48,
     "metadata": {},
     "output_type": "execute_result"
    }
   ],
   "source": [
    "sortData"
   ]
  },
  {
   "cell_type": "code",
   "execution_count": 16,
   "metadata": {
    "scrolled": false
   },
   "outputs": [],
   "source": [
    "a = list(map(int,','.join(\"1234\").split(',')))"
   ]
  },
  {
   "cell_type": "code",
   "execution_count": 20,
   "metadata": {},
   "outputs": [],
   "source": [
    "# 소트인사이드\n",
    "def mergeSort(data):\n",
    "    if len(data) <= 1:\n",
    "        return data\n",
    "    mid = len(data) // 2\n",
    "    \n",
    "    left = mergeSort(data[:mid])\n",
    "    right = mergeSort(data[mid:])\n",
    "    \n",
    "    l, r, k = 0, 0 , 0\n",
    "    \n",
    "    while l < len(left) and r < len(right):\n",
    "        if left[l] < right[r]:\n",
    "            data[k] = right[r]\n",
    "            r += 1\n",
    "        else:\n",
    "            data[k] = left[l]\n",
    "            l += 1\n",
    "        k += 1\n",
    "    \n",
    "    while l < len(left):\n",
    "        data[k] = left[l]\n",
    "        l += 1\n",
    "        k += 1\n",
    "    while r < len(right):\n",
    "        data[k] = right[r]\n",
    "        r += 1\n",
    "        k += 1\n",
    "    return data"
   ]
  },
  {
   "cell_type": "code",
   "execution_count": 24,
   "metadata": {},
   "outputs": [
    {
     "data": {
      "text/plain": [
       "[8, 7, 5, 3, 2, 2, 1]"
      ]
     },
     "execution_count": 24,
     "metadata": {},
     "output_type": "execute_result"
    }
   ],
   "source": [
    "mergeSort([2, 1, 5, 2, 3,7, 8])"
   ]
  },
  {
   "cell_type": "code",
   "execution_count": 25,
   "metadata": {},
   "outputs": [
    {
     "name": "stdout",
     "output_type": "stream",
     "text": [
      "2421\n"
     ]
    },
    {
     "data": {
      "text/plain": [
       "[2, 4, 2, 1]"
      ]
     },
     "execution_count": 25,
     "metadata": {},
     "output_type": "execute_result"
    }
   ],
   "source": [
    "list(map(int, ','.join(input()).split(',')))"
   ]
  },
  {
   "cell_type": "code",
   "execution_count": 43,
   "metadata": {},
   "outputs": [
    {
     "name": "stdout",
     "output_type": "stream",
     "text": [
      "42221"
     ]
    }
   ],
   "source": [
    "# 소트인사이드\n",
    "import sys\n",
    "input = sys.stdin.readline\n",
    "print = sys.stdout.write\n",
    "n = input().strip()\n",
    "data=list(map(int, ','.join(n).split(',')))\n",
    "\n",
    "def mergeSort(data):\n",
    "    if len(data) <= 1:\n",
    "        return data\n",
    "    mid = len(data) // 2\n",
    "    \n",
    "    left = mergeSort(data[:mid])\n",
    "    right = mergeSort(data[mid:])\n",
    "    \n",
    "    l, r, k = 0, 0 , 0\n",
    "    \n",
    "    while l < len(left) and r < len(right):\n",
    "        if left[l] < right[r]:\n",
    "            data[k] = right[r]\n",
    "            r += 1\n",
    "        else:\n",
    "            data[k] = left[l]\n",
    "            l += 1\n",
    "        k += 1\n",
    "    \n",
    "    while l < len(left):\n",
    "        data[k] = left[l]\n",
    "        l += 1\n",
    "        k += 1\n",
    "    while r < len(right):\n",
    "        data[k] = right[r]\n",
    "        r += 1\n",
    "        k += 1\n",
    "    return data\n",
    "\n",
    "data = mergeSort(data)\n",
    "for i in data:\n",
    "    print(str(i))"
   ]
  },
  {
   "cell_type": "code",
   "execution_count": 11,
   "metadata": {},
   "outputs": [],
   "source": [
    "# 좌표 정렬하기\n",
    "import sys\n",
    "input = sys.stdin.readline\n",
    "print = sys.stdout.write\n",
    "\n",
    "n = int(input())\n",
    "data = [list(map(int, input().split())) for i in range(n)]\n",
    "\n",
    "def mergeSort(data):\n",
    "    if len(data) <= 1:\n",
    "        return data\n",
    "    mid = len(data) // 2\n",
    "    \n",
    "    left = mergeSort(data[:mid])\n",
    "    right = mergeSort(data[mid:])\n",
    "    \n",
    "    l, r, k = 0, 0 , 0\n",
    "    \n",
    "    while l < len(left) and r < len(right):\n",
    "        if left[l][0] < right[r][0]:\n",
    "            data[k] = left[l]\n",
    "            l += 1\n",
    "        elif left[l][0] ==  right[r][0]:\n",
    "            if left[l][1] < right[r][1]:\n",
    "                data[k] = left[l]\n",
    "                l += 1\n",
    "            else:\n",
    "                data[k] = right[r]\n",
    "                r += 1\n",
    "        else:\n",
    "            data[k] = right[r]\n",
    "            r += 1\n",
    "        k += 1\n",
    "    \n",
    "    while l < len(left):\n",
    "        data[k] = left[l]\n",
    "        l += 1\n",
    "        k += 1\n",
    "    while r < len(right):\n",
    "        data[k] = right[r]\n",
    "        r += 1\n",
    "        k += 1\n",
    "    return data\n",
    "\n",
    "sortData = mergeSort(data)\n",
    "for i in range(n):\n",
    "    print(str(sortData[i][0]) + ' ' + str(sortData[i][1]) + \"\\n\")"
   ]
  },
  {
   "cell_type": "code",
   "execution_count": null,
   "metadata": {},
   "outputs": [],
   "source": [
    "# 좌표 정렬하기 2\n",
    "import sys\n",
    "input = sys.stdin.readline\n",
    "print = sys.stdout.write\n",
    "\n",
    "n = int(input())\n",
    "data = [list(map(int, input().split())) for i in range(n)]\n",
    "\n",
    "def mergeSort(data):\n",
    "    if len(data) <= 1:\n",
    "        return data\n",
    "    mid = len(data) // 2\n",
    "    \n",
    "    left = mergeSort(data[:mid])\n",
    "    right = mergeSort(data[mid:])\n",
    "    \n",
    "    l, r, k = 0, 0 , 0\n",
    "    \n",
    "    while l < len(left) and r < len(right):\n",
    "        if left[l][1] < right[r][1]:\n",
    "            data[k] = left[l]\n",
    "            l += 1\n",
    "        elif left[l][1] ==  right[r][1]:\n",
    "            if left[l][0] < right[r][0]:\n",
    "                data[k] = left[l]\n",
    "                l += 1\n",
    "            else:\n",
    "                data[k] = right[r]\n",
    "                r += 1\n",
    "        else:\n",
    "            data[k] = right[r]\n",
    "            r += 1\n",
    "        k += 1\n",
    "    \n",
    "    while l < len(left):\n",
    "        data[k] = left[l]\n",
    "        l += 1\n",
    "        k += 1\n",
    "    while r < len(right):\n",
    "        data[k] = right[r]\n",
    "        r += 1\n",
    "        k += 1\n",
    "    return data\n",
    "\n",
    "sortData = mergeSort(data)\n",
    "for i in range(n):\n",
    "    print(str(sortData[i][0]) + ' ' + str(sortData[i][1]) + \"\\n\")"
   ]
  },
  {
   "cell_type": "code",
   "execution_count": 12,
   "metadata": {},
   "outputs": [
    {
     "name": "stdout",
     "output_type": "stream",
     "text": [
      "2356\n",
      "-1651\n",
      "-3537\n",
      "7594\n"
     ]
    }
   ],
   "source": [
    "# 통계학\n",
    "\n",
    "import sys\n",
    "input = sys.stdin.readline\n",
    "print = sys.stdout.write\n",
    "\n",
    "n = int(input())\n",
    "data = [int(input()) for i in range(n)]\n",
    "cnt_list = [0] * 8001\n",
    "\n",
    "for el in data:\n",
    "    cnt_list[el + 4000] += 1\n",
    "    \n",
    "max_fre = max(cnt_list)\n",
    "cnt, max_fre_idx = 0, 0\n",
    "for i in range(8001):\n",
    "    if max_fre == cnt_list[i]:\n",
    "        max_fre_idx = i\n",
    "        cnt += 1\n",
    "        if cnt == 2:\n",
    "            break\n",
    "k = 0\n",
    "for i in range(8001):\n",
    "    while cnt_list[i] > 0:\n",
    "        data[k] = i - 4000\n",
    "        cnt_list[i] -= 1\n",
    "        k += 1\n",
    "\n",
    "\n",
    "print(str(round(sum(data) / n))+ \"\\n\")\n",
    "print(str(data[n//2])+ \"\\n\")\n",
    "print(str(max_fre_idx-4000)+ \"\\n\")\n",
    "print(str(data[-1] - data[0])+ \"\\n\")\n"
   ]
  },
  {
   "cell_type": "code",
   "execution_count": 9,
   "metadata": {},
   "outputs": [
    {
     "name": "stdout",
     "output_type": "stream",
     "text": [
      "[419, -1003, 2312, 3835, -3537, 3907, 323, 953, 3913, -1651, -3681, 135, -136, 3471, 352, -439, 417, -481, 2596, 75]\n"
     ]
    },
    {
     "data": {
      "text/plain": [
       "[-3681,\n",
       " -3537,\n",
       " -1651,\n",
       " -1003,\n",
       " -481,\n",
       " -439,\n",
       " -136,\n",
       " 75,\n",
       " 135,\n",
       " 323,\n",
       " 352,\n",
       " 417,\n",
       " 419,\n",
       " 953,\n",
       " 2312,\n",
       " 2596,\n",
       " 3471,\n",
       " 3835,\n",
       " 3907,\n",
       " 3913]"
      ]
     },
     "execution_count": 9,
     "metadata": {},
     "output_type": "execute_result"
    }
   ],
   "source": [
    "import random\n",
    "\n",
    "data = random.sample(range(-4000, 4000), 20)\n",
    "print(data)\n",
    "countingSort(data)"
   ]
  },
  {
   "cell_type": "code",
   "execution_count": 18,
   "metadata": {},
   "outputs": [],
   "source": [
    "# 단어 정렬\n",
    "\n",
    "import sys\n",
    "input = sys.stdin.readline\n",
    "print = sys.stdout.write\n",
    "\n",
    "n = int(input())\n",
    "data = list()\n",
    "for _ in range(n):\n",
    "    el = input().strip()\n",
    "    data.append((len(el), el))\n",
    "\n",
    "data = list(set(data))\n",
    "\n",
    "data.sort()\n",
    "\n",
    "for el in data:\n",
    "    print(el[1] + '\\n')"
   ]
  },
  {
   "cell_type": "code",
   "execution_count": 39,
   "metadata": {},
   "outputs": [],
   "source": [
    "# raw 풀이 2중 정렬의 의미에 대해서 생각해보쟈\n",
    "import sys\n",
    "input = sys.stdin.readline\n",
    "print = sys.stdout.write\n",
    "\n",
    "n = int(input())\n",
    "data = list()\n",
    "for _ in range(n):\n",
    "    el = input().strip()\n",
    "    data.append((len(el), el))\n",
    "    \n",
    "data = list(set(data))\n",
    "def mergeSort(data):\n",
    "    if len(data) <= 1:\n",
    "        return data\n",
    "    mid = len(data) // 2\n",
    "    \n",
    "    left = mergeSort(data[:mid])\n",
    "    right = mergeSort(data[mid:])\n",
    "    \n",
    "    l, r, k = 0, 0 , 0\n",
    "    \n",
    "    while l < len(left) and r < len(right):\n",
    "        if left[l][0] < right[r][0]:\n",
    "            data[k] = left[l]\n",
    "            l += 1\n",
    "        elif left[l][0] ==  right[r][0]:\n",
    "            for idx in range(left[l][0]):\n",
    "                if left[l][1][idx] < right[r][1][idx]:\n",
    "                    data[k] = left[l]\n",
    "                    l += 1\n",
    "                    break\n",
    "                elif left[l][1][idx] > right[r][1][idx]:\n",
    "                    data[k] = right[r]\n",
    "                    r += 1\n",
    "                    break\n",
    "                else:\n",
    "                    if idx == left[l][0] - 1:\n",
    "                        data[k] = left[l]\n",
    "                        r += 1\n",
    "                        l += 1\n",
    "        else:\n",
    "            data[k] = right[r]\n",
    "            r += 1\n",
    "        k += 1\n",
    "    \n",
    "    while l < len(left):\n",
    "        data[k] = left[l]\n",
    "        l += 1\n",
    "        k += 1\n",
    "    while r < len(right):\n",
    "        data[k] = right[r]\n",
    "        r += 1\n",
    "        k += 1\n",
    "    return data\n",
    "data = mergeSort(data)\n",
    "\n",
    "for el in data:\n",
    "    print(el[1] + '\\n')"
   ]
  },
  {
   "cell_type": "code",
   "execution_count": 47,
   "metadata": {},
   "outputs": [
    {
     "data": {
      "text/plain": [
       "[(1, 'a'), (2, 'ab'), (2, 'ba'), (3, 'aba'), (3, 'aba'), (3, 'abc')]"
      ]
     },
     "execution_count": 47,
     "metadata": {},
     "output_type": "execute_result"
    }
   ],
   "source": [
    "data = [(1, 'a'), (2, 'ba'), (2, 'ab'), (3, 'abc'), (3, 'aba'), (3, 'aba')]\n",
    "mergeSort(data)"
   ]
  },
  {
   "cell_type": "code",
   "execution_count": 44,
   "metadata": {},
   "outputs": [
    {
     "data": {
      "text/plain": [
       "True"
      ]
     },
     "execution_count": 44,
     "metadata": {},
     "output_type": "execute_result"
    }
   ],
   "source": [
    "'a' < 'b'"
   ]
  },
  {
   "cell_type": "code",
   "execution_count": null,
   "metadata": {},
   "outputs": [],
   "source": []
  }
 ],
 "metadata": {
  "kernelspec": {
   "display_name": "Python 3",
   "language": "python",
   "name": "python3"
  },
  "language_info": {
   "codemirror_mode": {
    "name": "ipython",
    "version": 3
   },
   "file_extension": ".py",
   "mimetype": "text/x-python",
   "name": "python",
   "nbconvert_exporter": "python",
   "pygments_lexer": "ipython3",
   "version": "3.7.3"
  }
 },
 "nbformat": 4,
 "nbformat_minor": 4
}
