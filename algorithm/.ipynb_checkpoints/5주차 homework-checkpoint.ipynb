{
 "cells": [
  {
   "cell_type": "markdown",
   "metadata": {},
   "source": [
    "IV. n개의 숫자로 이루어진 리스트가 주어진다 하자. 이 리스트의 duplicate된 숫자를 지우\n",
    "고 모든 숫자가 단 한번만 나타나도록 리스트를 수정하는 알고리즘을 개발하시오. 예를 들\n",
    "어 주어진 [1, 2, 5, 1, 5, 5, 3]에 대해 개발된 알고리즘은 [1, 2, 3, 5]를 return해\n",
    "야 한다. 단, 개발된 알고리즘의 수행시간은 Θ(n log n)이어야 한다.\n"
   ]
  },
  {
   "cell_type": "code",
   "execution_count": 25,
   "metadata": {},
   "outputs": [],
   "source": [
    "def mergeSort(data):\n",
    "    if len(data) <= 1:\n",
    "        return data\n",
    "    mid = (len(data) // 2)\n",
    "    left = mergeSort(data[:mid])\n",
    "    right = mergeSort(data[mid :])\n",
    "    return merge(left, right)\n",
    "\n",
    "def merge(left, right):\n",
    "    left_idx = 0\n",
    "    right_idx = 0\n",
    "    temp = list()\n",
    "    while (left_idx <= len(left) -1) and (right_idx <= len(right) - 1):\n",
    "        if left[left_idx] <= right[right_idx]:\n",
    "            if (len(temp) !=0) and (temp[-1] == left[left_idx]):\n",
    "                left_idx += 1\n",
    "            else:\n",
    "                temp.append(left[left_idx])\n",
    "                left_idx += 1\n",
    "        else:\n",
    "            if (len(temp) !=0) and (temp[-1] == right[right_idx]):\n",
    "                right_idx += 1\n",
    "            else:\n",
    "                temp.append(right[right_idx])   \n",
    "                right_idx += 1\n",
    "    while (left_idx <= len(left) -1):\n",
    "        if temp[-1] == left[left_idx]:\n",
    "            left_idx += 1\n",
    "        else:\n",
    "            temp.append(left[left_idx])\n",
    "            left_idx += 1\n",
    "    while (right_idx <= len(right) -1):\n",
    "        if (len(temp) !=0) and (temp[-1] == right[right_idx]):\n",
    "            right_idx += 1\n",
    "        else:\n",
    "            temp.append(right[right_idx])   \n",
    "            right_idx += 1\n",
    "    return temp"
   ]
  },
  {
   "cell_type": "code",
   "execution_count": 26,
   "metadata": {},
   "outputs": [
    {
     "data": {
      "text/plain": [
       "[1, 2, 3, 5]"
      ]
     },
     "execution_count": 26,
     "metadata": {},
     "output_type": "execute_result"
    }
   ],
   "source": [
    "mergeSort([1, 2, 5, 1, 5, 5, 3])"
   ]
  },
  {
   "cell_type": "code",
   "execution_count": null,
   "metadata": {},
   "outputs": [],
   "source": []
  }
 ],
 "metadata": {
  "kernelspec": {
   "display_name": "Python 3",
   "language": "python",
   "name": "python3"
  },
  "language_info": {
   "codemirror_mode": {
    "name": "ipython",
    "version": 3
   },
   "file_extension": ".py",
   "mimetype": "text/x-python",
   "name": "python",
   "nbconvert_exporter": "python",
   "pygments_lexer": "ipython3",
   "version": "3.7.3"
  }
 },
 "nbformat": 4,
 "nbformat_minor": 4
}
