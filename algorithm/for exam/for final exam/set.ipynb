{
 "cells": [
  {
   "cell_type": "code",
   "execution_count": null,
   "metadata": {},
   "outputs": [],
   "source": [
    "# 집합 find-set(tree)\n",
    "find_set(x):\n",
    "    if(x=x.parent):\n",
    "        return x\n",
    "    else:\n",
    "        return find_set(x.parent)"
   ]
  },
  {
   "cell_type": "code",
   "execution_count": null,
   "metadata": {},
   "outputs": [],
   "source": [
    "#uniom 랭크를 이용한 unio\n",
    "\n",
    "union(x, y):\n",
    "    x_root = find_set(x)\n",
    "    y_root = find_set(y)\n",
    "    \n",
    "    if x_root.rank > y_root.rank:\n",
    "        y_root.parent = x_root\n",
    "    else:\n",
    "        x_root.parent = y_root\n",
    "        if x_root.rank == y_root.rank:\n",
    "            y_root.rank += 1\n",
    "            "
   ]
  },
  {
   "cell_type": "code",
   "execution_count": null,
   "metadata": {},
   "outputs": [],
   "source": [
    "# 경로압축 find_set\n",
    "fint_set(x):\n",
    "    if x.parent != x:\n",
    "        x.parent = find_set(x.parent)\n",
    "    return x.parent\n"
   ]
  },
  {
   "cell_type": "code",
   "execution_count": null,
   "metadata": {},
   "outputs": [],
   "source": []
  }
 ],
 "metadata": {
  "kernelspec": {
   "display_name": "Python 3",
   "language": "python",
   "name": "python3"
  },
  "language_info": {
   "codemirror_mode": {
    "name": "ipython",
    "version": 3
   },
   "file_extension": ".py",
   "mimetype": "text/x-python",
   "name": "python",
   "nbconvert_exporter": "python",
   "pygments_lexer": "ipython3",
   "version": "3.7.3"
  }
 },
 "nbformat": 4,
 "nbformat_minor": 4
}
