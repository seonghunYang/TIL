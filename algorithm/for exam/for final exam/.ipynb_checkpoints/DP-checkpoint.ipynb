{
 "cells": [
  {
   "cell_type": "code",
   "execution_count": null,
   "metadata": {},
   "outputs": [],
   "source": [
    "# fibonacci\n",
    "fib(n):\n",
    "    if n==1 or n==2:\n",
    "        return 1\n",
    "    return fib(n-1) + fib(n-2)\n",
    "\n",
    "fibo_dp(n):\n",
    "    f[1], f[2] = 1\n",
    "    for i in 3 to n:\n",
    "        f[i] = f[i-1] + f[i-2]j\n",
    "    \n",
    "    return f[n]\n"
   ]
  },
  {
   "cell_type": "code",
   "execution_count": null,
   "metadata": {},
   "outputs": [],
   "source": [
    "# 행렬 경로 문제\n",
    "matrix_path(i, j):\n",
    "    if i == 0 or j == 0:\n",
    "        return 0\n",
    "    return m[i][j] + max(matrix_path(i-1, j), matrix_path(i, j-1))\n",
    "\n",
    "matrix_path_dp(n):\n",
    "    for i in 0 to n:\n",
    "        dp[i][0] = 0\n",
    "    for j in 1 to n:\n",
    "        dp[0][j] = 0\n",
    "    \n",
    "    for i in 1 to n:\n",
    "        for j in 1 to n:\n",
    "            dp[i][j] = m[i][j] + max(dp[i-1][j], dp[i][j-1])\n",
    "    \n",
    "    return dp[n][n]"
   ]
  },
  {
   "cell_type": "code",
   "execution_count": null,
   "metadata": {},
   "outputs": [],
   "source": [
    "#조약돌\n",
    "pebble(i,p)\n",
    "    if i==1:\n",
    "        return w[1, p]\n",
    "    \n",
    "    max = -INF\n",
    "    for q in 1 to 4:\n",
    "        if p와 q가 양립:\n",
    "            tmp = pebble(i-1, q)\n",
    "            if tmp > max:\n",
    "                max = tmp\n",
    "    \n",
    "    return max + w[i][p]\n",
    "pebble_max(n):\n",
    "    return max(pebble(n, p)) *1<= p <= 4\n",
    "\n",
    "pebble(n):\n",
    "    for p in 1 to 4:\n",
    "        dp[1][p] = w[1][p]\n",
    "    \n",
    "    for i in 2 to n:\n",
    "        for p in 1 to 4: \n",
    "            dp[i][p] = w[i][p] + max(dp[i-1][q]) * q는 p와 양립하는 패턴의 집합\n",
    "    \n",
    "    return max(dp[n][p])"
   ]
  },
  {
   "cell_type": "code",
   "execution_count": 8,
   "metadata": {
    "collapsed": true
   },
   "outputs": [
    {
     "name": "stdout",
     "output_type": "stream",
     "text": [
      "6\n",
      "30 35\n",
      "35 15\n",
      "15 5\n",
      "5 10\n",
      "10 20\n",
      "20 25\n",
      "[[0, 0, 0, 0, 0, 0, 0], [0, 0, 15750, 7875, 9375, 11875, 15125], [0, 0, 0, 2625, 4375, 7125, 10500], [0, 0, 0, 0, 750, 2500, 5375], [0, 0, 0, 0, 0, 1000, 3500], [0, 0, 0, 0, 0, 0, 5000], [0, 0, 0, 0, 0, 0, 0]]15125 "
     ]
    }
   ],
   "source": [
    "# 행렬 곱셈 순서 11049\n",
    "import sys\n",
    "# input = sys.stdin.readline\n",
    "print = sys.stdout.write\n",
    "INF = sys.maxsize\n",
    "\n",
    "N = int(input())\n",
    "p = list(map(int, input().split()))\n",
    "\n",
    "for _ in range(2, N+1):\n",
    "    l, s = map(int, input().split())\n",
    "    p.append(s)\n",
    "    \n",
    "\n",
    "dp = [[0] *(N+1) for _ in range(N+1)]\n",
    "\n",
    "for r in range(2, N+1):\n",
    "    for i in range(1, N-r+2):\n",
    "        j = i + r -1\n",
    "        min = INF\n",
    "        for k in range(i, j):\n",
    "            cost = dp[i][k] + dp[k+1][j] + p[i-1] * p[k] * p[j]\n",
    "            if cost < min:\n",
    "                min = cost\n",
    "        dp[i][j] = min\n",
    "print(str(dp[1][N]) + \" \")"
   ]
  },
  {
   "cell_type": "code",
   "execution_count": null,
   "metadata": {},
   "outputs": [],
   "source": [
    "# LCS \n",
    "LSC(m, n):\n",
    "    if m == 0 or n == 0:\n",
    "        return 0\n",
    "    \n",
    "    if x[m] == y[m]:\n",
    "        return 1 + LCS(m-1, n-1)\n",
    "    else:\n",
    "        return max(LCS(m-1, n), LCS(m, n-1))\n",
    "\n",
    "LCS_dp(m, n):\n",
    "    for i in 0 to m:\n",
    "        dp[i][i] = 0\n",
    "    for i in 1 to n:\n",
    "        dp[0][i] = 0\n",
    "        \n",
    "    for i in 1 to m:\n",
    "        for j in 1 to n:\n",
    "            if x[i] == y[j]:\n",
    "                dp[i][j] = d[i-1][j-1] +1\n",
    "            else:\n",
    "                dp[i][j] = max(dp[i-1][j], dp[i][j-1])\n",
    "    \n",
    "    return dp[m][n]"
   ]
  }
 ],
 "metadata": {
  "kernelspec": {
   "display_name": "Python 3",
   "language": "python",
   "name": "python3"
  },
  "language_info": {
   "codemirror_mode": {
    "name": "ipython",
    "version": 3
   },
   "file_extension": ".py",
   "mimetype": "text/x-python",
   "name": "python",
   "nbconvert_exporter": "python",
   "pygments_lexer": "ipython3",
   "version": "3.7.3"
  }
 },
 "nbformat": 4,
 "nbformat_minor": 4
}
