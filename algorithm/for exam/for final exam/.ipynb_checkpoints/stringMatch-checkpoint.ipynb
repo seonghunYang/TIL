{
 "cells": [
  {
   "cell_type": "code",
   "execution_count": null,
   "metadata": {},
   "outputs": [],
   "source": [
    "#오토마타\n",
    "auto_mata(A, f, n):\n",
    "    q = 0\n",
    "    for i in 1 to n:\n",
    "        q = auto_table(q, A[i])\n",
    "        if q == f:\n",
    "            return \"찾았다\""
   ]
  },
  {
   "cell_type": "code",
   "execution_count": null,
   "metadata": {},
   "outputs": [],
   "source": [
    "#KMP\n",
    "\n",
    "Kmp(A, P):\n",
    "    processing(P)\n",
    "    i = 1\n",
    "    j = 1\n",
    "    n = A.length\n",
    "    m = P.length\n",
    "    while i <= n:\n",
    "        if j == 0 or A[i] == P[j]:\n",
    "            i++\n",
    "            j++\n",
    "        else:\n",
    "            j = Pi[j]\n",
    "        \n",
    "        if j == m + 1:\n",
    "            매치되었음을 알림\n",
    "            j = PI[j]"
   ]
  },
  {
   "cell_type": "code",
   "execution_count": 1,
   "metadata": {},
   "outputs": [
    {
     "ename": "SyntaxError",
     "evalue": "invalid syntax (<ipython-input-1-4aec516e77fb>, line 2)",
     "output_type": "error",
     "traceback": [
      "\u001b[1;36m  File \u001b[1;32m\"<ipython-input-1-4aec516e77fb>\"\u001b[1;36m, line \u001b[1;32m2\u001b[0m\n\u001b[1;33m    boyerMoore(A, P):\u001b[0m\n\u001b[1;37m                     ^\u001b[0m\n\u001b[1;31mSyntaxError\u001b[0m\u001b[1;31m:\u001b[0m invalid syntax\n"
     ]
    }
   ],
   "source": [
    "# 보이어 무어\n",
    "boyerMoore(A, P):\n",
    "    i = 1\n",
    "    n = A.length\n",
    "    m = P.length\n",
    "    while i <= n - m + 1:\n",
    "        j = m\n",
    "        k = i + m -1\n",
    "        while (j > 0 and P[j] == A[k]):\n",
    "            j--\n",
    "            k--\n",
    "        if j == 0:\n",
    "            \"찾았노\"\n",
    "        i = i + jump[A[i + m - 1]]"
   ]
  },
  {
   "cell_type": "code",
   "execution_count": null,
   "metadata": {},
   "outputs": [],
   "source": []
  }
 ],
 "metadata": {
  "kernelspec": {
   "display_name": "Python 3",
   "language": "python",
   "name": "python3"
  },
  "language_info": {
   "codemirror_mode": {
    "name": "ipython",
    "version": 3
   },
   "file_extension": ".py",
   "mimetype": "text/x-python",
   "name": "python",
   "nbconvert_exporter": "python",
   "pygments_lexer": "ipython3",
   "version": "3.7.3"
  }
 },
 "nbformat": 4,
 "nbformat_minor": 4
}
