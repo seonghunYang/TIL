{
 "cells": [
  {
   "cell_type": "code",
   "execution_count": null,
   "metadata": {},
   "outputs": [],
   "source": [
    "# 회의실\n",
    "\n",
    "greedy_schedule(S, n):\n",
    "    # S = {(s, t)}\n",
    "    # S를 t에 대해여 정렬\n",
    "    \n",
    "    T = [1]\n",
    "    last = 1\n",
    "    \n",
    "    for i in 2 to n:\n",
    "        if S[i][0] >= S[last][1]:\n",
    "            T = T U {i}\n",
    "            last = i\n",
    "        "
   ]
  },
  {
   "cell_type": "code",
   "execution_count": null,
   "metadata": {},
   "outputs": [],
   "source": [
    "# 부분배낭\n",
    "data_list = [(10, 10), (15, 12), (20, 10), (25, 8), (30, 5)] # 무게, 가치\n",
    "\n",
    "knapsack(n, c): # c는 수용력\n",
    "    # data_list를 가치 / 무게 로 내림차순 정렬한다\n",
    "    \n",
    "    totalValue = 0\n",
    "    for i in 1 to n:\n",
    "        if data_list[i][1] <= c:\n",
    "            totalValue += data_list[i][2]\n",
    "            c -= data_list[i][1]\n",
    "        else:\n",
    "            ratio = c / data_list[i][1]\n",
    "            totalValue += data_list[i][2] * ratio\n",
    "            break\n",
    "            "
   ]
  },
  {
   "cell_type": "code",
   "execution_count": null,
   "metadata": {},
   "outputs": [],
   "source": [
    "# 허프만\n",
    "huffman(C, prob):\n",
    "    for x in C:\n",
    "        add x to Q sorted by prob[x]\n",
    "    \n",
    "    for i in 1 to C.length-1:\n",
    "        z = new internal tree node\n",
    "        z.left = extractMin(Q)\n",
    "        z.right = extractMin(Q)\n",
    "        z.prob = prob[x] + prob[y]\n",
    "        insert z into Q"
   ]
  }
 ],
 "metadata": {
  "kernelspec": {
   "display_name": "Python 3",
   "language": "python",
   "name": "python3"
  },
  "language_info": {
   "codemirror_mode": {
    "name": "ipython",
    "version": 3
   },
   "file_extension": ".py",
   "mimetype": "text/x-python",
   "name": "python",
   "nbconvert_exporter": "python",
   "pygments_lexer": "ipython3",
   "version": "3.7.3"
  }
 },
 "nbformat": 4,
 "nbformat_minor": 4
}
