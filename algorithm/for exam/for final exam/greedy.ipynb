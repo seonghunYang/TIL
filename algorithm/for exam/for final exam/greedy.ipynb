{
 "cells": [
  {
   "cell_type": "code",
   "execution_count": null,
   "metadata": {},
   "outputs": [],
   "source": [
    "def coins(m):\n",
    "    coin_list.sort() // 내림차순 정렬\n",
    "    total = 0\n",
    "    for coin in coin_list:\n",
    "        if m >= coin:\n",
    "            num = money // coin\n",
    "            money = money - coin * num\n",
    "            total += num\n",
    "        if money == 0:\n",
    "            break\n",
    "    return total"
   ]
  },
  {
   "cell_type": "code",
   "execution_count": null,
   "metadata": {},
   "outputs": [],
   "source": [
    "# 회의실\n",
    "\n",
    "greedy_schedule(S, n):\n",
    "    # S = {(s, t)}\n",
    "    # S를 t에 대해여 정렬\n",
    "    \n",
    "    T = [1]\n",
    "    last = 1\n",
    "    \n",
    "    for i in 2 to n:\n",
    "        if S[i][0] >= S[last][1]:\n",
    "            T = T U {i}\n",
    "            last = i\n",
    "    return T"
   ]
  },
  {
   "cell_type": "code",
   "execution_count": null,
   "metadata": {},
   "outputs": [],
   "source": [
    "# 회의실\n",
    "\n",
    "gready_Schedule(S, n):\n",
    "    # S는 [[시작, 종료]] 구조\n",
    "    # S를 종료시점 기준으로 정렬\n",
    "    T = [1]\n",
    "    last = 1\n",
    "    \n",
    "    for i in 2 to n:\n",
    "        if S[last][1] <= S[i][0]:\n",
    "            T.append(i)\n",
    "            last = i\n",
    "        \n",
    "    return T"
   ]
  },
  {
   "cell_type": "code",
   "execution_count": null,
   "metadata": {},
   "outputs": [],
   "source": [
    "# 부분배낭\n",
    "data_list = [(10, 10), (15, 12), (20, 10), (25, 8), (30, 5)] # 무게, 가치\n",
    "\n",
    "knapsack(n, c): # c는 수용력\n",
    "    # data_list를 가치 / 무게 로 내림차순 정렬한다\n",
    "    \n",
    "    totalValue = 0\n",
    "    for i in 1 to n:\n",
    "        if data_list[i][1] <= c:\n",
    "            totalValue += data_list[i][2]\n",
    "            c -= data_list[i][1]\n",
    "        else:\n",
    "            ratio = c / data_list[i][1]\n",
    "            totalValue += data_list[i][2] * ratio\n",
    "            break\n",
    "            "
   ]
  },
  {
   "cell_type": "code",
   "execution_count": null,
   "metadata": {},
   "outputs": [],
   "source": [
    "## 부분배낭 유사문제 0-1배낭\n",
    "bag(W, m): # W은 배낭 최고 무게, m은 아이템 수\n",
    "    //item_list [w, v]\n",
    "    for i in 0 to m:\n",
    "        dp[i][0] = 0\n",
    "    for j in 1 to W:\n",
    "        dp[0][j] = 0\n",
    "    \n",
    "    for i in 1 to m:\n",
    "        for j in 1 to W:\n",
    "            if item_list[i][0] <= j:\n",
    "                dp[i][j] = max(dp[i-1][j], v + dp[i-1][j-item_list[i][1]])\n",
    "            else:\n",
    "                dp[i][j] = dp[i-1][j]"
   ]
  },
  {
   "cell_type": "code",
   "execution_count": null,
   "metadata": {},
   "outputs": [],
   "source": [
    "# 허프만\n",
    "huffman(C, prob):\n",
    "    for x in C:\n",
    "        add x to Q sorted by prob[x]\n",
    "    \n",
    "    for i in 1 to C.length-1:\n",
    "        z = new internal tree node\n",
    "        z.left = extractMin(Q)\n",
    "        z.right = extractMin(Q)\n",
    "        z.prob = prob[x] + prob[y]\n",
    "        insert z into Q"
   ]
  }
 ],
 "metadata": {
  "kernelspec": {
   "display_name": "Python 3",
   "language": "python",
   "name": "python3"
  },
  "language_info": {
   "codemirror_mode": {
    "name": "ipython",
    "version": 3
   },
   "file_extension": ".py",
   "mimetype": "text/x-python",
   "name": "python",
   "nbconvert_exporter": "python",
   "pygments_lexer": "ipython3",
   "version": "3.7.3"
  }
 },
 "nbformat": 4,
 "nbformat_minor": 4
}
