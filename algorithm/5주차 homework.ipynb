{
 "cells": [
  {
   "cell_type": "markdown",
   "metadata": {},
   "source": [
    "IV. n개의 숫자로 이루어진 리스트가 주어진다 하자. 이 리스트의 duplicate된 숫자를 지우\n",
    "고 모든 숫자가 단 한번만 나타나도록 리스트를 수정하는 알고리즘을 개발하시오. 예를 들\n",
    "어 주어진 [1, 2, 5, 1, 5, 5, 3]에 대해 개발된 알고리즘은 [1, 2, 3, 5]를 return해\n",
    "야 한다. 단, 개발된 알고리즘의 수행시간은 Θ(n log n)이어야 한다.\n"
   ]
  },
  {
   "cell_type": "code",
   "execution_count": 40,
   "metadata": {},
   "outputs": [],
   "source": [
    "def mergeSort(data):\n",
    "    if len(data) <= 1:\n",
    "        return data\n",
    "    mid = (len(data) // 2)\n",
    "    left = mergeSort(data[:mid])\n",
    "    right = mergeSort(data[mid :])\n",
    "    return merge(left, right)\n",
    "\n",
    "def merge(left, right):\n",
    "    left_idx = 0\n",
    "    right_idx = 0\n",
    "    temp = list()\n",
    "    # 비교해서 더 작은 값 리스트에 추가\n",
    "    while (left_idx <= len(left) -1) and (right_idx <= len(right) - 1):\n",
    "        if left[left_idx] <= right[right_idx]:\n",
    "            if (len(temp) !=0) and (temp[-1] == left[left_idx]):  #중복값은 추가안하고 idx만 증가\n",
    "                left_idx += 1\n",
    "            else:\n",
    "                temp.append(left[left_idx])\n",
    "                left_idx += 1\n",
    "        else:\n",
    "            if (len(temp) !=0) and (temp[-1] == right[right_idx]):\n",
    "                right_idx += 1\n",
    "            else:\n",
    "                temp.append(right[right_idx])   \n",
    "                right_idx += 1\n",
    "    #남은\n",
    "    while (left_idx <= len(left) -1):\n",
    "        if temp[-1] == left[left_idx]:\n",
    "            left_idx += 1\n",
    "        else:\n",
    "            temp.append(left[left_idx])\n",
    "            left_idx += 1\n",
    "    while (right_idx <= len(right) -1):\n",
    "        if (len(temp) !=0) and (temp[-1] == right[right_idx]):\n",
    "            right_idx += 1\n",
    "        else:\n",
    "            temp.append(right[right_idx])   \n",
    "            right_idx += 1\n",
    "    return temp"
   ]
  },
  {
   "cell_type": "code",
   "execution_count": 41,
   "metadata": {},
   "outputs": [
    {
     "data": {
      "text/plain": [
       "[1, 2, 3, 5]"
      ]
     },
     "execution_count": 41,
     "metadata": {},
     "output_type": "execute_result"
    }
   ],
   "source": [
    "mergeSort([1, 2, 5, 1, 5, 5, 3])"
   ]
  },
  {
   "cell_type": "markdown",
   "metadata": {},
   "source": [
    "III. 1~k의 값을 갖는 n개의 정수가 주어졌다. 이 n개의 정수 중 임의의 범위인 [a..b] 사이에\n",
    "몇 개의 원소가 있는지 알아내는 알고리즘을 작성하시오. 이 알고리즘의 수행시간은 전처리하\n",
    "는 시간 O(n+k)을 사용할 수 있으며, a~b사이 원소들의 개수를 알아내는 과정은 O(1)에 이\n",
    "루어져야 한다.\n"
   ]
  },
  {
   "cell_type": "code",
   "execution_count": 42,
   "metadata": {},
   "outputs": [],
   "source": [
    "def countingNum(data, a, b):\n",
    "    count_list = [0] * len(data)\n",
    "    \n",
    "    for i in data:\n",
    "        count_list[i] += 1\n",
    "    \n",
    "    for i in range(1 ,len(count_list)):\n",
    "        count_list[i] = count_list[i-1] + count_list[i]\n",
    "    \n",
    "    return count_list[b] - count_list[a-1]"
   ]
  },
  {
   "cell_type": "code",
   "execution_count": 43,
   "metadata": {},
   "outputs": [
    {
     "data": {
      "text/plain": [
       "7"
      ]
     },
     "execution_count": 43,
     "metadata": {},
     "output_type": "execute_result"
    }
   ],
   "source": [
    "countingNum([1, 2, 5, 1, 5, 5, 3, 5, 6, 7], 2, 6)"
   ]
  },
  {
   "cell_type": "code",
   "execution_count": null,
   "metadata": {},
   "outputs": [],
   "source": []
  }
 ],
 "metadata": {
  "kernelspec": {
   "display_name": "Python 3",
   "language": "python",
   "name": "python3"
  },
  "language_info": {
   "codemirror_mode": {
    "name": "ipython",
    "version": 3
   },
   "file_extension": ".py",
   "mimetype": "text/x-python",
   "name": "python",
   "nbconvert_exporter": "python",
   "pygments_lexer": "ipython3",
   "version": "3.7.3"
  }
 },
 "nbformat": 4,
 "nbformat_minor": 4
}
