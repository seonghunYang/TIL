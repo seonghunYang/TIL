{
 "cells": [
  {
   "cell_type": "code",
   "execution_count": 1,
   "metadata": {},
   "outputs": [],
   "source": [
    "# factorial \n",
    "def factorial(num):\n",
    "    if num > 1:\n",
    "        return num * factorial(num)\n",
    "    else:\n",
    "        return num"
   ]
  },
  {
   "cell_type": "code",
   "execution_count": 2,
   "metadata": {
    "collapsed": true
   },
   "outputs": [
    {
     "ename": "SyntaxError",
     "evalue": "invalid syntax (<ipython-input-2-1419612c06eb>, line 6)",
     "output_type": "error",
     "traceback": [
      "\u001b[1;36m  File \u001b[1;32m\"<ipython-input-2-1419612c06eb>\"\u001b[1;36m, line \u001b[1;32m6\u001b[0m\n\u001b[1;33m    return 일정값, 입력값, 또는 특정값 # 재귀 호출 종료\u001b[0m\n\u001b[1;37m                          ^\u001b[0m\n\u001b[1;31mSyntaxError\u001b[0m\u001b[1;31m:\u001b[0m invalid syntax\n"
     ]
    }
   ],
   "source": [
    "# 일반적인 형태1\n",
    "def function(입력):\n",
    "    if 입력 > 일정값: # 입력이 일정 값 이상이면\n",
    "        return function(입력 - 1) # 입력보다 작은 값\n",
    "    else:\n",
    "        return 일정값, 입력값, 또는 특정값 # 재귀 호출 종료\n",
    "    \n",
    "# 일반적인 형태2\n",
    "def function(입력):\n",
    "    if 입력 <= 일정값:              # 입력이 일정 값보다 작으면\n",
    "        return 일정값, 입력값, 또는 특정값              # 재귀 호출 종료\n",
    "    function(입력보다 작은 값)\n",
    "    return 결과값"
   ]
  },
  {
   "cell_type": "code",
   "execution_count": 4,
   "metadata": {},
   "outputs": [
    {
     "name": "stdout",
     "output_type": "stream",
     "text": [
      "[66, 24, 40, 22, 46, 67, 10, 54, 84, 13]\n",
      "426\n",
      "426\n"
     ]
    }
   ],
   "source": [
    "def sum_list(data):\n",
    "    if len(data) == 1:\n",
    "        return data[0]\n",
    "    else:\n",
    "        return data[0] + sum_list(data[1:])\n",
    "import random\n",
    "data = random.sample(range(100), 10)\n",
    "print(data)\n",
    "print(sum(data))\n",
    "print(sum_list(data))"
   ]
  },
  {
   "cell_type": "code",
   "execution_count": 13,
   "metadata": {},
   "outputs": [],
   "source": [
    "def pailndrome(data):\n",
    "    if len(data) <=1 :\n",
    "        return True\n",
    "    else:\n",
    "        if data[0] == data[-1]:\n",
    "            return pailndrome(data[1:-1])\n",
    "        else:\n",
    "            return False"
   ]
  },
  {
   "cell_type": "code",
   "execution_count": 14,
   "metadata": {},
   "outputs": [
    {
     "data": {
      "text/plain": [
       "True"
      ]
     },
     "execution_count": 14,
     "metadata": {},
     "output_type": "execute_result"
    }
   ],
   "source": [
    "pailndrome(\"tatat\")"
   ]
  },
  {
   "cell_type": "code",
   "execution_count": 20,
   "metadata": {},
   "outputs": [],
   "source": [
    "def func(n):\n",
    "    print(n)\n",
    "    if n == 1:\n",
    "        return\n",
    "    if n % 2 == 1:\n",
    "        func(3 * n + 1)\n",
    "    else:\n",
    "        func(int(n / 2))"
   ]
  },
  {
   "cell_type": "code",
   "execution_count": 21,
   "metadata": {},
   "outputs": [
    {
     "name": "stdout",
     "output_type": "stream",
     "text": [
      "7\n",
      "22\n",
      "11\n",
      "34\n",
      "17\n",
      "52\n",
      "26\n",
      "13\n",
      "40\n",
      "20\n",
      "10\n",
      "5\n",
      "16\n",
      "8\n",
      "4\n",
      "2\n",
      "1\n"
     ]
    }
   ],
   "source": [
    "func(7)"
   ]
  },
  {
   "cell_type": "code",
   "execution_count": null,
   "metadata": {},
   "outputs": [],
   "source": []
  }
 ],
 "metadata": {
  "kernelspec": {
   "display_name": "Python 3",
   "language": "python",
   "name": "python3"
  },
  "language_info": {
   "codemirror_mode": {
    "name": "ipython",
    "version": 3
   },
   "file_extension": ".py",
   "mimetype": "text/x-python",
   "name": "python",
   "nbconvert_exporter": "python",
   "pygments_lexer": "ipython3",
   "version": "3.7.3"
  }
 },
 "nbformat": 4,
 "nbformat_minor": 4
}
