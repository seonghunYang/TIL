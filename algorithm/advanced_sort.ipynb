{
 "cells": [
  {
   "cell_type": "code",
   "execution_count": 10,
   "metadata": {},
   "outputs": [],
   "source": [
    "# quicksort 조건 1. pivot 설정 후 양옆으로 배열, 2.양옆에 다시 배열 후 합치기\n",
    "\n",
    "def qsort(data):\n",
    "    if len(data) <= 1:\n",
    "        return data\n",
    "    left, right = list(), list()\n",
    "    pivot = data[0]\n",
    "    for idx in range(1, len(data)):\n",
    "        if pivot <= data[idx]:\n",
    "            right.append(data[idx])\n",
    "        else:\n",
    "            left.append(data[idx])\n",
    "    return qsort(left) + [pivot] + qsort(right)"
   ]
  },
  {
   "cell_type": "code",
   "execution_count": 6,
   "metadata": {},
   "outputs": [
    {
     "data": {
      "text/plain": [
       "[25, 35, 36, 44, 52, 67, 68, 76, 90, 94]"
      ]
     },
     "execution_count": 6,
     "metadata": {},
     "output_type": "execute_result"
    }
   ],
   "source": [
    "import random\n",
    "\n",
    "data_list = random.sample(range(100), 10)\n",
    "\n",
    "qsort(data_list)"
   ]
  },
  {
   "cell_type": "code",
   "execution_count": 6,
   "metadata": {},
   "outputs": [],
   "source": [
    "def qsort(data):\n",
    "    if len(data) <= 1:\n",
    "        return data\n",
    "    left, right = list(), list()\n",
    "    pivot = data[0]\n",
    "    \n",
    "    left = [item for item in data[1:] if pivot > item]\n",
    "    right = [item for item in data[1:] if pivot <=item]\n",
    "    \n",
    "    return qsort(left) + [pivot] + qsort(right)"
   ]
  },
  {
   "cell_type": "code",
   "execution_count": 3,
   "metadata": {},
   "outputs": [],
   "source": [
    "def qsort(data):\n",
    "    if len(data) <= 1:\n",
    "        return data\n",
    "    left, right = list(), list()\n",
    "    pivot = data[-1]\n",
    "    \n",
    "    left = [item for item in data[:-1] if item < pivot]\n",
    "    right = [item for item in data[:-1] if item >= pivot]\n",
    "    \n",
    "    return qsort(left) + [pivot] + qsort(right)"
   ]
  },
  {
   "cell_type": "code",
   "execution_count": null,
   "metadata": {},
   "outputs": [],
   "source": []
  },
  {
   "cell_type": "code",
   "execution_count": 9,
   "metadata": {},
   "outputs": [
    {
     "data": {
      "text/plain": [
       "[4, 27, 28, 36, 51, 61, 62, 67, 69, 76]"
      ]
     },
     "execution_count": 9,
     "metadata": {},
     "output_type": "execute_result"
    }
   ],
   "source": [
    "import random\n",
    "\n",
    "data_list = random.sample(range(100), 10)\n",
    "\n",
    "qsort(data_list)"
   ]
  },
  {
   "cell_type": "code",
   "execution_count": 20,
   "metadata": {},
   "outputs": [],
   "source": [
    "# 병합정렬\n",
    "\n",
    "def splitMerge(data):\n",
    "    if len(data) <= 1:\n",
    "        return data\n",
    "    medium = int(len(data) / 2)\n",
    "    left = splitMerge(data[:medium])\n",
    "    right =  splitMerge(data[medium:])\n",
    "    \n",
    "    return merge(left, right)\n",
    "\n",
    "def merge(left, right):\n",
    "    merged = list()\n",
    "    left_idx, right_idx = 0, 0\n",
    "    # left, right 둘다 남았을 때\n",
    "    while left_idx < len(left) and right_idx < len(right):\n",
    "        if left[left_idx] < right[right_idx]:\n",
    "            merged.append(left[left_idx])\n",
    "            left_idx += 1\n",
    "        else:\n",
    "            merged.append(right[right_idx])\n",
    "            right_idx += 1\n",
    "    # left만 남았을 때\n",
    "    while left_idx < len(left):\n",
    "        merged.append(left[left_idx])\n",
    "        left_idx += 1\n",
    "    # right만 남았을 때\n",
    "    while right_idx < len(right):\n",
    "        merged.append(right[right_idx])\n",
    "        right_idx += 1\n",
    "    return merged"
   ]
  },
  {
   "cell_type": "code",
   "execution_count": 24,
   "metadata": {},
   "outputs": [
    {
     "data": {
      "text/plain": [
       "[2, 3, 8, 29, 32, 34, 56, 69, 74, 96]"
      ]
     },
     "execution_count": 24,
     "metadata": {},
     "output_type": "execute_result"
    }
   ],
   "source": [
    "import random\n",
    "\n",
    "data_list = random.sample(range(1,100), 10)\n",
    "\n",
    "splitMerge(data_list)"
   ]
  },
  {
   "cell_type": "code",
   "execution_count": 1,
   "metadata": {},
   "outputs": [],
   "source": [
    "# heap 정렬\n",
    "def heapify(data, parent, max_idx):\n",
    "    left = parent * 2 + 1\n",
    "    right = parent * 2 + 2\n",
    "    #right 가 있을 경우\n",
    "    if right <= max_idx:\n",
    "        if data[left] > data[right]:\n",
    "            if data[left] > data[parent]:\n",
    "                data[parent], data[left] = data[left], data[parent]\n",
    "                heapify(data, left ,max_idx)\n",
    "            else:\n",
    "                return\n",
    "        else:\n",
    "            if data[right] > data[parent]:\n",
    "                data[parent], data[right] = data[right], data[parent]\n",
    "                heapify(data, right, max_idx)\n",
    "            else:\n",
    "                return\n",
    "    # left만 있을 경우\n",
    "    elif left <= max_idx:\n",
    "        if data[left] > data[parent]:\n",
    "            data[parent], data[left] = data[left], data[parent]\n",
    "            return\n",
    "        else:\n",
    "            return\n",
    "\n",
    "    #둘다 없을 경우\n",
    "    elif left >= len(data):\n",
    "        return "
   ]
  },
  {
   "cell_type": "code",
   "execution_count": 105,
   "metadata": {},
   "outputs": [],
   "source": [
    "def heapify(data, parent, range_idx):\n",
    "    left = parent * 2 + 1\n",
    "    right = parent * 2 + 2\n",
    "    \n",
    "    if right <= range_idx:\n",
    "        if data[left] < data[right]:\n",
    "            if data[right] > data[parent]:\n",
    "                data[right], data[parent] = data[parent], data[right]\n",
    "                heapify(data, right, range_idx)\n",
    "        else:\n",
    "            if data[left] > data[parent]:\n",
    "                data[left], data[parent] = data[parent], data[left]\n",
    "                heapify(data, left, range_idx)\n",
    "    elif left <= range_idx:\n",
    "        if data[left] > data[parent]:\n",
    "            data[left], data[parent] = data[parent], data[left]\n",
    "            heapify(data, left, range_idx)\n",
    "        "
   ]
  },
  {
   "cell_type": "code",
   "execution_count": 15,
   "metadata": {},
   "outputs": [],
   "source": [
    "def heapify(data, parent, range_idx):\n",
    "    left = parent * 2 + 1\n",
    "    right = parent * 2 + 2\n",
    "    \n",
    "    if right <= range_idx:\n",
    "        if data[left] > data[right]:\n",
    "            max_idx = left\n",
    "        else:\n",
    "            max_idx = right\n",
    "        if data[max_idx] > data[parent]:\n",
    "            data[parent], data[max_idx] = data[max_idx], data[parent]\n",
    "            heapify(data, max_idx, range_idx)\n",
    "    elif left <= range_idx:\n",
    "        if data[left] > data[parent]:\n",
    "            data[parent], data[left] = data[left], data[parent]\n",
    "            heapify(data, left, range_idx)\n",
    "        else:\n",
    "            return\n",
    "    elif left > range_idx:\n",
    "        return"
   ]
  },
  {
   "cell_type": "code",
   "execution_count": 2,
   "metadata": {},
   "outputs": [],
   "source": [
    "def buildHeap(data):\n",
    "    max_parent_idx = (len(data) - 3) // 2\n",
    "    for i in range(max_parent_idx, -1, -1):\n",
    "        heapify(data, i, len(data) - 1)"
   ]
  },
  {
   "cell_type": "code",
   "execution_count": 3,
   "metadata": {},
   "outputs": [],
   "source": [
    "def heapSort(data):\n",
    "    buildHeap(data)\n",
    "    for i in range(len(data) -1 , 0, -1):\n",
    "        data[0], data[i] = data[i], data[0]\n",
    "        print(data[i])\n",
    "        heapify(data,0, i- 1)\n",
    "    return data"
   ]
  },
  {
   "cell_type": "code",
   "execution_count": 4,
   "metadata": {},
   "outputs": [
    {
     "name": "stdout",
     "output_type": "stream",
     "text": [
      "94\n",
      "93\n",
      "90\n",
      "76\n",
      "48\n",
      "39\n",
      "35\n",
      "33\n",
      "31\n"
     ]
    },
    {
     "data": {
      "text/plain": [
       "[7, 31, 33, 35, 39, 48, 76, 90, 93, 94]"
      ]
     },
     "execution_count": 4,
     "metadata": {},
     "output_type": "execute_result"
    }
   ],
   "source": [
    "import random\n",
    "\n",
    "data_list = random.sample(range(1,100), 10)\n",
    "\n",
    "heapSort(data_list)\n",
    "\n",
    "# 사용할 변수를 생각해보는 것의 중요성, 그림을 그리고 하는 것과 그냥 하는 것의 차이, \n",
    "# case 분류의 방법 , for문 분법 \n"
   ]
  },
  {
   "cell_type": "code",
   "execution_count": 21,
   "metadata": {},
   "outputs": [],
   "source": [
    "# 계수정렬\n",
    "def countingSort(data):\n",
    "    k = max(data)\n",
    "    if k > len(data):\n",
    "        return False\n",
    "    count_list = [0] * (k + 1)\n",
    "    sorted_list = [0] * len(data)\n",
    "    for i in data:\n",
    "        count_list[i] += 1\n",
    "    for i in range(1, len(count_list)):\n",
    "        count_list[i] = count_list[i-1] + count_list[i]\n",
    "    for j in data:\n",
    "        idx = count_list[j] - 1\n",
    "        count_list[j] -= 1\n",
    "        sorted_list[idx] = j\n",
    "    return sorted_list"
   ]
  },
  {
   "cell_type": "code",
   "execution_count": 22,
   "metadata": {
    "scrolled": true
   },
   "outputs": [
    {
     "data": {
      "text/plain": [
       "[1, 1, 2, 2, 2, 3, 3, 3, 4, 5, 5, 5, 6, 6, 7, 8]"
      ]
     },
     "execution_count": 22,
     "metadata": {},
     "output_type": "execute_result"
    }
   ],
   "source": [
    "countingSort([1, 3, 2, 6, 5, 3, 2, 1, 4, 2, 7, 6, 5, 8, 3, 5])"
   ]
  },
  {
   "cell_type": "code",
   "execution_count": 23,
   "metadata": {},
   "outputs": [],
   "source": [
    "# radix sort\n",
    "def changeDigit(num, digit):\n",
    "    return (num // 10 ** (digit-1)) % 10\n",
    "\n",
    "def sortBase(data, base):\n",
    "    lists = []\n",
    "    for i in range(10):\n",
    "        lists.append([0])\n",
    "    for data_list in data:\n",
    "        for idx in range(1, len(data_list)):\n",
    "            num = changeDigit(data_list[idx], base)\n",
    "            lists[num].append(data_list[idx])\n",
    "    return lists\n",
    "\n",
    "def radixSort(data, k):\n",
    "    lists = []\n",
    "    for i in range(10):\n",
    "        lists.append([0])\n",
    "    for j in data:\n",
    "        num = changeDigit(j, 1)\n",
    "        lists[num].append(j)\n",
    "    for i in range(2, k+1):\n",
    "        lists = sortBase(lists, i)\n",
    "    sorted_list = []\n",
    "    for data_list in lists:\n",
    "        for idx in range(1, len(data_list)):\n",
    "            sorted_list.append(data_list[idx])\n",
    "    return sorted_list\n",
    "            "
   ]
  },
  {
   "cell_type": "code",
   "execution_count": 38,
   "metadata": {},
   "outputs": [],
   "source": [
    "# counting sort를 이용한 radix sort\n",
    "def changeDigit(num, digit):\n",
    "    return (num // digit ) % 10\n",
    "\n",
    "def counting(data, digit):\n",
    "    sort_list = [0] * len(data) \n",
    "    counting_list = [0] * 10\n",
    "    \n",
    "    for el in data:\n",
    "        el = changeDigit(el, digit)\n",
    "        counting_list[el] += 1\n",
    "    \n",
    "    for i in range(1, len(counting_list)):\n",
    "        counting_list[i] += counting_list[i-1]\n",
    "    \n",
    "    for idx in range(len(data)- 1, -1, -1):\n",
    "        el = data[idx]\n",
    "        el_digit = changeDigit(el, digit)\n",
    "        sort_list[counting_list[el_digit] - 1] = el\n",
    "        counting_list[el_digit] -= 1\n",
    "    \n",
    "    for i in range(len(data)):\n",
    "        data[i] = sort_list[i]\n",
    "    \n",
    "def radixSort(data):\n",
    "    max_value = max(data)\n",
    "    digit = 1\n",
    "    while max_value // digit != 0 :\n",
    "        counting(data, digit)\n",
    "        digit *= 10\n",
    "        \n",
    "    return data\n",
    "    \n",
    "        "
   ]
  },
  {
   "cell_type": "code",
   "execution_count": 48,
   "metadata": {
    "scrolled": true
   },
   "outputs": [
    {
     "data": {
      "text/plain": [
       "[15, 18, 26, 32, 44, 45, 75, 97, 98, 99]"
      ]
     },
     "execution_count": 48,
     "metadata": {},
     "output_type": "execute_result"
    }
   ],
   "source": [
    "import random\n",
    "\n",
    "data_list = random.sample(range(1,100), 10)\n",
    "\n",
    "radixSort(data_list)"
   ]
  },
  {
   "cell_type": "code",
   "execution_count": 33,
   "metadata": {},
   "outputs": [
    {
     "data": {
      "text/plain": [
       "7"
      ]
     },
     "execution_count": 33,
     "metadata": {},
     "output_type": "execute_result"
    }
   ],
   "source": [
    "changeDigit(723,100)"
   ]
  },
  {
   "cell_type": "code",
   "execution_count": 25,
   "metadata": {},
   "outputs": [
    {
     "ename": "TypeError",
     "evalue": "object of type 'int' has no len()",
     "output_type": "error",
     "traceback": [
      "\u001b[1;31m---------------------------------------------------------------------------\u001b[0m",
      "\u001b[1;31mTypeError\u001b[0m                                 Traceback (most recent call last)",
      "\u001b[1;32m<ipython-input-25-dcdfae007f6f>\u001b[0m in \u001b[0;36m<module>\u001b[1;34m\u001b[0m\n\u001b[1;32m----> 1\u001b[1;33m \u001b[0mlen\u001b[0m\u001b[1;33m(\u001b[0m\u001b[1;36m369\u001b[0m\u001b[1;33m)\u001b[0m\u001b[1;33m\u001b[0m\u001b[1;33m\u001b[0m\u001b[0m\n\u001b[0m",
      "\u001b[1;31mTypeError\u001b[0m: object of type 'int' has no len()"
     ]
    }
   ],
   "source": [
    "len(369)"
   ]
  },
  {
   "cell_type": "code",
   "execution_count": null,
   "metadata": {},
   "outputs": [],
   "source": [
    "# heapSort java 버전\n",
    "class CodeRunner{\n",
    "    // 부모가 더 작은 heap -> 내림차수 정렬\n",
    "    public static void heapify(int[] data, int parent_idx, int len) {\n",
    "        int left_idx = parent_idx * 2 + 1;\n",
    "        int right_idx = parent_idx * 2 + 2;        \n",
    "        // case1 둘다 존재\n",
    "        int min_idx = 0;\n",
    "        if (right_idx < len) {\n",
    "            if (data[left_idx] < data[right_idx]) {\n",
    "                min_idx = left_idx;\n",
    "            }else {\n",
    "                min_idx = right_idx;\n",
    "            }\n",
    "        }\n",
    "        // case2 left만 존재\n",
    "        else if (left_idx < len) {\n",
    "            min_idx = left_idx;\n",
    "        }\n",
    "        // case3  자식 없음\n",
    "        else {\n",
    "            return;\n",
    "        }\n",
    "        if (data[parent_idx] > data[min_idx]) {\n",
    "            swap(data, parent_idx, min_idx);\n",
    "            heapify(data, min_idx, len);\n",
    "        }else {\n",
    "            return;\n",
    "        }\n",
    "    }\n",
    "    public static void swap(int[] data,int l,int r) {\n",
    "        int temp = data[r];\n",
    "        data[r] = data[l];\n",
    "        data[l] = temp;\n",
    "    }\n",
    "    \n",
    "    public static void buildHeap(int[] data) {\n",
    "        int max_parent_idx = (data.length - 3) / 2;\n",
    "        \n",
    "        for(int i = max_parent_idx; i >= 0 ; i--) {\n",
    "            heapify(data, i, data.length);\n",
    "        }\n",
    "    }\n",
    "    \n",
    "    public static void heapSort(int[] data) {\n",
    "        buildHeap(data);\n",
    "        for(int i = data.length - 1; i > 0; i--) {\n",
    "            swap(data, 0, i);\n",
    "            heapify(data, 0, i );\n",
    "        }\n",
    "    }\n",
    "    \n",
    "    \n",
    "\tpublic static void main(String[] args){\n",
    "\t\tint[] data = {1, 2,6,4,3,6,8,4,2,7,5,9, 13, 28, 14, 16};\n",
    "        heapSort(data);\n",
    "        for(int i = 0; i < data.length; i ++) {\n",
    "            System.out.print(data[i]);\n",
    "        }\n",
    "\t}\n",
    "}\n"
   ]
  }
 ],
 "metadata": {
  "kernelspec": {
   "display_name": "Python 3",
   "language": "python",
   "name": "python3"
  },
  "language_info": {
   "codemirror_mode": {
    "name": "ipython",
    "version": 3
   },
   "file_extension": ".py",
   "mimetype": "text/x-python",
   "name": "python",
   "nbconvert_exporter": "python",
   "pygments_lexer": "ipython3",
   "version": "3.7.3"
  }
 },
 "nbformat": 4,
 "nbformat_minor": 4
}
