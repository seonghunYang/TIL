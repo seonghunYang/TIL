{
 "cells": [
  {
   "cell_type": "code",
   "execution_count": 10,
   "metadata": {},
   "outputs": [],
   "source": [
    "# quicksort 조건 1. pivot 설정 후 양옆으로 배열, 2.양옆에 다시 배열 후 합치기\n",
    "\n",
    "def qsort(data):\n",
    "    if len(data) <= 1:\n",
    "        return data\n",
    "    left, right = list(), list()\n",
    "    pivot = data[0]\n",
    "    for idx in range(1, len(data)):\n",
    "        if pivot <= data[idx]:\n",
    "            right.append(data[idx])\n",
    "        else:\n",
    "            left.append(data[idx])\n",
    "    return qsort(left) + [pivot] + qsort(right)"
   ]
  },
  {
   "cell_type": "code",
   "execution_count": 11,
   "metadata": {},
   "outputs": [
    {
     "data": {
      "text/plain": [
       "[6, 18, 28, 56, 62, 66, 69, 70, 71, 96]"
      ]
     },
     "execution_count": 11,
     "metadata": {},
     "output_type": "execute_result"
    }
   ],
   "source": [
    "import random\n",
    "\n",
    "data_list = random.sample(range(100), 10)\n",
    "\n",
    "qsort(data_list)"
   ]
  },
  {
   "cell_type": "code",
   "execution_count": 6,
   "metadata": {},
   "outputs": [],
   "source": [
    "def qsort(data):\n",
    "    if len(data) <= 1:\n",
    "        return data\n",
    "    left, right = list(), list()\n",
    "    pivot = data[0]\n",
    "    \n",
    "    left = [item for item in data[1:] if pivot > item]\n",
    "    right = [item for item in data[1:] if pivot <=item]\n",
    "    \n",
    "    return qsort(left) + [pivot] + qsort(right)"
   ]
  },
  {
   "cell_type": "code",
   "execution_count": 9,
   "metadata": {},
   "outputs": [
    {
     "data": {
      "text/plain": [
       "[4, 27, 28, 36, 51, 61, 62, 67, 69, 76]"
      ]
     },
     "execution_count": 9,
     "metadata": {},
     "output_type": "execute_result"
    }
   ],
   "source": [
    "import random\n",
    "\n",
    "data_list = random.sample(range(100), 10)\n",
    "\n",
    "qsort(data_list)"
   ]
  },
  {
   "cell_type": "code",
   "execution_count": 20,
   "metadata": {},
   "outputs": [],
   "source": [
    "# 병합정렬\n",
    "\n",
    "def splitMerge(data):\n",
    "    if len(data) <= 1:\n",
    "        return data\n",
    "    medium = int(len(data) / 2)\n",
    "    left = splitMerge(data[:medium])\n",
    "    right =  splitMerge(data[medium:])\n",
    "    \n",
    "    return merge(left, right)\n",
    "\n",
    "def merge(left, right):\n",
    "    merged = list()\n",
    "    left_idx, right_idx = 0, 0\n",
    "    # left, right 둘다 남았을 때\n",
    "    while left_idx < len(left) and right_idx < len(right):\n",
    "        if left[left_idx] < right[right_idx]:\n",
    "            merged.append(left[left_idx])\n",
    "            left_idx += 1\n",
    "        else:\n",
    "            merged.append(right[right_idx])\n",
    "            right_idx += 1\n",
    "    # left만 남았을 때\n",
    "    while left_idx < len(left):\n",
    "        merged.append(left[left_idx])\n",
    "        left_idx += 1\n",
    "    # right만 남았을 때\n",
    "    while right_idx < len(right):\n",
    "        merged.append(right[right_idx])\n",
    "        right_idx += 1\n",
    "    return merged"
   ]
  },
  {
   "cell_type": "code",
   "execution_count": 24,
   "metadata": {},
   "outputs": [
    {
     "data": {
      "text/plain": [
       "[2, 3, 8, 29, 32, 34, 56, 69, 74, 96]"
      ]
     },
     "execution_count": 24,
     "metadata": {},
     "output_type": "execute_result"
    }
   ],
   "source": [
    "import random\n",
    "\n",
    "data_list = random.sample(range(1,100), 10)\n",
    "\n",
    "splitMerge(data_list)"
   ]
  },
  {
   "cell_type": "code",
   "execution_count": null,
   "metadata": {},
   "outputs": [],
   "source": []
  }
 ],
 "metadata": {
  "kernelspec": {
   "display_name": "Python 3",
   "language": "python",
   "name": "python3"
  },
  "language_info": {
   "codemirror_mode": {
    "name": "ipython",
    "version": 3
   },
   "file_extension": ".py",
   "mimetype": "text/x-python",
   "name": "python",
   "nbconvert_exporter": "python",
   "pygments_lexer": "ipython3",
   "version": "3.7.3"
  }
 },
 "nbformat": 4,
 "nbformat_minor": 4
}
