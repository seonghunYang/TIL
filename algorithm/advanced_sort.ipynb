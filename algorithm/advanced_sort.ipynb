{
 "cells": [
  {
   "cell_type": "code",
   "execution_count": 10,
   "metadata": {},
   "outputs": [],
   "source": [
    "# quicksort 조건 1. pivot 설정 후 양옆으로 배열, 2.양옆에 다시 배열 후 합치기\n",
    "\n",
    "def qsort(data):\n",
    "    if len(data) <= 1:\n",
    "        return data\n",
    "    left, right = list(), list()\n",
    "    pivot = data[0]\n",
    "    for idx in range(1, len(data)):\n",
    "        if pivot <= data[idx]:\n",
    "            right.append(data[idx])\n",
    "        else:\n",
    "            left.append(data[idx])\n",
    "    return qsort(left) + [pivot] + qsort(right)"
   ]
  },
  {
   "cell_type": "code",
   "execution_count": 11,
   "metadata": {},
   "outputs": [
    {
     "data": {
      "text/plain": [
       "[6, 18, 28, 56, 62, 66, 69, 70, 71, 96]"
      ]
     },
     "execution_count": 11,
     "metadata": {},
     "output_type": "execute_result"
    }
   ],
   "source": [
    "import random\n",
    "\n",
    "data_list = random.sample(range(100), 10)\n",
    "\n",
    "qsort(data_list)"
   ]
  },
  {
   "cell_type": "code",
   "execution_count": 6,
   "metadata": {},
   "outputs": [],
   "source": [
    "def qsort(data):\n",
    "    if len(data) <= 1:\n",
    "        return data\n",
    "    left, right = list(), list()\n",
    "    pivot = data[0]\n",
    "    \n",
    "    left = [item for item in data[1:] if pivot > item]\n",
    "    right = [item for item in data[1:] if pivot <=item]\n",
    "    \n",
    "    return qsort(left) + [pivot] + qsort(right)"
   ]
  },
  {
   "cell_type": "code",
   "execution_count": 9,
   "metadata": {},
   "outputs": [
    {
     "data": {
      "text/plain": [
       "[4, 27, 28, 36, 51, 61, 62, 67, 69, 76]"
      ]
     },
     "execution_count": 9,
     "metadata": {},
     "output_type": "execute_result"
    }
   ],
   "source": [
    "import random\n",
    "\n",
    "data_list = random.sample(range(100), 10)\n",
    "\n",
    "qsort(data_list)"
   ]
  },
  {
   "cell_type": "code",
   "execution_count": 20,
   "metadata": {},
   "outputs": [],
   "source": [
    "# 병합정렬\n",
    "\n",
    "def splitMerge(data):\n",
    "    if len(data) <= 1:\n",
    "        return data\n",
    "    medium = int(len(data) / 2)\n",
    "    left = splitMerge(data[:medium])\n",
    "    right =  splitMerge(data[medium:])\n",
    "    \n",
    "    return merge(left, right)\n",
    "\n",
    "def merge(left, right):\n",
    "    merged = list()\n",
    "    left_idx, right_idx = 0, 0\n",
    "    # left, right 둘다 남았을 때\n",
    "    while left_idx < len(left) and right_idx < len(right):\n",
    "        if left[left_idx] < right[right_idx]:\n",
    "            merged.append(left[left_idx])\n",
    "            left_idx += 1\n",
    "        else:\n",
    "            merged.append(right[right_idx])\n",
    "            right_idx += 1\n",
    "    # left만 남았을 때\n",
    "    while left_idx < len(left):\n",
    "        merged.append(left[left_idx])\n",
    "        left_idx += 1\n",
    "    # right만 남았을 때\n",
    "    while right_idx < len(right):\n",
    "        merged.append(right[right_idx])\n",
    "        right_idx += 1\n",
    "    return merged"
   ]
  },
  {
   "cell_type": "code",
   "execution_count": 24,
   "metadata": {},
   "outputs": [
    {
     "data": {
      "text/plain": [
       "[2, 3, 8, 29, 32, 34, 56, 69, 74, 96]"
      ]
     },
     "execution_count": 24,
     "metadata": {},
     "output_type": "execute_result"
    }
   ],
   "source": [
    "import random\n",
    "\n",
    "data_list = random.sample(range(1,100), 10)\n",
    "\n",
    "splitMerge(data_list)"
   ]
  },
  {
   "cell_type": "code",
   "execution_count": 89,
   "metadata": {},
   "outputs": [],
   "source": [
    "# heap 정렬\n",
    "def heapify(data, parent, max_idx):\n",
    "    left = parent * 2 + 1\n",
    "    right = parent * 2 + 2\n",
    "    #right 가 있을 경우\n",
    "    if right <= max_idx:\n",
    "        if data[left] > data[right]:\n",
    "            if data[left] > data[parent]:\n",
    "                data[parent], data[left] = data[left], data[parent]\n",
    "                heapify(data, left ,max_idx)\n",
    "            else:\n",
    "                return\n",
    "        else:\n",
    "            if data[right] > data[parent]:\n",
    "                data[parent], data[right] = data[right], data[parent]\n",
    "                heapify(data, right, max_idx)\n",
    "            else:\n",
    "                return\n",
    "    # left만 있을 경우\n",
    "    elif left <= max_idx:\n",
    "        if data[left] > data[parent]:\n",
    "            data[parent], data[left] = data[left], data[parent]\n",
    "            return\n",
    "        else:\n",
    "            return\n",
    "\n",
    "    #둘다 없을 경우\n",
    "    elif left >= len(data):\n",
    "        return "
   ]
  },
  {
   "cell_type": "code",
   "execution_count": 105,
   "metadata": {},
   "outputs": [],
   "source": [
    "def heapify(data, parent, range_idx):\n",
    "    left = parent * 2 + 1\n",
    "    right = parent * 2 + 2\n",
    "    \n",
    "    if right <= range_idx:\n",
    "        if data[left] < data[right]:\n",
    "            if data[right] > data[parent]:\n",
    "                data[right], data[parent] = data[parent], data[right]\n",
    "                heapify(data, right, range_idx)\n",
    "        else:\n",
    "            if data[left] > data[parent]:\n",
    "                data[left], data[parent] = data[parent], data[left]\n",
    "                heapify(data, left, range_idx)\n",
    "    elif left <= range_idx:\n",
    "        if data[left] > data[parent]:\n",
    "            data[left], data[parent] = data[parent], data[left]\n",
    "            heapify(data, left, range_idx)\n",
    "        "
   ]
  },
  {
   "cell_type": "code",
   "execution_count": 106,
   "metadata": {},
   "outputs": [],
   "source": [
    "def buildHeap(data):\n",
    "    max_parent_idx = int(len(data) - 1 / 2)\n",
    "    for i in range(max_parent_idx, -1, -1):\n",
    "        heapify(data, i, len(data) - 1)"
   ]
  },
  {
   "cell_type": "code",
   "execution_count": 107,
   "metadata": {},
   "outputs": [],
   "source": [
    "def heapSort(data):\n",
    "    buildHeap(data)\n",
    "    for i in range(len(data) -1 , 0, -1):\n",
    "        data[0], data[i] = data[i], data[0]\n",
    "        print(data[i])\n",
    "        heapify(data,0, i- 1)\n",
    "    return data"
   ]
  },
  {
   "cell_type": "code",
   "execution_count": 113,
   "metadata": {},
   "outputs": [
    {
     "name": "stdout",
     "output_type": "stream",
     "text": [
      "98\n",
      "97\n",
      "87\n",
      "84\n",
      "61\n",
      "47\n",
      "31\n",
      "29\n",
      "23\n"
     ]
    },
    {
     "data": {
      "text/plain": [
       "[14, 23, 29, 31, 47, 61, 84, 87, 97, 98]"
      ]
     },
     "execution_count": 113,
     "metadata": {},
     "output_type": "execute_result"
    }
   ],
   "source": [
    "import random\n",
    "\n",
    "data_list = random.sample(range(1,100), 10)\n",
    "\n",
    "heapSort(data_list)\n",
    "\n",
    "# 사용할 변수를 생각해보는 것의 중요성, 그림을 그리고 하는 것과 그냥 하는 것의 차이, \n",
    "# case 분류의 방법 , for문 분법 \n"
   ]
  },
  {
   "cell_type": "code",
   "execution_count": 135,
   "metadata": {},
   "outputs": [],
   "source": [
    "# 계수정렬\n",
    "def countingSort(data):\n",
    "    k = max(data)\n",
    "    if k > len(data):\n",
    "        return False\n",
    "    count_list = [0] * (k + 1)\n",
    "    sorted_list = [0] * len(data)\n",
    "    for i in data:\n",
    "        count_list[i] += 1\n",
    "    for i in range(1, len(count_list)):\n",
    "        count_list[i] = count_list[i-1] + count_list[i]\n",
    "    for j in data:\n",
    "        idx = count_list[j] - 1\n",
    "        count_list[j] -= 1\n",
    "        sorted_list[idx] = j\n",
    "    return sorted_list"
   ]
  },
  {
   "cell_type": "code",
   "execution_count": 136,
   "metadata": {
    "scrolled": true
   },
   "outputs": [
    {
     "data": {
      "text/plain": [
       "[1, 1, 2, 2, 2, 3, 3, 3, 4, 5, 5, 5, 6, 6, 7, 8]"
      ]
     },
     "execution_count": 136,
     "metadata": {},
     "output_type": "execute_result"
    }
   ],
   "source": [
    "countingSort([1, 3, 2, 6, 5, 3, 2, 1, 4, 2, 7, 6, 5, 8, 3, 5])"
   ]
  },
  {
   "cell_type": "code",
   "execution_count": 13,
   "metadata": {},
   "outputs": [],
   "source": [
    "def changeDigit(num, digit):\n",
    "    return (num // 10 ** (digit-1)) % 10\n",
    "\n",
    "def sortBase(data, base):\n",
    "    lists = []\n",
    "    for i in range(10):\n",
    "        lists.append([0])\n",
    "    for data_list in data:\n",
    "        for idx in range(1, len(data_list)):\n",
    "            num = changeDigit(data_list[idx], base)\n",
    "            lists[num].append(data_list[idx])\n",
    "    return lists\n",
    "\n",
    "def radixSort(data, k):\n",
    "    lists = []\n",
    "    for i in range(10):\n",
    "        lists.append([0])\n",
    "    for j in data:\n",
    "        num = changeDigit(j, 1)\n",
    "        lists[num].append(j)\n",
    "    for i in range(2, k+1):\n",
    "        lists = sortBase(lists, i)\n",
    "    sorted_list = []\n",
    "    for data_list in lists:\n",
    "        for idx in range(1, len(data_list)):\n",
    "            sorted_list.append(data_list[idx])\n",
    "    return sorted_list\n",
    "            "
   ]
  },
  {
   "cell_type": "code",
   "execution_count": 14,
   "metadata": {},
   "outputs": [
    {
     "data": {
      "text/plain": [
       "[11,\n",
       " 23,\n",
       " 31,\n",
       " 53,\n",
       " 67,\n",
       " 70,\n",
       " 77,\n",
       " 84,\n",
       " 87,\n",
       " 96,\n",
       " 104,\n",
       " 107,\n",
       " 112,\n",
       " 124,\n",
       " 143,\n",
       " 169,\n",
       " 180,\n",
       " 198,\n",
       " 200,\n",
       " 204,\n",
       " 218,\n",
       " 219,\n",
       " 229,\n",
       " 230,\n",
       " 245,\n",
       " 265,\n",
       " 269,\n",
       " 271,\n",
       " 274,\n",
       " 281,\n",
       " 284,\n",
       " 292,\n",
       " 295,\n",
       " 296,\n",
       " 301,\n",
       " 308,\n",
       " 327,\n",
       " 340,\n",
       " 360,\n",
       " 361,\n",
       " 377,\n",
       " 409,\n",
       " 423,\n",
       " 433,\n",
       " 434,\n",
       " 458,\n",
       " 465,\n",
       " 467,\n",
       " 480,\n",
       " 481,\n",
       " 485,\n",
       " 488,\n",
       " 509,\n",
       " 535,\n",
       " 559,\n",
       " 573,\n",
       " 574,\n",
       " 577,\n",
       " 591,\n",
       " 594,\n",
       " 640,\n",
       " 664,\n",
       " 666,\n",
       " 668,\n",
       " 673,\n",
       " 682,\n",
       " 692,\n",
       " 694,\n",
       " 703,\n",
       " 714,\n",
       " 716,\n",
       " 717,\n",
       " 733,\n",
       " 749,\n",
       " 764,\n",
       " 766,\n",
       " 770,\n",
       " 782,\n",
       " 818,\n",
       " 825,\n",
       " 831,\n",
       " 835,\n",
       " 836,\n",
       " 838,\n",
       " 850,\n",
       " 859,\n",
       " 909,\n",
       " 912,\n",
       " 916,\n",
       " 921,\n",
       " 935,\n",
       " 949,\n",
       " 969,\n",
       " 973,\n",
       " 980,\n",
       " 984,\n",
       " 988,\n",
       " 989,\n",
       " 992,\n",
       " 997]"
      ]
     },
     "execution_count": 14,
     "metadata": {},
     "output_type": "execute_result"
    }
   ],
   "source": [
    "import random\n",
    "\n",
    "data_list = random.sample(range(1,1000), 100)\n",
    "\n",
    "radixSort(data_list, 3)"
   ]
  },
  {
   "cell_type": "code",
   "execution_count": 153,
   "metadata": {},
   "outputs": [
    {
     "data": {
      "text/plain": [
       "7"
      ]
     },
     "execution_count": 153,
     "metadata": {},
     "output_type": "execute_result"
    }
   ],
   "source": [
    "changeDigit(73,2)"
   ]
  },
  {
   "cell_type": "code",
   "execution_count": 205,
   "metadata": {},
   "outputs": [
    {
     "data": {
      "text/plain": [
       "[[0], [0], [0, 2], [0], [0], [0], [0], [0], [0], [0]]"
      ]
     },
     "execution_count": 205,
     "metadata": {},
     "output_type": "execute_result"
    }
   ],
   "source": [
    "a = []\n",
    "b = []\n",
    "for i in range(10):\n",
    "    a.append([0])\n",
    "a[2].append(2)\n",
    "a"
   ]
  },
  {
   "cell_type": "code",
   "execution_count": 202,
   "metadata": {},
   "outputs": [
    {
     "data": {
      "text/plain": [
       "[[0, 1], [0, 1]]"
      ]
     },
     "execution_count": 202,
     "metadata": {},
     "output_type": "execute_result"
    }
   ],
   "source": [
    "a = [[0]] * 2\n",
    "a[0].append(1)\n",
    "a"
   ]
  },
  {
   "cell_type": "code",
   "execution_count": null,
   "metadata": {},
   "outputs": [],
   "source": []
  }
 ],
 "metadata": {
  "kernelspec": {
   "display_name": "Python 3",
   "language": "python",
   "name": "python3"
  },
  "language_info": {
   "codemirror_mode": {
    "name": "ipython",
    "version": 3
   },
   "file_extension": ".py",
   "mimetype": "text/x-python",
   "name": "python",
   "nbconvert_exporter": "python",
   "pygments_lexer": "ipython3",
   "version": "3.7.3"
  }
 },
 "nbformat": 4,
 "nbformat_minor": 4
}
