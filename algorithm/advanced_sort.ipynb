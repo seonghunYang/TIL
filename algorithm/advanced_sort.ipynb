{
 "cells": [
  {
   "cell_type": "code",
   "execution_count": 10,
   "metadata": {},
   "outputs": [],
   "source": [
    "# quicksort 조건 1. pivot 설정 후 양옆으로 배열, 2.양옆에 다시 배열 후 합치기\n",
    "\n",
    "def qsort(data):\n",
    "    if len(data) <= 1:\n",
    "        return data\n",
    "    left, right = list(), list()\n",
    "    pivot = data[0]\n",
    "    for idx in range(1, len(data)):\n",
    "        if pivot <= data[idx]:\n",
    "            right.append(data[idx])\n",
    "        else:\n",
    "            left.append(data[idx])\n",
    "    return qsort(left) + [pivot] + qsort(right)"
   ]
  },
  {
   "cell_type": "code",
   "execution_count": 6,
   "metadata": {},
   "outputs": [
    {
     "data": {
      "text/plain": [
       "[25, 35, 36, 44, 52, 67, 68, 76, 90, 94]"
      ]
     },
     "execution_count": 6,
     "metadata": {},
     "output_type": "execute_result"
    }
   ],
   "source": [
    "import random\n",
    "\n",
    "data_list = random.sample(range(100), 10)\n",
    "\n",
    "qsort(data_list)"
   ]
  },
  {
   "cell_type": "code",
   "execution_count": 6,
   "metadata": {},
   "outputs": [],
   "source": [
    "def qsort(data):\n",
    "    if len(data) <= 1:\n",
    "        return data\n",
    "    left, right = list(), list()\n",
    "    pivot = data[0]\n",
    "    \n",
    "    left = [item for item in data[1:] if pivot > item]\n",
    "    right = [item for item in data[1:] if pivot <=item]\n",
    "    \n",
    "    return qsort(left) + [pivot] + qsort(right)"
   ]
  },
  {
   "cell_type": "code",
   "execution_count": 3,
   "metadata": {},
   "outputs": [],
   "source": [
    "def qsort(data):\n",
    "    if len(data) <= 1:\n",
    "        return data\n",
    "    left, right = list(), list()\n",
    "    pivot = data[-1]\n",
    "    \n",
    "    left = [item for item in data[:-1] if item < pivot]\n",
    "    right = [item for item in data[:-1] if item >= pivot]\n",
    "    \n",
    "    return qsort(left) + [pivot] + qsort(right)"
   ]
  },
  {
   "cell_type": "code",
   "execution_count": null,
   "metadata": {},
   "outputs": [],
   "source": []
  },
  {
   "cell_type": "code",
   "execution_count": 9,
   "metadata": {},
   "outputs": [
    {
     "data": {
      "text/plain": [
       "[4, 27, 28, 36, 51, 61, 62, 67, 69, 76]"
      ]
     },
     "execution_count": 9,
     "metadata": {},
     "output_type": "execute_result"
    }
   ],
   "source": [
    "import random\n",
    "\n",
    "data_list = random.sample(range(100), 10)\n",
    "\n",
    "qsort(data_list)"
   ]
  },
  {
   "cell_type": "code",
   "execution_count": 20,
   "metadata": {},
   "outputs": [],
   "source": [
    "# 병합정렬\n",
    "\n",
    "def splitMerge(data):\n",
    "    if len(data) <= 1:\n",
    "        return data\n",
    "    medium = int(len(data) / 2)\n",
    "    left = splitMerge(data[:medium])\n",
    "    right =  splitMerge(data[medium:])\n",
    "    \n",
    "    return merge(left, right)\n",
    "\n",
    "def merge(left, right):\n",
    "    merged = list()\n",
    "    left_idx, right_idx = 0, 0\n",
    "    # left, right 둘다 남았을 때\n",
    "    while left_idx < len(left) and right_idx < len(right):\n",
    "        if left[left_idx] < right[right_idx]:\n",
    "            merged.append(left[left_idx])\n",
    "            left_idx += 1\n",
    "        else:\n",
    "            merged.append(right[right_idx])\n",
    "            right_idx += 1\n",
    "    # left만 남았을 때\n",
    "    while left_idx < len(left):\n",
    "        merged.append(left[left_idx])\n",
    "        left_idx += 1\n",
    "    # right만 남았을 때\n",
    "    while right_idx < len(right):\n",
    "        merged.append(right[right_idx])\n",
    "        right_idx += 1\n",
    "    return merged"
   ]
  },
  {
   "cell_type": "code",
   "execution_count": 24,
   "metadata": {},
   "outputs": [
    {
     "data": {
      "text/plain": [
       "[2, 3, 8, 29, 32, 34, 56, 69, 74, 96]"
      ]
     },
     "execution_count": 24,
     "metadata": {},
     "output_type": "execute_result"
    }
   ],
   "source": [
    "import random\n",
    "\n",
    "data_list = random.sample(range(1,100), 10)\n",
    "\n",
    "splitMerge(data_list)"
   ]
  },
  {
   "cell_type": "code",
   "execution_count": 89,
   "metadata": {},
   "outputs": [],
   "source": [
    "# heap 정렬\n",
    "def heapify(data, parent, max_idx):\n",
    "    left = parent * 2 + 1\n",
    "    right = parent * 2 + 2\n",
    "    #right 가 있을 경우\n",
    "    if right <= max_idx:\n",
    "        if data[left] > data[right]:\n",
    "            if data[left] > data[parent]:\n",
    "                data[parent], data[left] = data[left], data[parent]\n",
    "                heapify(data, left ,max_idx)\n",
    "            else:\n",
    "                return\n",
    "        else:\n",
    "            if data[right] > data[parent]:\n",
    "                data[parent], data[right] = data[right], data[parent]\n",
    "                heapify(data, right, max_idx)\n",
    "            else:\n",
    "                return\n",
    "    # left만 있을 경우\n",
    "    elif left <= max_idx:\n",
    "        if data[left] > data[parent]:\n",
    "            data[parent], data[left] = data[left], data[parent]\n",
    "            return\n",
    "        else:\n",
    "            return\n",
    "\n",
    "    #둘다 없을 경우\n",
    "    elif left >= len(data):\n",
    "        return "
   ]
  },
  {
   "cell_type": "code",
   "execution_count": 105,
   "metadata": {},
   "outputs": [],
   "source": [
    "def heapify(data, parent, range_idx):\n",
    "    left = parent * 2 + 1\n",
    "    right = parent * 2 + 2\n",
    "    \n",
    "    if right <= range_idx:\n",
    "        if data[left] < data[right]:\n",
    "            if data[right] > data[parent]:\n",
    "                data[right], data[parent] = data[parent], data[right]\n",
    "                heapify(data, right, range_idx)\n",
    "        else:\n",
    "            if data[left] > data[parent]:\n",
    "                data[left], data[parent] = data[parent], data[left]\n",
    "                heapify(data, left, range_idx)\n",
    "    elif left <= range_idx:\n",
    "        if data[left] > data[parent]:\n",
    "            data[left], data[parent] = data[parent], data[left]\n",
    "            heapify(data, left, range_idx)\n",
    "        "
   ]
  },
  {
   "cell_type": "code",
   "execution_count": 15,
   "metadata": {},
   "outputs": [],
   "source": [
    "def heapify(data, parent, range_idx):\n",
    "    left = parent * 2 + 1\n",
    "    right = parent * 2 + 2\n",
    "    \n",
    "    if right <= range_idx:\n",
    "        if data[left] > data[right]:\n",
    "            max_idx = left\n",
    "        else:\n",
    "            max_idx = right\n",
    "        if data[max_idx] > data[parent]:\n",
    "            data[parent], data[max_idx] = data[max_idx], data[parent]\n",
    "            heapify(data, max_idx, range_idx)\n",
    "    elif left <= range_idx:\n",
    "        if data[left] > data[parent]:\n",
    "            data[parent], data[left] = data[left], data[parent]\n",
    "            heapify(data, left, range_idx)\n",
    "        else:\n",
    "            return\n",
    "    elif left > range_idx:\n",
    "        return"
   ]
  },
  {
   "cell_type": "code",
   "execution_count": 16,
   "metadata": {},
   "outputs": [],
   "source": [
    "def buildHeap(data):\n",
    "    max_parent_idx = int(len(data) - 1 / 2)\n",
    "    for i in range(max_parent_idx, -1, -1):\n",
    "        heapify(data, i, len(data) - 1)"
   ]
  },
  {
   "cell_type": "code",
   "execution_count": 17,
   "metadata": {},
   "outputs": [],
   "source": [
    "def heapSort(data):\n",
    "    buildHeap(data)\n",
    "    for i in range(len(data) -1 , 0, -1):\n",
    "        data[0], data[i] = data[i], data[0]\n",
    "        print(data[i])\n",
    "        heapify(data,0, i- 1)\n",
    "    return data"
   ]
  },
  {
   "cell_type": "code",
   "execution_count": 20,
   "metadata": {},
   "outputs": [
    {
     "name": "stdout",
     "output_type": "stream",
     "text": [
      "88\n",
      "75\n",
      "68\n",
      "56\n",
      "51\n",
      "41\n",
      "26\n",
      "21\n",
      "20\n"
     ]
    },
    {
     "data": {
      "text/plain": [
       "[1, 20, 21, 26, 41, 51, 56, 68, 75, 88]"
      ]
     },
     "execution_count": 20,
     "metadata": {},
     "output_type": "execute_result"
    }
   ],
   "source": [
    "import random\n",
    "\n",
    "data_list = random.sample(range(1,100), 10)\n",
    "\n",
    "heapSort(data_list)\n",
    "\n",
    "# 사용할 변수를 생각해보는 것의 중요성, 그림을 그리고 하는 것과 그냥 하는 것의 차이, \n",
    "# case 분류의 방법 , for문 분법 \n"
   ]
  },
  {
   "cell_type": "code",
   "execution_count": 21,
   "metadata": {},
   "outputs": [],
   "source": [
    "# 계수정렬\n",
    "def countingSort(data):\n",
    "    k = max(data)\n",
    "    if k > len(data):\n",
    "        return False\n",
    "    count_list = [0] * (k + 1)\n",
    "    sorted_list = [0] * len(data)\n",
    "    for i in data:\n",
    "        count_list[i] += 1\n",
    "    for i in range(1, len(count_list)):\n",
    "        count_list[i] = count_list[i-1] + count_list[i]\n",
    "    for j in data:\n",
    "        idx = count_list[j] - 1\n",
    "        count_list[j] -= 1\n",
    "        sorted_list[idx] = j\n",
    "    return sorted_list"
   ]
  },
  {
   "cell_type": "code",
   "execution_count": 22,
   "metadata": {
    "scrolled": true
   },
   "outputs": [
    {
     "data": {
      "text/plain": [
       "[1, 1, 2, 2, 2, 3, 3, 3, 4, 5, 5, 5, 6, 6, 7, 8]"
      ]
     },
     "execution_count": 22,
     "metadata": {},
     "output_type": "execute_result"
    }
   ],
   "source": [
    "countingSort([1, 3, 2, 6, 5, 3, 2, 1, 4, 2, 7, 6, 5, 8, 3, 5])"
   ]
  },
  {
   "cell_type": "code",
   "execution_count": 23,
   "metadata": {},
   "outputs": [],
   "source": [
    "# radix sort\n",
    "def changeDigit(num, digit):\n",
    "    return (num // 10 ** (digit-1)) % 10\n",
    "\n",
    "def sortBase(data, base):\n",
    "    lists = []\n",
    "    for i in range(10):\n",
    "        lists.append([0])\n",
    "    for data_list in data:\n",
    "        for idx in range(1, len(data_list)):\n",
    "            num = changeDigit(data_list[idx], base)\n",
    "            lists[num].append(data_list[idx])\n",
    "    return lists\n",
    "\n",
    "def radixSort(data, k):\n",
    "    lists = []\n",
    "    for i in range(10):\n",
    "        lists.append([0])\n",
    "    for j in data:\n",
    "        num = changeDigit(j, 1)\n",
    "        lists[num].append(j)\n",
    "    for i in range(2, k+1):\n",
    "        lists = sortBase(lists, i)\n",
    "    sorted_list = []\n",
    "    for data_list in lists:\n",
    "        for idx in range(1, len(data_list)):\n",
    "            sorted_list.append(data_list[idx])\n",
    "    return sorted_list\n",
    "            "
   ]
  },
  {
   "cell_type": "code",
   "execution_count": 36,
   "metadata": {},
   "outputs": [],
   "source": [
    "# counting sort를 이용한 radix sort\n",
    "def changeDigit(num, digit):\n",
    "    return (num // digit ) % 10\n",
    "\n",
    "def counting(data, digit):\n",
    "    sort_list = [0] * len(data) \n",
    "    counting_list = [0] * 10\n",
    "    \n",
    "    for el in data:\n",
    "        el = changeDigit(el, digit)\n",
    "        counting_list[el] += 1\n",
    "    \n",
    "    for i in range(1, len(counting_list)):\n",
    "        counting_list[i] += counting_list[i-1]\n",
    "    \n",
    "    for idx in range(len(data)- 1, -1, -1):\n",
    "        el = data[idx]\n",
    "        el_digit = changeDigit(el, digit)\n",
    "        print(el_digit)\n",
    "        print(counting_list[el_digit])\n",
    "        sort_list[counting_list[el_digit]] = el\n",
    "        counting_list[el_digit] -= 1\n",
    "    \n",
    "    for i in range(len(data)):\n",
    "        data[i] = sort_list[i]\n",
    "    \n",
    "def radixSort(data):\n",
    "    max_value = max(data)\n",
    "    digit = 1\n",
    "    while max_value // digit != 0 :\n",
    "        counting(data, digit)\n",
    "        digit *= 10\n",
    "        \n",
    "    return data\n",
    "    \n",
    "        "
   ]
  },
  {
   "cell_type": "code",
   "execution_count": 37,
   "metadata": {
    "scrolled": true
   },
   "outputs": [
    {
     "name": "stdout",
     "output_type": "stream",
     "text": [
      "3\n",
      "43\n",
      "2\n",
      "34\n",
      "8\n",
      "92\n",
      "0\n",
      "12\n",
      "6\n",
      "74\n",
      "9\n",
      "100\n"
     ]
    },
    {
     "ename": "IndexError",
     "evalue": "list assignment index out of range",
     "output_type": "error",
     "traceback": [
      "\u001b[1;31m---------------------------------------------------------------------------\u001b[0m",
      "\u001b[1;31mIndexError\u001b[0m                                Traceback (most recent call last)",
      "\u001b[1;32m<ipython-input-37-947f1aeb1b8e>\u001b[0m in \u001b[0;36m<module>\u001b[1;34m\u001b[0m\n\u001b[0;32m      3\u001b[0m \u001b[0mdata_list\u001b[0m \u001b[1;33m=\u001b[0m \u001b[0mrandom\u001b[0m\u001b[1;33m.\u001b[0m\u001b[0msample\u001b[0m\u001b[1;33m(\u001b[0m\u001b[0mrange\u001b[0m\u001b[1;33m(\u001b[0m\u001b[1;36m1\u001b[0m\u001b[1;33m,\u001b[0m\u001b[1;36m1000\u001b[0m\u001b[1;33m)\u001b[0m\u001b[1;33m,\u001b[0m \u001b[1;36m100\u001b[0m\u001b[1;33m)\u001b[0m\u001b[1;33m\u001b[0m\u001b[1;33m\u001b[0m\u001b[0m\n\u001b[0;32m      4\u001b[0m \u001b[1;33m\u001b[0m\u001b[0m\n\u001b[1;32m----> 5\u001b[1;33m \u001b[0mradixSort\u001b[0m\u001b[1;33m(\u001b[0m\u001b[0mdata_list\u001b[0m\u001b[1;33m)\u001b[0m\u001b[1;33m\u001b[0m\u001b[1;33m\u001b[0m\u001b[0m\n\u001b[0m",
      "\u001b[1;32m<ipython-input-36-5def6d4e62e6>\u001b[0m in \u001b[0;36mradixSort\u001b[1;34m(data)\u001b[0m\n\u001b[0;32m     29\u001b[0m     \u001b[0mdigit\u001b[0m \u001b[1;33m=\u001b[0m \u001b[1;36m1\u001b[0m\u001b[1;33m\u001b[0m\u001b[1;33m\u001b[0m\u001b[0m\n\u001b[0;32m     30\u001b[0m     \u001b[1;32mwhile\u001b[0m \u001b[0mmax_value\u001b[0m \u001b[1;33m//\u001b[0m \u001b[0mdigit\u001b[0m \u001b[1;33m!=\u001b[0m \u001b[1;36m0\u001b[0m \u001b[1;33m:\u001b[0m\u001b[1;33m\u001b[0m\u001b[1;33m\u001b[0m\u001b[0m\n\u001b[1;32m---> 31\u001b[1;33m         \u001b[0mcounting\u001b[0m\u001b[1;33m(\u001b[0m\u001b[0mdata\u001b[0m\u001b[1;33m,\u001b[0m \u001b[0mdigit\u001b[0m\u001b[1;33m)\u001b[0m\u001b[1;33m\u001b[0m\u001b[1;33m\u001b[0m\u001b[0m\n\u001b[0m\u001b[0;32m     32\u001b[0m         \u001b[0mdigit\u001b[0m \u001b[1;33m*=\u001b[0m \u001b[1;36m10\u001b[0m\u001b[1;33m\u001b[0m\u001b[1;33m\u001b[0m\u001b[0m\n\u001b[0;32m     33\u001b[0m \u001b[1;33m\u001b[0m\u001b[0m\n",
      "\u001b[1;32m<ipython-input-36-5def6d4e62e6>\u001b[0m in \u001b[0;36mcounting\u001b[1;34m(data, digit)\u001b[0m\n\u001b[0;32m     19\u001b[0m         \u001b[0mprint\u001b[0m\u001b[1;33m(\u001b[0m\u001b[0mel_digit\u001b[0m\u001b[1;33m)\u001b[0m\u001b[1;33m\u001b[0m\u001b[1;33m\u001b[0m\u001b[0m\n\u001b[0;32m     20\u001b[0m         \u001b[0mprint\u001b[0m\u001b[1;33m(\u001b[0m\u001b[0mcounting_list\u001b[0m\u001b[1;33m[\u001b[0m\u001b[0mel_digit\u001b[0m\u001b[1;33m]\u001b[0m\u001b[1;33m)\u001b[0m\u001b[1;33m\u001b[0m\u001b[1;33m\u001b[0m\u001b[0m\n\u001b[1;32m---> 21\u001b[1;33m         \u001b[0msort_list\u001b[0m\u001b[1;33m[\u001b[0m\u001b[0mcounting_list\u001b[0m\u001b[1;33m[\u001b[0m\u001b[0mel_digit\u001b[0m\u001b[1;33m]\u001b[0m\u001b[1;33m]\u001b[0m \u001b[1;33m=\u001b[0m \u001b[0mel\u001b[0m\u001b[1;33m\u001b[0m\u001b[1;33m\u001b[0m\u001b[0m\n\u001b[0m\u001b[0;32m     22\u001b[0m         \u001b[0mcounting_list\u001b[0m\u001b[1;33m[\u001b[0m\u001b[0mel_digit\u001b[0m\u001b[1;33m]\u001b[0m \u001b[1;33m-=\u001b[0m \u001b[1;36m1\u001b[0m\u001b[1;33m\u001b[0m\u001b[1;33m\u001b[0m\u001b[0m\n\u001b[0;32m     23\u001b[0m \u001b[1;33m\u001b[0m\u001b[0m\n",
      "\u001b[1;31mIndexError\u001b[0m: list assignment index out of range"
     ]
    }
   ],
   "source": [
    "import random\n",
    "\n",
    "data_list = random.sample(range(1,1000), 100)\n",
    "\n",
    "radixSort(data_list)"
   ]
  },
  {
   "cell_type": "code",
   "execution_count": 33,
   "metadata": {},
   "outputs": [
    {
     "data": {
      "text/plain": [
       "7"
      ]
     },
     "execution_count": 33,
     "metadata": {},
     "output_type": "execute_result"
    }
   ],
   "source": [
    "changeDigit(723,100)"
   ]
  },
  {
   "cell_type": "code",
   "execution_count": 25,
   "metadata": {},
   "outputs": [
    {
     "ename": "TypeError",
     "evalue": "object of type 'int' has no len()",
     "output_type": "error",
     "traceback": [
      "\u001b[1;31m---------------------------------------------------------------------------\u001b[0m",
      "\u001b[1;31mTypeError\u001b[0m                                 Traceback (most recent call last)",
      "\u001b[1;32m<ipython-input-25-dcdfae007f6f>\u001b[0m in \u001b[0;36m<module>\u001b[1;34m\u001b[0m\n\u001b[1;32m----> 1\u001b[1;33m \u001b[0mlen\u001b[0m\u001b[1;33m(\u001b[0m\u001b[1;36m369\u001b[0m\u001b[1;33m)\u001b[0m\u001b[1;33m\u001b[0m\u001b[1;33m\u001b[0m\u001b[0m\n\u001b[0m",
      "\u001b[1;31mTypeError\u001b[0m: object of type 'int' has no len()"
     ]
    }
   ],
   "source": [
    "len(369)"
   ]
  },
  {
   "cell_type": "code",
   "execution_count": null,
   "metadata": {},
   "outputs": [],
   "source": []
  }
 ],
 "metadata": {
  "kernelspec": {
   "display_name": "Python 3",
   "language": "python",
   "name": "python3"
  },
  "language_info": {
   "codemirror_mode": {
    "name": "ipython",
    "version": 3
   },
   "file_extension": ".py",
   "mimetype": "text/x-python",
   "name": "python",
   "nbconvert_exporter": "python",
   "pygments_lexer": "ipython3",
   "version": "3.7.3"
  }
 },
 "nbformat": 4,
 "nbformat_minor": 4
}
