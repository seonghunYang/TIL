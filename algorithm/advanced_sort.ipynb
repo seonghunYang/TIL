{
 "cells": [
  {
   "cell_type": "code",
   "execution_count": 10,
   "metadata": {},
   "outputs": [],
   "source": [
    "# quicksort 조건 1. pivot 설정 후 양옆으로 배열, 2.양옆에 다시 배열 후 합치기\n",
    "\n",
    "def qsort(data):\n",
    "    if len(data) <= 1:\n",
    "        return data\n",
    "    left, right = list(), list()\n",
    "    pivot = data[0]\n",
    "    for idx in range(1, len(data)):\n",
    "        if pivot <= data[idx]:\n",
    "            right.append(data[idx])\n",
    "        else:\n",
    "            left.append(data[idx])\n",
    "    return qsort(left) + [pivot] + qsort(right)"
   ]
  },
  {
   "cell_type": "code",
   "execution_count": 11,
   "metadata": {},
   "outputs": [
    {
     "data": {
      "text/plain": [
       "[6, 18, 28, 56, 62, 66, 69, 70, 71, 96]"
      ]
     },
     "execution_count": 11,
     "metadata": {},
     "output_type": "execute_result"
    }
   ],
   "source": [
    "import random\n",
    "\n",
    "data_list = random.sample(range(100), 10)\n",
    "\n",
    "qsort(data_list)"
   ]
  },
  {
   "cell_type": "code",
   "execution_count": 6,
   "metadata": {},
   "outputs": [],
   "source": [
    "def qsort(data):\n",
    "    if len(data) <= 1:\n",
    "        return data\n",
    "    left, right = list(), list()\n",
    "    pivot = data[0]\n",
    "    \n",
    "    left = [item for item in data[1:] if pivot > item]\n",
    "    right = [item for item in data[1:] if pivot <=item]\n",
    "    \n",
    "    return qsort(left) + [pivot] + qsort(right)"
   ]
  },
  {
   "cell_type": "code",
   "execution_count": 9,
   "metadata": {},
   "outputs": [
    {
     "data": {
      "text/plain": [
       "[4, 27, 28, 36, 51, 61, 62, 67, 69, 76]"
      ]
     },
     "execution_count": 9,
     "metadata": {},
     "output_type": "execute_result"
    }
   ],
   "source": [
    "import random\n",
    "\n",
    "data_list = random.sample(range(100), 10)\n",
    "\n",
    "qsort(data_list)"
   ]
  },
  {
   "cell_type": "code",
   "execution_count": 20,
   "metadata": {},
   "outputs": [],
   "source": [
    "# 병합정렬\n",
    "\n",
    "def splitMerge(data):\n",
    "    if len(data) <= 1:\n",
    "        return data\n",
    "    medium = int(len(data) / 2)\n",
    "    left = splitMerge(data[:medium])\n",
    "    right =  splitMerge(data[medium:])\n",
    "    \n",
    "    return merge(left, right)\n",
    "\n",
    "def merge(left, right):\n",
    "    merged = list()\n",
    "    left_idx, right_idx = 0, 0\n",
    "    # left, right 둘다 남았을 때\n",
    "    while left_idx < len(left) and right_idx < len(right):\n",
    "        if left[left_idx] < right[right_idx]:\n",
    "            merged.append(left[left_idx])\n",
    "            left_idx += 1\n",
    "        else:\n",
    "            merged.append(right[right_idx])\n",
    "            right_idx += 1\n",
    "    # left만 남았을 때\n",
    "    while left_idx < len(left):\n",
    "        merged.append(left[left_idx])\n",
    "        left_idx += 1\n",
    "    # right만 남았을 때\n",
    "    while right_idx < len(right):\n",
    "        merged.append(right[right_idx])\n",
    "        right_idx += 1\n",
    "    return merged"
   ]
  },
  {
   "cell_type": "code",
   "execution_count": 24,
   "metadata": {},
   "outputs": [
    {
     "data": {
      "text/plain": [
       "[2, 3, 8, 29, 32, 34, 56, 69, 74, 96]"
      ]
     },
     "execution_count": 24,
     "metadata": {},
     "output_type": "execute_result"
    }
   ],
   "source": [
    "import random\n",
    "\n",
    "data_list = random.sample(range(1,100), 10)\n",
    "\n",
    "splitMerge(data_list)"
   ]
  },
  {
   "cell_type": "code",
   "execution_count": 89,
   "metadata": {},
   "outputs": [],
   "source": [
    "# heap 정렬\n",
    "def heapify(data, parent, max_idx):\n",
    "    left = parent * 2 + 1\n",
    "    right = parent * 2 + 2\n",
    "    #right 가 있을 경우\n",
    "    if right <= max_idx:\n",
    "        if data[left] > data[right]:\n",
    "            if data[left] > data[parent]:\n",
    "                data[parent], data[left] = data[left], data[parent]\n",
    "                heapify(data, left ,max_idx)\n",
    "            else:\n",
    "                return\n",
    "        else:\n",
    "            if data[right] > data[parent]:\n",
    "                data[parent], data[right] = data[right], data[parent]\n",
    "                heapify(data, right, max_idx)\n",
    "            else:\n",
    "                return\n",
    "    # left만 있을 경우\n",
    "    elif left <= max_idx:\n",
    "        if data[left] > data[parent]:\n",
    "            data[parent], data[left] = data[left], data[parent]\n",
    "            return\n",
    "        else:\n",
    "            return\n",
    "\n",
    "    #둘다 없을 경우\n",
    "    elif left >= len(data):\n",
    "        return "
   ]
  },
  {
   "cell_type": "code",
   "execution_count": 105,
   "metadata": {},
   "outputs": [],
   "source": [
    "def heapify(data, parent, range_idx):\n",
    "    left = parent * 2 + 1\n",
    "    right = parent * 2 + 2\n",
    "    \n",
    "    if right <= range_idx:\n",
    "        if data[left] < data[right]:\n",
    "            if data[right] > data[parent]:\n",
    "                data[right], data[parent] = data[parent], data[right]\n",
    "                heapify(data, right, range_idx)\n",
    "        else:\n",
    "            if data[left] > data[parent]:\n",
    "                data[left], data[parent] = data[parent], data[left]\n",
    "                heapify(data, left, range_idx)\n",
    "    elif left <= range_idx:\n",
    "        if data[left] > data[parent]:\n",
    "            data[left], data[parent] = data[parent], data[left]\n",
    "            heapify(data, left, range_idx)\n",
    "        "
   ]
  },
  {
   "cell_type": "code",
   "execution_count": 106,
   "metadata": {},
   "outputs": [],
   "source": [
    "def buildHeap(data):\n",
    "    max_parent_idx = int(len(data) - 1 / 2)\n",
    "    for i in range(max_parent_idx, -1, -1):\n",
    "        heapify(data, i, len(data) - 1)"
   ]
  },
  {
   "cell_type": "code",
   "execution_count": 107,
   "metadata": {},
   "outputs": [],
   "source": [
    "def heapSort(data):\n",
    "    buildHeap(data)\n",
    "    for i in range(len(data) -1 , 0, -1):\n",
    "        data[0], data[i] = data[i], data[0]\n",
    "        print(data[i])\n",
    "        heapify(data,0, i- 1)\n",
    "    return data"
   ]
  },
  {
   "cell_type": "code",
   "execution_count": 113,
   "metadata": {},
   "outputs": [
    {
     "name": "stdout",
     "output_type": "stream",
     "text": [
      "98\n",
      "97\n",
      "87\n",
      "84\n",
      "61\n",
      "47\n",
      "31\n",
      "29\n",
      "23\n"
     ]
    },
    {
     "data": {
      "text/plain": [
       "[14, 23, 29, 31, 47, 61, 84, 87, 97, 98]"
      ]
     },
     "execution_count": 113,
     "metadata": {},
     "output_type": "execute_result"
    }
   ],
   "source": [
    "import random\n",
    "\n",
    "data_list = random.sample(range(1,100), 10)\n",
    "\n",
    "heapSort(data_list)\n",
    "\n",
    "# 사용할 변수를 생각해보는 것의 중요성, 그림을 그리고 하는 것과 그냥 하는 것의 차이, \n",
    "# "
   ]
  },
  {
   "cell_type": "code",
   "execution_count": null,
   "metadata": {},
   "outputs": [],
   "source": []
  }
 ],
 "metadata": {
  "kernelspec": {
   "display_name": "Python 3",
   "language": "python",
   "name": "python3"
  },
  "language_info": {
   "codemirror_mode": {
    "name": "ipython",
    "version": 3
   },
   "file_extension": ".py",
   "mimetype": "text/x-python",
   "name": "python",
   "nbconvert_exporter": "python",
   "pygments_lexer": "ipython3",
   "version": "3.7.3"
  }
 },
 "nbformat": 4,
 "nbformat_minor": 4
}
