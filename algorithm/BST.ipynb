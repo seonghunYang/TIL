{
 "cells": [
  {
   "cell_type": "code",
   "execution_count": 166,
   "metadata": {},
   "outputs": [],
   "source": [
    "# BST 재귀버전\n",
    "class Node:\n",
    "    def __init__(self, value):\n",
    "        self.value = value\n",
    "        self.left, self.right = None, None\n",
    "\n",
    "class BST:\n",
    "    def __init__(self, root):\n",
    "        self.root = root\n",
    "    \n",
    "    def search(self, node, value):\n",
    "        if node == None:\n",
    "            return False\n",
    "        \n",
    "        if node.value == value:\n",
    "            return True\n",
    "        elif node.value < value:\n",
    "            return self.search(node.right, value)\n",
    "        elif node.value > value:\n",
    "            return self.search(node.left, value)\n",
    "        \n",
    "    def insert(self, node, value):\n",
    "        if node == None:\n",
    "            node = Node(value)\n",
    "            return node\n",
    "\n",
    "        if node.value >= value:\n",
    "            node.left = self.insert(node.left, value)\n",
    "            return node\n",
    "        else:\n",
    "            node.right = self.insert(node.right,value)\n",
    "            return node\n",
    "        \n",
    "    def delete(self, node, value):\n",
    "        if node == None:\n",
    "            return False\n",
    "        # root일 경우만 가능\n",
    "        if node.value == value:\n",
    "            node.root = self.deleteNode(node)\n",
    "        elif node.value > value:\n",
    "            if not node.left:\n",
    "                return False\n",
    "            elif node.left.value == value:\n",
    "                node.left = self.deleteNode(node.left)\n",
    "            else:\n",
    "                return self.delete(node.left, value)\n",
    "        elif node.value < value:\n",
    "            if not node.right:\n",
    "                return False\n",
    "            elif node.right.value == value:\n",
    "                node.right = self.deleteNode(node.right)\n",
    "            else:\n",
    "                return self.delete(node.right, value)\n",
    "    def traversal(self, node):\n",
    "        if not node.left and not node.right:\n",
    "            print(node.value)\n",
    "            return\n",
    "        print(node.value)\n",
    "        if node.left:\n",
    "            self.traversal(node.left)\n",
    "        if node.right:\n",
    "            self.traversal(node.right)\n",
    "        return\n",
    "    \n",
    "    def deleteNode(self, node):\n",
    "        # CASE 1 삭제 노드의 자식이 없음\n",
    "        if not node.left and not node.right:\n",
    "            return None\n",
    "        # CASE 2 삭제 노드의 자식이 하나\n",
    "        if not node.left and node.right:\n",
    "            return node.right\n",
    "        elif node.left and not node.right:\n",
    "            return node.left\n",
    "        # CASE 3 삭제 노드의 자식이 둘\n",
    "        parent, right = node, node.right\n",
    "        # right의 left가 없을 경우\n",
    "        if not right.left:\n",
    "            right.left = node.left\n",
    "            return right\n",
    "        while right.left:\n",
    "            parent = right\n",
    "            right = right.left\n",
    "        if right.right:\n",
    "            parent.left = right.right\n",
    "            right.right = None\n",
    "        else:\n",
    "            parent.left = None\n",
    "        right.right = node.right\n",
    "        right.left = node.left\n",
    "        return right"
   ]
  },
  {
   "cell_type": "code",
   "execution_count": null,
   "metadata": {},
   "outputs": [],
   "source": []
  },
  {
   "cell_type": "code",
   "execution_count": null,
   "metadata": {},
   "outputs": [],
   "source": [
    "# ㅓㅁ"
   ]
  },
  {
   "cell_type": "code",
   "execution_count": 167,
   "metadata": {
    "scrolled": true
   },
   "outputs": [
    {
     "data": {
      "text/plain": [
       "True"
      ]
     },
     "execution_count": 167,
     "metadata": {},
     "output_type": "execute_result"
    }
   ],
   "source": [
    "root = Node(8)\n",
    "tree = BST(root)\n",
    "tree.insert(tree.root, 2)\n",
    "tree.insert(tree.root, 5)\n",
    "tree.insert(tree.root, 4)\n",
    "tree.insert(tree.root, 3)\n",
    "tree.insert(tree.root, 6)\n",
    "tree.insert(tree.root, 1)\n",
    "\n",
    "tree.search(tree.root, 2)"
   ]
  },
  {
   "cell_type": "code",
   "execution_count": 168,
   "metadata": {
    "scrolled": true
   },
   "outputs": [
    {
     "data": {
      "text/plain": [
       "False"
      ]
     },
     "execution_count": 168,
     "metadata": {},
     "output_type": "execute_result"
    }
   ],
   "source": [
    "tree.delete(tree.root, 2)\n",
    "tree.search(tree.root, 2)"
   ]
  },
  {
   "cell_type": "code",
   "execution_count": 169,
   "metadata": {
    "scrolled": false
   },
   "outputs": [
    {
     "name": "stdout",
     "output_type": "stream",
     "text": [
      "8\n",
      "3\n",
      "1\n",
      "5\n",
      "4\n",
      "6\n"
     ]
    }
   ],
   "source": [
    "tree.traversal(tree.root)"
   ]
  },
  {
   "cell_type": "code",
   "execution_count": 163,
   "metadata": {},
   "outputs": [],
   "source": [
    "# 0 ~ 999 숫자 중에서 임의로 100개를 추출해서, 이진 탐색 트리에 입력, 검색, 삭제\n",
    "import random\n",
    "\n",
    "# 0 ~ 999 중, 100 개의 숫자 랜덤 선택\n",
    "bst_nums = set()\n",
    "while len(bst_nums) != 100:\n",
    "    bst_nums.add(random.randint(0, 999))\n",
    "\n",
    "# 선택된 100개의 숫자를 이진 탐색 트리에 입력, 임의로 루트노드는 500을 넣기로 함\n",
    "root = Node(500)\n",
    "binary_tree = BST(root)\n",
    "for num in bst_nums:\n",
    "    binary_tree.insert(binary_tree.root, num)\n",
    "    \n",
    "# # 입력한 100개의 숫자 검색 (검색 기능 확인)\n",
    "for num in bst_nums:\n",
    "    if binary_tree.search(binary_tree.root, num) == False:\n",
    "        print ('search failed', num)\n",
    "\n",
    "# # 입력한 100개의 숫자 중 10개의 숫자를 랜덤 선택\n",
    "delete_nums = set()\n",
    "bst_nums = list(bst_nums)\n",
    "while len(delete_nums) != 10:\n",
    "    delete_nums.add(bst_nums[random.randint(0, 99)])\n",
    "\n",
    "# # 선택한 10개의 숫자를 삭제 (삭제 기능 확인)\n",
    "for del_num in delete_nums:\n",
    "    if binary_tree.delete(binary_tree.root, del_num) == False:\n",
    "        print('delete failed', del_num)"
   ]
  },
  {
   "cell_type": "code",
   "execution_count": 128,
   "metadata": {},
   "outputs": [
    {
     "data": {
      "text/plain": [
       "True"
      ]
     },
     "execution_count": 128,
     "metadata": {},
     "output_type": "execute_result"
    }
   ],
   "source": [
    "not None"
   ]
  },
  {
   "cell_type": "code",
   "execution_count": null,
   "metadata": {},
   "outputs": [],
   "source": []
  }
 ],
 "metadata": {
  "kernelspec": {
   "display_name": "Python 3",
   "language": "python",
   "name": "python3"
  },
  "language_info": {
   "codemirror_mode": {
    "name": "ipython",
    "version": 3
   },
   "file_extension": ".py",
   "mimetype": "text/x-python",
   "name": "python",
   "nbconvert_exporter": "python",
   "pygments_lexer": "ipython3",
   "version": "3.7.3"
  }
 },
 "nbformat": 4,
 "nbformat_minor": 4
}
