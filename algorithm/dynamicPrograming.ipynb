{
 "cells": [
  {
   "cell_type": "code",
   "execution_count": 1,
   "metadata": {},
   "outputs": [],
   "source": [
    "def fibo(n):\n",
    "    if n == 1 or n == 2:\n",
    "        return 1\n",
    "    return f(n-1) + f(n-2)\n",
    "\n",
    "# 엄청난 중복 호출이 존재"
   ]
  },
  {
   "cell_type": "code",
   "execution_count": 2,
   "metadata": {},
   "outputs": [],
   "source": [
    "def fiboD(n):\n",
    "    cache = [0] * n\n",
    "    cache[0] = 1\n",
    "    cache[1] = 1\n",
    "    for i in range(2, n):\n",
    "        cache[i] = cache[i-1] + cache[i-2]\n",
    "    return cache[i-2]\n",
    "\n",
    "#선형시간에 끝 "
   ]
  },
  {
   "cell_type": "code",
   "execution_count": 6,
   "metadata": {},
   "outputs": [],
   "source": [
    "# 행렬 경로 문제 재귀\n",
    "def matrix(data, i, j):\n",
    "    if i == -1 or j == -1:\n",
    "        return 0\n",
    "    return data[i][j] + max(matrix(data,i-1,j), matrix(data, i, j-1))\n"
   ]
  },
  {
   "cell_type": "code",
   "execution_count": 7,
   "metadata": {},
   "outputs": [
    {
     "data": {
      "text/plain": [
       "22"
      ]
     },
     "execution_count": 7,
     "metadata": {},
     "output_type": "execute_result"
    }
   ],
   "source": [
    "data = [[1, 2, 4], [2, 4, 8], [2, 5, 7]]\n",
    "matrix(data, 2, 2)"
   ]
  },
  {
   "cell_type": "code",
   "execution_count": 8,
   "metadata": {},
   "outputs": [],
   "source": [
    "def matrixD(data, i, j):\n",
    "    c = [[0] * (j+2) for _ in range(i+2)]\n",
    "    for n in range(1, i+2):\n",
    "        for m in range(1, j+2):\n",
    "            c[n][m] = data[n-1][m-1] + max(c[n-1][m], c[n][m-1], c[n-1][m-1])\n",
    "    return c[i+1][j+1]\n",
    "    "
   ]
  },
  {
   "cell_type": "code",
   "execution_count": 9,
   "metadata": {},
   "outputs": [
    {
     "data": {
      "text/plain": [
       "22"
      ]
     },
     "execution_count": 9,
     "metadata": {},
     "output_type": "execute_result"
    }
   ],
   "source": [
    "matrixD(data, 2, 2)"
   ]
  },
  {
   "cell_type": "code",
   "execution_count": 106,
   "metadata": {},
   "outputs": [],
   "source": [
    "#행렬 곱셈\n",
    "p =[10, 5, 20, 7, 15, 3]\n",
    "# p = [30, 35, 15, 5, 10, 20, 25]\n",
    "def matrixX(n):\n",
    "    c = [[0]*(n+1) for i in range(n+1)]\n",
    "    \n",
    "    for r in range(2, n+1):\n",
    "        for i in range(1, n-r+2):\n",
    "            j = i+r-1\n",
    "            min = 100000000\n",
    "            x = 0\n",
    "            for k in range(i, j):\n",
    "                x = c[i][k] + c[k+1][j] + p[i-1] * p[k] * p[j]\n",
    "                print(i, k, j, x)\n",
    "                if x < min:\n",
    "                    min = x\n",
    "            print(i, j, \"min\", min)\n",
    "            c[i][j] = min\n",
    "    return c[1][n]\n",
    "    "
   ]
  },
  {
   "cell_type": "code",
   "execution_count": 107,
   "metadata": {},
   "outputs": [
    {
     "name": "stdout",
     "output_type": "stream",
     "text": [
      "1 1 2 1000\n",
      "1 2 min 1000\n",
      "2 2 3 700\n",
      "2 3 min 700\n",
      "3 3 4 2100\n",
      "3 4 min 2100\n",
      "4 4 5 315\n",
      "4 5 min 315\n",
      "1 1 3 1050\n",
      "1 2 3 2400\n",
      "1 3 min 1050\n",
      "2 2 4 3600\n",
      "2 3 4 1225\n",
      "2 4 min 1225\n",
      "3 3 5 735\n",
      "3 4 5 3000\n",
      "3 5 min 735\n",
      "1 1 4 1975\n",
      "1 2 4 6100\n",
      "1 3 4 2100\n",
      "1 4 min 1975\n",
      "2 2 5 1035\n",
      "2 3 5 1120\n",
      "2 4 5 1450\n",
      "2 5 min 1035\n",
      "1 1 5 1185\n",
      "1 2 5 2335\n",
      "1 3 5 1575\n",
      "1 4 5 2425\n",
      "1 5 min 1185\n"
     ]
    },
    {
     "data": {
      "text/plain": [
       "1185"
      ]
     },
     "execution_count": 107,
     "metadata": {},
     "output_type": "execute_result"
    }
   ],
   "source": [
    "matrixX(5)"
   ]
  },
  {
   "cell_type": "code",
   "execution_count": 1,
   "metadata": {},
   "outputs": [],
   "source": [
    "# x_data = \"abcbdab\"\n",
    "# y_data = \"bdcaba\"\n",
    "x_data = \"10111010100\"\n",
    "y_data = \"00111010110\"\n",
    "def LCS(m, n):\n",
    "    c = [[0] * (n+1) for i in range(m+1)]\n",
    "    for i in range(1, m+1):\n",
    "        for j in range(1, n+1):\n",
    "            if x_data[i-1] == y_data[j-1]:\n",
    "                c[i][j] = c[i-1][j-1] + 1\n",
    "            else:\n",
    "                c[i][j] = max(c[i-1][j], c[i][j-1])\n",
    "    print(c[m][n])\n",
    "    lcs = \"\" \n",
    "    i, j = m , n\n",
    "    while i >= 1  and j >= 1:\n",
    "        if x_data[i-1] == y_data[j-1]:\n",
    "            lcs = x_data[i-1] + lcs\n",
    "            i -= 1\n",
    "            j -= 1\n",
    "        else:\n",
    "            if c[i-1][j] >= c[i][j-1]:\n",
    "                i -= 1\n",
    "            else:\n",
    "                j -= 1\n",
    "    return lcs"
   ]
  },
  {
   "cell_type": "code",
   "execution_count": 2,
   "metadata": {},
   "outputs": [
    {
     "name": "stdout",
     "output_type": "stream",
     "text": [
      "9\n"
     ]
    },
    {
     "data": {
      "text/plain": [
       "'011101010'"
      ]
     },
     "execution_count": 2,
     "metadata": {},
     "output_type": "execute_result"
    }
   ],
   "source": [
    "LCS(11, 11)"
   ]
  },
  {
   "cell_type": "code",
   "execution_count": 66,
   "metadata": {},
   "outputs": [],
   "source": [
    "Matrix = [[0]*5 for i in range(5)]\n",
    "\n"
   ]
  },
  {
   "cell_type": "code",
   "execution_count": 1,
   "metadata": {},
   "outputs": [
    {
     "ename": "SyntaxError",
     "evalue": "unexpected EOF while parsing (<ipython-input-1-06dde12d91a2>, line 10)",
     "output_type": "error",
     "traceback": [
      "\u001b[1;36m  File \u001b[1;32m\"<ipython-input-1-06dde12d91a2>\"\u001b[1;36m, line \u001b[1;32m10\u001b[0m\n\u001b[1;33m    for i in range(2, n):\u001b[0m\n\u001b[1;37m                         ^\u001b[0m\n\u001b[1;31mSyntaxError\u001b[0m\u001b[1;31m:\u001b[0m unexpected EOF while parsing\n"
     ]
    }
   ],
   "source": [
    "#백준 2748\n",
    "import sys\n",
    "input = sys.stdin.readline\n",
    "print = sys.stdout.write\n",
    "\n",
    "n = int(input())\n",
    "def fibonacci(n):\n",
    "    fibo = [0] * (n + 1)\n",
    "    fibo[0] = 0\n",
    "    fibo[1] = 1\n",
    "    for i in range(2, n + 1):\n",
    "        fibo[i] = fibo[i-1] + fibo[i-2]\n",
    "    return fibo[n]\n",
    "\n",
    "print(str(fibonacci(n)) + \" \")"
   ]
  },
  {
   "cell_type": "code",
   "execution_count": null,
   "metadata": {},
   "outputs": [],
   "source": [
    "# 1003번\n",
    "\n",
    "import sys\n",
    "input = sys.stdin.readline\n",
    "print = sys.stdout.write\n",
    "\n",
    "n = int(input())\n",
    "data = [int(input()) for _ in range(n)]\n",
    "\n",
    "cache_0 = [0] * 41\n",
    "cache_1 = [0] * 41\n",
    "\n",
    "cache_0[0] = 1\n",
    "cache_1[0] = 0\n",
    "\n",
    "cache_0[1] = 0\n",
    "cache_1[1] = 1\n",
    "\n",
    "for i in range(2, 41):\n",
    "    cache_0[i] = cache_0[i-1] + cache[i-2]\n",
    "    cache_1"
   ]
  }
 ],
 "metadata": {
  "kernelspec": {
   "display_name": "Python 3",
   "language": "python",
   "name": "python3"
  },
  "language_info": {
   "codemirror_mode": {
    "name": "ipython",
    "version": 3
   },
   "file_extension": ".py",
   "mimetype": "text/x-python",
   "name": "python",
   "nbconvert_exporter": "python",
   "pygments_lexer": "ipython3",
   "version": "3.7.3"
  }
 },
 "nbformat": 4,
 "nbformat_minor": 4
}
