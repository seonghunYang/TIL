{
 "cells": [
  {
   "cell_type": "code",
   "execution_count": null,
   "metadata": {},
   "outputs": [],
   "source": [
    "def fibo(n):\n",
    "    if n == 1 or n == 2:\n",
    "        return 1\n",
    "    return f(n-1) + f(n-2)\n",
    "\n",
    "# 엄청난 중복 호출이 존재"
   ]
  },
  {
   "cell_type": "code",
   "execution_count": null,
   "metadata": {},
   "outputs": [],
   "source": [
    "def fiboD(n):\n",
    "    cache = [0] * n\n",
    "    cache[0] = 1\n",
    "    cache[1] = 1\n",
    "    for i in range(2, n):\n",
    "        cache[i] = cache[i-1] + cache[i-2]\n",
    "    return cache[i-2]\n",
    "\n",
    "#선형시간에 끝 "
   ]
  },
  {
   "cell_type": "code",
   "execution_count": null,
   "metadata": {},
   "outputs": [],
   "source": [
    "# 행렬 경로 문제 재귀\n",
    "def matrix(data, i, j):\n",
    "    if i == -1 or j == -1:\n",
    "        return 0\n",
    "    return data[i][j] + max(matrix(data,i-1,j), matrix(data, i, j-1))\n"
   ]
  },
  {
   "cell_type": "code",
   "execution_count": null,
   "metadata": {},
   "outputs": [],
   "source": [
    "data = [[1, 2, 4], [2, 4, 8], [2, 5, 7]]\n",
    "matrix(data, 2, 2)"
   ]
  },
  {
   "cell_type": "code",
   "execution_count": null,
   "metadata": {},
   "outputs": [],
   "source": [
    "def matrixD(data, i, j):\n",
    "    c = [[0] * (j+2) for _ in range(i+2)]\n",
    "    for n in range(1, i+2):\n",
    "        for m in range(1, j+2):\n",
    "            c[n][m] = data[n-1][m-1] + max(c[n-1][m], c[n][m-1], c[n-1][m-1])\n",
    "    return c[i+1][j+1]\n",
    "    "
   ]
  },
  {
   "cell_type": "code",
   "execution_count": null,
   "metadata": {},
   "outputs": [],
   "source": [
    "matrixD(data, 2, 2)"
   ]
  },
  {
   "cell_type": "code",
   "execution_count": null,
   "metadata": {},
   "outputs": [],
   "source": [
    "#행렬 곱셈\n",
    "p =[10, 5, 20, 7, 15, 3]\n",
    "# p = [30, 35, 15, 5, 10, 20, 25]\n",
    "def matrixX(n):\n",
    "    c = [[0]*(n+1) for i in range(n+1)]\n",
    "    \n",
    "    for r in range(2, n+1):\n",
    "        for i in range(1, n-r+2):\n",
    "            j = i+r-1\n",
    "            min = 100000000\n",
    "            x = 0\n",
    "            for k in range(i, j):\n",
    "                x = c[i][k] + c[k+1][j] + p[i-1] * p[k] * p[j]\n",
    "                print(i, k, j, x)\n",
    "                if x < min:\n",
    "                    min = x\n",
    "            print(i, j, \"min\", min)\n",
    "            c[i][j] = min\n",
    "    return c[1][n]\n",
    "    "
   ]
  },
  {
   "cell_type": "code",
   "execution_count": null,
   "metadata": {},
   "outputs": [],
   "source": [
    "matrixX(5)"
   ]
  },
  {
   "cell_type": "code",
   "execution_count": null,
   "metadata": {},
   "outputs": [],
   "source": [
    "# x_data = \"abcbdab\"\n",
    "# y_data = \"bdcaba\"\n",
    "x_data = \"10111010100\"\n",
    "y_data = \"00111010110\"\n",
    "def LCS(m, n):\n",
    "    c = [[0] * (n+1) for i in range(m+1)]\n",
    "    for i in range(1, m+1):\n",
    "        for j in range(1, n+1):\n",
    "            if x_data[i-1] == y_data[j-1]:\n",
    "                c[i][j] = c[i-1][j-1] + 1\n",
    "            else:\n",
    "                c[i][j] = max(c[i-1][j], c[i][j-1])\n",
    "    print(c[m][n])\n",
    "    lcs = \"\" \n",
    "    i, j = m , n\n",
    "    while i >= 1  and j >= 1:\n",
    "        if x_data[i-1] == y_data[j-1]:\n",
    "            lcs = x_data[i-1] + lcs\n",
    "            i -= 1\n",
    "            j -= 1\n",
    "        else:\n",
    "            if c[i-1][j] >= c[i][j-1]:\n",
    "                i -= 1\n",
    "            else:\n",
    "                j -= 1\n",
    "    return lcs"
   ]
  },
  {
   "cell_type": "code",
   "execution_count": null,
   "metadata": {},
   "outputs": [],
   "source": [
    "LCS(11, 11)"
   ]
  },
  {
   "cell_type": "code",
   "execution_count": null,
   "metadata": {},
   "outputs": [],
   "source": [
    "Matrix = [[0]*5 for i in range(5)]\n",
    "\n"
   ]
  },
  {
   "cell_type": "code",
   "execution_count": null,
   "metadata": {},
   "outputs": [],
   "source": [
    "#백준 2748\n",
    "import sys\n",
    "input = sys.stdin.readline\n",
    "print = sys.stdout.write\n",
    "\n",
    "n = int(input())\n",
    "def fibonacci(n):\n",
    "    fibo = [0] * (n + 1)\n",
    "    fibo[0] = 0\n",
    "    fibo[1] = 1\n",
    "    for i in range(2, n + 1):\n",
    "        fibo[i] = fibo[i-1] + fibo[i-2]\n",
    "    return fibo[n]\n",
    "\n",
    "print(str(fibonacci(n)) + \" \")"
   ]
  },
  {
   "cell_type": "code",
   "execution_count": null,
   "metadata": {},
   "outputs": [],
   "source": [
    "# 1003번\n",
    "\n",
    "import sys\n",
    "input = sys.stdin.readline\n",
    "print = sys.stdout.write\n",
    "\n",
    "n = int(input())\n",
    "data = [int(input()) for _ in range(n)]\n",
    "\n",
    "cache_0 = [0] * 41\n",
    "cache_1 = [0] * 41\n",
    "\n",
    "cache_0[0] = 1\n",
    "cache_1[0] = 0\n",
    "\n",
    "cache_0[1] = 0\n",
    "cache_1[1] = 1\n",
    "\n",
    "for i in range(2, 41):\n",
    "    cache_0[i] = cache_0[i-1] + cache_0[i-2]\n",
    "    cache_1[i] = cache_1[i-1] + cache_1[i-2]\n",
    "    \n",
    "for i in data:\n",
    "    print(str(cache_0[i]) + \" \" + str(cache_1[i]) + \" \")"
   ]
  },
  {
   "cell_type": "code",
   "execution_count": null,
   "metadata": {},
   "outputs": [],
   "source": [
    "#12865\n",
    "import sys\n",
    "input = sys.stdin.readline\n",
    "print = sys.stdout.write\n",
    "\n",
    "n, k = map(int, input().split())\n",
    "\n",
    "cache = [[0]*(k+1) for _ in range(n+1)]\n",
    "\n",
    "for i in range(1, n+1):\n",
    "    w, v = map(int, input().split())\n",
    "    for j in range(1, k+1):\n",
    "        if w > j:\n",
    "            cache[i][j] = cache[i-1][j]\n",
    "        else:\n",
    "            cache[i][j] = max(cache[i-1][j], v + cache[i-1][j-w])\n",
    "\n",
    "print(str(cache[n][k]) + \" \")\n",
    "    \n"
   ]
  },
  {
   "cell_type": "code",
   "execution_count": null,
   "metadata": {},
   "outputs": [],
   "source": [
    "#11053\n",
    "import sys\n",
    "input = sys.stdin.readline\n",
    "print = sys.stdout.write\n",
    "\n",
    "n = int(input())\n",
    "\n",
    "data = list(map(int, input().split()))\n",
    "cache = [1] * n\n",
    "\n",
    "for i in range(1, n):\n",
    "    for j in range(i):\n",
    "        if data[i] > data[j]:\n",
    "            cache[i] = max(cache[i], cache[j] + 1)\n",
    "\n",
    "print(str(max(cache)) + \" \")"
   ]
  },
  {
   "cell_type": "code",
   "execution_count": null,
   "metadata": {},
   "outputs": [],
   "source": [
    "# 9461\n",
    "import sys\n",
    "input = sys.stdin.readline\n",
    "print = sys.stdout.write\n",
    "\n",
    "n = int(input())\n",
    "\n",
    "cache = [0] * (101)\n",
    "\n",
    "cache[1] = 1\n",
    "cache[2] = 1\n",
    "cache[3] = 1\n",
    "cache[4] = 2\n",
    "cache[5] = 2\n",
    "\n",
    "for i in range(6, 101):\n",
    "    cache[i] = cache[i-1] + cache[i-5]\n",
    "\n",
    "for _ in range(n):\n",
    "    num = int(input())\n",
    "    print(str(cache[num]) + \" \")\n",
    "    "
   ]
  },
  {
   "cell_type": "code",
   "execution_count": null,
   "metadata": {},
   "outputs": [],
   "source": [
    "import sys\n",
    "input = sys.stdin.readline\n",
    "print = sys.stdout.write\n",
    "\n",
    "n, k = map(int, input().split())\n",
    "\n",
    "cache = [[0] * (k+1) for _ in range(n+1)]\n",
    "\n",
    "for i in range(1, n+1):\n",
    "    w, v = map(int, input().split())\n",
    "    for j in range(1, k+1):\n",
    "        if w <= j:\n",
    "            cache[i][j] = max(cache[i-1][j], v + cache[i-1][j-w])\n",
    "        else:\n",
    "            cache[i][j] = cache[i-1][j]\n",
    "\n",
    "print(str(cache[n][k]) + \" \")"
   ]
  },
  {
   "cell_type": "code",
   "execution_count": null,
   "metadata": {},
   "outputs": [],
   "source": [
    "#1149\n",
    "import sys\n",
    "input = sys.stdin.readline\n",
    "print = sys.stdout.write\n",
    "\n",
    "N = int(input())\n",
    "\n",
    "cache = [[0] * (N + 1) for _ in range(3)] \n",
    "\n",
    "for j in range(1, N+1):\n",
    "    r, g, b = map(int, input().split())\n",
    "    for i in range(3):\n",
    "        if i == 0:\n",
    "            cache[i][j] = r + min(cache[1][j-1], cache[2][j-1])\n",
    "        elif i == 1:\n",
    "            cache[i][j] = g + min(cache[0][j-1], cache[2][j-1])\n",
    "        else:\n",
    "            cache[i][j] = b + min(cache[0][j-1], cache[1][j-1])\n",
    "\n",
    "print(str(min(cache[0][N], cache[1][N], cache[2][N])) + \" \")"
   ]
  },
  {
   "cell_type": "code",
   "execution_count": null,
   "metadata": {},
   "outputs": [],
   "source": [
    "import sys\n",
    "input = sys.stdin.readline\n",
    "print = sys.stdout.write\n",
    "\n",
    "N = int(input())\n",
    "\n",
    "cache = [[0] * 3  for _ in range(N+1)]\n",
    "\n",
    "for i in range(1, N+1):\n",
    "    r, g, b = map(int, input().split())\n",
    "    cache[i][0] = r + min(cache[i-1][1], cache[i-1][2])\n",
    "    cache[i][1] = g + min(cache[i-1][0], cache[i-1][2])\n",
    "    cache[i][2] = b + min(cache[i-1][0], cache[i-1][1])\n",
    "    \n",
    "print(str(min(cache[N])) + \" \")"
   ]
  },
  {
   "cell_type": "code",
   "execution_count": null,
   "metadata": {},
   "outputs": [],
   "source": [
    "#11054\n",
    "\n",
    "import sys\n",
    "input = sys.stdin.readline\n",
    "print = sys.stdout.write\n",
    "\n",
    "N = int(input())\n",
    "data = list(map(int, input().split()))\n",
    "\n",
    "up = [1] * N\n",
    "down = [1] * N\n",
    "\n",
    "for i in range(1, N):\n",
    "    for j in range(i):\n",
    "        if data[i] > data[j]:\n",
    "            up[i] = max(up[i], up[j] + 1)\n",
    "            \n",
    "for i in range(N+1, 0, -1):\n",
    "    for j in range(i+1, N):\n",
    "        if data[i] > data[j]:\n",
    "            down[i] = max(down[i], down[j] + 1)\n",
    "            \n",
    "for i in range(N):\n",
    "    up[i] = up[i] + down[i] -1 \n",
    "\n",
    "print(str(max(up)) + \" \")"
   ]
  },
  {
   "cell_type": "code",
   "execution_count": null,
   "metadata": {},
   "outputs": [],
   "source": [
    "#1932\n",
    "\n",
    "import sys\n",
    "input = sys.stdin.readline\n",
    "print = sys.stdout.write\n",
    "\n",
    "N = int(input())\n",
    "\n",
    "cache = [0] * 501\n",
    "\n",
    "for n in range(1 ,N+1):\n",
    "    data = list(map(int, input().split()))\n",
    "    \n",
    "    for i in range(n, 0, -1):\n",
    "        cache[i] = data[i-1] + max(cache[i-1], cache[i])\n",
    "print(str(max(cache)) + \" \")"
   ]
  },
  {
   "cell_type": "code",
   "execution_count": null,
   "metadata": {},
   "outputs": [],
   "source": [
    "N = int(input())\n",
    "\n",
    "cache = [0] * 501\n",
    "\n",
    "for n in range(1 ,N+1):\n",
    "    data = list(map(int, input().split()))\n",
    "    \n",
    "    for i in range(n, 0, -1):\n",
    "        cache[i] = data[i-1] + max(cache[i-1], cache[i])\n",
    "    print(cache)\n",
    "print(str(max(cache)) + \" \")"
   ]
  },
  {
   "cell_type": "code",
   "execution_count": null,
   "metadata": {},
   "outputs": [],
   "source": []
  }
 ],
 "metadata": {
  "kernelspec": {
   "display_name": "Python 3",
   "language": "python",
   "name": "python3"
  },
  "language_info": {
   "codemirror_mode": {
    "name": "ipython",
    "version": 3
   },
   "file_extension": ".py",
   "mimetype": "text/x-python",
   "name": "python",
   "nbconvert_exporter": "python",
   "pygments_lexer": "ipython3",
   "version": "3.7.3"
  }
 },
 "nbformat": 4,
 "nbformat_minor": 4
}
