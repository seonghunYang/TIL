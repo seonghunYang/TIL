{
 "cells": [
  {
   "cell_type": "code",
   "execution_count": 1,
   "metadata": {},
   "outputs": [],
   "source": [
    "def fibo(n):\n",
    "    if n == 1 or n == 2:\n",
    "        return 1\n",
    "    return f(n-1) + f(n-2)\n",
    "\n",
    "# 엄청난 중복 호출이 존재"
   ]
  },
  {
   "cell_type": "code",
   "execution_count": 2,
   "metadata": {},
   "outputs": [],
   "source": [
    "def fiboD(n):\n",
    "    cache = [0] * n\n",
    "    cache[0] = 1\n",
    "    cache[1] = 1\n",
    "    for i in range(2, n):\n",
    "        cache[i] = cache[i-1] + cache[i-2]\n",
    "    return cache[i-2]\n",
    "\n",
    "#선형시간에 끝 "
   ]
  },
  {
   "cell_type": "code",
   "execution_count": 3,
   "metadata": {},
   "outputs": [],
   "source": [
    "# 행렬 경로 문제 재귀\n",
    "def matrix(data, i, j):\n",
    "    if i == -1 or j == -1:\n",
    "        return 0\n",
    "    return data[i][j] + max(matrix(data,i-1,j), matrix(data, i, j-1))\n"
   ]
  },
  {
   "cell_type": "code",
   "execution_count": 4,
   "metadata": {},
   "outputs": [
    {
     "data": {
      "text/plain": [
       "22"
      ]
     },
     "execution_count": 4,
     "metadata": {},
     "output_type": "execute_result"
    }
   ],
   "source": [
    "data = [[1, 2, 4], [2, 4, 8], [2, 5, 7]]\n",
    "matrix(data, 2, 2)"
   ]
  },
  {
   "cell_type": "code",
   "execution_count": 11,
   "metadata": {},
   "outputs": [],
   "source": [
    "def matrixD(data, i, j):\n",
    "    c = [[0]* (j+2)] *(i+2)\n",
    "    for n in range(1, i+2):\n",
    "        for m in range(1, j+2):\n",
    "            c[n][m] = data[n-1][m-1] + max(c[n-1][m], c[n][m-1])\n",
    "    return c[i+1][j+1]\n",
    "    "
   ]
  },
  {
   "cell_type": "code",
   "execution_count": 12,
   "metadata": {},
   "outputs": [
    {
     "data": {
      "text/plain": [
       "22"
      ]
     },
     "execution_count": 12,
     "metadata": {},
     "output_type": "execute_result"
    }
   ],
   "source": [
    "matrixD(data, 2, 2)"
   ]
  },
  {
   "cell_type": "code",
   "execution_count": null,
   "metadata": {},
   "outputs": [],
   "source": []
  }
 ],
 "metadata": {
  "kernelspec": {
   "display_name": "Python 3",
   "language": "python",
   "name": "python3"
  },
  "language_info": {
   "codemirror_mode": {
    "name": "ipython",
    "version": 3
   },
   "file_extension": ".py",
   "mimetype": "text/x-python",
   "name": "python",
   "nbconvert_exporter": "python",
   "pygments_lexer": "ipython3",
   "version": "3.7.3"
  }
 },
 "nbformat": 4,
 "nbformat_minor": 4
}
