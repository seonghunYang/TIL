{
 "cells": [
  {
   "cell_type": "code",
   "execution_count": null,
   "metadata": {},
   "outputs": [],
   "source": [
    "#1904 타일\n",
    "\n",
    "import sys\n",
    "input = sys.stdin.readline\n",
    "print = sys.stdout.write\n",
    "\n",
    "n = int(input())\n",
    "\n",
    "def counting(n):\n",
    "    cache = [0 for index in range(n+1)]\n",
    "    cache[0] = 0\n",
    "    cache[1] = 1\n",
    "    cache[2] = 2\n",
    "    \n",
    "    for i in range(3, n+1):\n",
    "        cache[i] = cache[i-1] + cache[i-2]\n",
    "        \n",
    "    return cache[n]\n",
    "\n",
    "print(str(counting(n)) + \" \")"
   ]
  },
  {
   "cell_type": "code",
   "execution_count": 11,
   "metadata": {},
   "outputs": [],
   "source": [
    "def counting(n):\n",
    "    cache = [0] * 3\n",
    "    cache[0] = 0\n",
    "    cache[1] = 1\n",
    "    cache[2] = 2\n",
    "    for i in range(3, n+1):\n",
    "        if i % 2 == 1: \n",
    "            cache[1] = cache[1] + cache[2]\n",
    "        else:\n",
    "            cache[2] = cache[1] + cache[2]\n",
    "            \n",
    "    if n % 2 == 1:\n",
    "        return cache[1]\n",
    "    else:\n",
    "        return cache[2]"
   ]
  },
  {
   "cell_type": "code",
   "execution_count": 12,
   "metadata": {},
   "outputs": [
    {
     "data": {
      "text/plain": [
       "2"
      ]
     },
     "execution_count": 12,
     "metadata": {},
     "output_type": "execute_result"
    }
   ],
   "source": [
    "counting(2)"
   ]
  },
  {
   "cell_type": "code",
   "execution_count": null,
   "metadata": {},
   "outputs": [],
   "source": []
  },
  {
   "cell_type": "code",
   "execution_count": null,
   "metadata": {},
   "outputs": [],
   "source": []
  }
 ],
 "metadata": {
  "kernelspec": {
   "display_name": "Python 3",
   "language": "python",
   "name": "python3"
  },
  "language_info": {
   "codemirror_mode": {
    "name": "ipython",
    "version": 3
   },
   "file_extension": ".py",
   "mimetype": "text/x-python",
   "name": "python",
   "nbconvert_exporter": "python",
   "pygments_lexer": "ipython3",
   "version": "3.7.3"
  }
 },
 "nbformat": 4,
 "nbformat_minor": 4
}
